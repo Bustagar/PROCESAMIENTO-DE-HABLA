{
  "cells": [
    {
      "cell_type": "markdown",
      "metadata": {
        "id": "view-in-github",
        "colab_type": "text"
      },
      "source": [
        "<a href=\"https://colab.research.google.com/github/Bustagar/PROCESAMIENTO-DE-HABLA/blob/main/Desafio_3_ipynb_(Resuelto).ipynb\" target=\"_parent\"><img src=\"https://colab.research.google.com/assets/colab-badge.svg\" alt=\"Open In Colab\"/></a>"
      ]
    },
    {
      "cell_type": "markdown",
      "source": [
        "# Nombre: Sebastian Bustamante"
      ],
      "metadata": {
        "id": "ef50vuWMS17e"
      }
    },
    {
      "cell_type": "markdown",
      "metadata": {
        "id": "zq6j8LsYq1Dr"
      },
      "source": [
        "### Vectorización de texto y modelo de clasificación Naïve Bayes con el dataset 20 newsgroups"
      ]
    },
    {
      "cell_type": "code",
      "execution_count": null,
      "metadata": {
        "id": "l7cXR6CI30ry"
      },
      "outputs": [],
      "source": [
        "from sklearn.feature_extraction.text import CountVectorizer, TfidfVectorizer\n",
        "from sklearn.metrics.pairwise import cosine_similarity\n",
        "from sklearn.naive_bayes import MultinomialNB, ComplementNB\n",
        "from sklearn.metrics import f1_score\n",
        "\n",
        "# 20newsgroups por ser un dataset clásico de NLP ya viene incluido y formateado\n",
        "# en sklearn\n",
        "from sklearn.datasets import fetch_20newsgroups\n",
        "import numpy as np"
      ]
    },
    {
      "cell_type": "markdown",
      "metadata": {
        "id": "yD-pVDWV_rQc"
      },
      "source": [
        "## Carga de datos"
      ]
    },
    {
      "cell_type": "code",
      "execution_count": null,
      "metadata": {
        "id": "Ech9qJaUo9vK"
      },
      "outputs": [],
      "source": [
        "# cargamos los datos (ya separados de forma predeterminada en train y test)\n",
        "newsgroups_train = fetch_20newsgroups(subset='train', remove=('headers', 'footers', 'quotes'))\n",
        "newsgroups_test = fetch_20newsgroups(subset='test', remove=('headers', 'footers', 'quotes'))"
      ]
    },
    {
      "cell_type": "markdown",
      "metadata": {
        "id": "UxjSI7su_uWI"
      },
      "source": [
        "## Vectorización"
      ]
    },
    {
      "cell_type": "code",
      "execution_count": null,
      "metadata": {
        "id": "-94VP0QYCzDn"
      },
      "outputs": [],
      "source": [
        "# instanciamos un vectorizador\n",
        "# ver diferentes parámetros de instanciación en la documentación de sklearn\n",
        "tfidfvect = TfidfVectorizer()"
      ]
    },
    {
      "cell_type": "code",
      "execution_count": null,
      "metadata": {
        "colab": {
          "base_uri": "https://localhost:8080/",
          "height": 87
        },
        "id": "ftPlyanuak8n",
        "outputId": "744b39ac-52cd-40e7-f5b2-fb75b2a59c5f"
      },
      "outputs": [
        {
          "output_type": "execute_result",
          "data": {
            "text/plain": [
              "'I was wondering if anyone out there could enlighten me on this car I saw\\nthe other day. It was a 2-door sports car, looked to be from the late 60s/\\nearly 70s. It was called a Bricklin. The doors were really small. In addition,\\nthe front bumper was separate from the rest of the body. This is \\nall I know. If anyone can tellme a model name, engine specs, years\\nof production, where this car is made, history, or whatever info you\\nhave on this funky looking car, please e-mail.'"
            ],
            "application/vnd.google.colaboratory.intrinsic+json": {
              "type": "string"
            }
          },
          "metadata": {},
          "execution_count": 4
        }
      ],
      "source": [
        "# en el atributo `data` accedemos al texto\n",
        "newsgroups_train.data[0]"
      ]
    },
    {
      "cell_type": "code",
      "execution_count": null,
      "metadata": {
        "id": "1zxcXV6aC_oL"
      },
      "outputs": [],
      "source": [
        "# con la interfaz habitual de sklearn podemos fitear el vectorizador\n",
        "# (obtener el vocabulario y calcular el vector IDF)\n",
        "# y transformar directamente los datos\n",
        "X_train = tfidfvect.fit_transform(newsgroups_train.data)\n",
        "# `X_train` la podemos denominar como la matriz documento-término"
      ]
    },
    {
      "cell_type": "code",
      "execution_count": null,
      "metadata": {
        "colab": {
          "base_uri": "https://localhost:8080/"
        },
        "id": "4Sv7TXbda41-",
        "outputId": "42e567f1-4c1a-4f32-9643-2f843aa831eb"
      },
      "outputs": [
        {
          "output_type": "stream",
          "name": "stdout",
          "text": [
            "<class 'scipy.sparse._csr.csr_matrix'>\n",
            "shape: (11314, 101631)\n",
            "cantidad de documentos: 11314\n",
            "tamaño del vocabulario (dimensionalidad de los vectores): 101631\n"
          ]
        }
      ],
      "source": [
        "# recordar que las vectorizaciones por conteos son esparsas\n",
        "# por ello sklearn convenientemente devuelve los vectores de documentos\n",
        "# como matrices esparsas\n",
        "print(type(X_train))\n",
        "print(f'shape: {X_train.shape}')\n",
        "print(f'cantidad de documentos: {X_train.shape[0]}')\n",
        "print(f'tamaño del vocabulario (dimensionalidad de los vectores): {X_train.shape[1]}')"
      ]
    },
    {
      "cell_type": "code",
      "execution_count": null,
      "metadata": {
        "colab": {
          "base_uri": "https://localhost:8080/"
        },
        "id": "dgydNTZ2pAgR",
        "outputId": "6fb2fbb3-5163-41d0-b652-155b364c2788"
      },
      "outputs": [
        {
          "output_type": "execute_result",
          "data": {
            "text/plain": [
              "25775"
            ]
          },
          "metadata": {},
          "execution_count": 7
        }
      ],
      "source": [
        "# una vez ajustado el vectorizador, podemos acceder a atributos como el vocabulario\n",
        "# aprendido. Es un diccionario que va de términos a índices.\n",
        "# El índice es la posición en el vector de documento.\n",
        "tfidfvect.vocabulary_['car']"
      ]
    },
    {
      "cell_type": "code",
      "execution_count": null,
      "metadata": {
        "id": "xnTSZuvyrTcP"
      },
      "outputs": [],
      "source": [
        "# es muy útil tener el diccionario opuesto que va de índices a términos\n",
        "idx2word = {v: k for k,v in tfidfvect.vocabulary_.items()}"
      ]
    },
    {
      "cell_type": "code",
      "execution_count": null,
      "metadata": {
        "colab": {
          "base_uri": "https://localhost:8080/"
        },
        "id": "swa-AgWrMSHM",
        "outputId": "9ac6c8fa-d994-4287-d533-5e466a474745"
      },
      "outputs": [
        {
          "output_type": "execute_result",
          "data": {
            "text/plain": [
              "array([ 7,  4,  4,  1, 14, 16, 13,  3,  2,  4])"
            ]
          },
          "metadata": {},
          "execution_count": 9
        }
      ],
      "source": [
        "# en `y_train` guardamos los targets que son enteros\n",
        "y_train = newsgroups_train.target\n",
        "y_train[:10]"
      ]
    },
    {
      "cell_type": "code",
      "execution_count": null,
      "metadata": {
        "colab": {
          "base_uri": "https://localhost:8080/"
        },
        "id": "je5kxvQMDLvf",
        "outputId": "8b034c38-bd6f-434f-bfb2-8164df62fa91"
      },
      "outputs": [
        {
          "output_type": "stream",
          "name": "stdout",
          "text": [
            "clases [ 0  1  2  3  4  5  6  7  8  9 10 11 12 13 14 15 16 17 18 19]\n"
          ]
        },
        {
          "output_type": "execute_result",
          "data": {
            "text/plain": [
              "['alt.atheism',\n",
              " 'comp.graphics',\n",
              " 'comp.os.ms-windows.misc',\n",
              " 'comp.sys.ibm.pc.hardware',\n",
              " 'comp.sys.mac.hardware',\n",
              " 'comp.windows.x',\n",
              " 'misc.forsale',\n",
              " 'rec.autos',\n",
              " 'rec.motorcycles',\n",
              " 'rec.sport.baseball',\n",
              " 'rec.sport.hockey',\n",
              " 'sci.crypt',\n",
              " 'sci.electronics',\n",
              " 'sci.med',\n",
              " 'sci.space',\n",
              " 'soc.religion.christian',\n",
              " 'talk.politics.guns',\n",
              " 'talk.politics.mideast',\n",
              " 'talk.politics.misc',\n",
              " 'talk.religion.misc']"
            ]
          },
          "metadata": {},
          "execution_count": 10
        }
      ],
      "source": [
        "# hay 20 clases correspondientes a los 20 grupos de noticias\n",
        "print(f'clases {np.unique(newsgroups_test.target)}')\n",
        "newsgroups_test.target_names"
      ]
    },
    {
      "cell_type": "markdown",
      "metadata": {
        "id": "SXCICFSd_y90"
      },
      "source": [
        "## Similaridad de documentos"
      ]
    },
    {
      "cell_type": "code",
      "execution_count": null,
      "metadata": {
        "colab": {
          "base_uri": "https://localhost:8080/"
        },
        "id": "_pki_olShnyE",
        "outputId": "064f5769-9055-4ee9-982a-6db728b3ce7d"
      },
      "outputs": [
        {
          "output_type": "stream",
          "name": "stdout",
          "text": [
            "THE WHITE HOUSE\n",
            "\n",
            "                  Office of the Press Secretary\n",
            "                   (Pittsburgh, Pennslyvania)\n",
            "______________________________________________________________\n",
            "For Immediate Release                         April 17, 1993     \n",
            "\n",
            "             \n",
            "                  RADIO ADDRESS TO THE NATION \n",
            "                        BY THE PRESIDENT\n",
            "             \n",
            "                Pittsburgh International Airport\n",
            "                    Pittsburgh, Pennsylvania\n",
            "             \n",
            "             \n",
            "10:06 A.M. EDT\n",
            "             \n",
            "             \n",
            "             THE PRESIDENT:  Good morning.  My voice is coming to\n",
            "you this morning through the facilities of the oldest radio\n",
            "station in America, KDKA in Pittsburgh.  I'm visiting the city to\n",
            "meet personally with citizens here to discuss my plans for jobs,\n",
            "health care and the economy.  But I wanted first to do my weekly\n",
            "broadcast with the American people. \n",
            "             \n",
            "             I'm told this station first broadcast in 1920 when\n",
            "it reported that year's presidential elections.  Over the past\n",
            "seven decades presidents have found ways to keep in touch with\n",
            "the people, from whistle-stop tours to fire-side chats to the bus\n",
            "tour that I adopted, along with Vice President Gore, in last\n",
            "year's campaign.\n",
            "             \n",
            "             Every Saturday morning I take this time to talk with\n",
            "you, my fellow Americans, about the problems on your minds and\n",
            "what I'm doing to try and solve them.  It's my way of reporting\n",
            "to you and of giving you a way to hold me accountable.\n",
            "             \n",
            "             You sent me to Washington to get our government and\n",
            "economy moving after years of paralysis and policy and a bad\n",
            "experiment with trickle-down economics.  You know how important\n",
            "it is for us to make bold, comprehensive changes in the way we do\n",
            "business.  \n",
            "             \n",
            "             We live in a competitive global economy.  Nations\n",
            "rise and fall on the skills of their workers, the competitiveness\n",
            "of their companies, the imagination of their industries, and the\n",
            "cooperative experience and spirit that exists between business,\n",
            "labor and government.  Although many of the economies of the\n",
            "industrialized world are now suffering from slow growth, they've\n",
            "made many of the smart investments and the tough choices which\n",
            "our government has for too long ignored.  That's why many of them\n",
            "have been moving ahead and too many of our people have been\n",
            "falling behind.\n",
            "             \n",
            "             We have an economy today that even when it grows is\n",
            "not producing new jobs.  We've increased the debt of our nation\n",
            "by four times over the last 12 years, and we don't have much to\n",
            "show for it.  We know that wages of most working people have\n",
            "stopped rising, that most people are working longer work weeks\n",
            "and that too many families can no longer afford the escalating\n",
            "cost of health care.\n",
            "             \n",
            "             But we also know that, given the right tools, the\n",
            "right incentives and the right encouragement, our workers and\n",
            "businesses can make the kinds of products and profits our economy\n",
            "needs to expand opportunity and to make our communities better\n",
            "places to live.\n",
            "             \n",
            "             In many critical products today Americans are the\n",
            "low cost, high quality producers.  Our task is to make sure that\n",
            "we create more of those kinds of jobs.\n",
            "             \n",
            "             Just two months ago I gave Congress my plan for\n",
            "long-term jobs and economic growth.  It changes the old\n",
            "priorities in Washington and puts our emphasis where it needs to\n",
            "be -- on people's real needs, on increasing investments and jobs\n",
            "and education, on cutting the federal deficit, on stopping the\n",
            "waste which pays no dividends, and redirecting our precious\n",
            "resources toward investment that creates jobs now and lays the\n",
            "groundwork for robust economic growth in the future.\n",
            "             \n",
            "             These new directions passed the Congress in record\n",
            "time and created a new sense of hope and opportunity in our\n",
            "country.  Then the jobs plan I presented to Congress, which would\n",
            "create hundreds of thousands of jobs, most of them in the private\n",
            "sector in 1993 and 1994, passed the House of Representatives.  It\n",
            "now has the support of a majority of the United States Senate. \n",
            "But it's been held up by a filibuster of a minority in the\n",
            "Senate, just 43 senators.  They blocked a vote that they know\n",
            "would result in the passage of our bill and the creation of jobs.\n",
            "             \n",
            "             The issue isn't politics; the issue is people. \n",
            "Millions of Americans are waiting for this legislation and\n",
            "counting on it, counting on us in Washington.  But the jobs bill\n",
            "has been grounded by gridlock.  \n",
            "             \n",
            "             I know the American people are tired of business as\n",
            "usual and politics as usual.  I know they don't want us to spin\n",
            "or wheels.  They want the recovery to get moving.  So I have\n",
            "taken a first step to break this gridlock and gone the extra\n",
            "mile.  Yesterday I offered to cut the size of this plan by 25\n",
            "percent -- from $16 billion to $12 billion.  \n",
            "             \n",
            "             It's not what I'd hoped for.  With 16 million\n",
            "Americans looking for full-time work, I simply can't let the bill\n",
            "languish when I know that even a compromise bill will mean\n",
            "hundreds of thousands of jobs for our people.  The mandate is to\n",
            "act to achieve change and move the country forward.  By taking\n",
            "this initiative in the face of an unrelenting Senate talkathon, I\n",
            "think we can respond to your mandate and achieve a significant\n",
            "portion of our original goals.\n",
            "             \n",
            "             First, we want to keep the programs as much as\n",
            "possible that are needed to generate jobs and meet human needs,\n",
            "including highway and road construction, summer jobs for young\n",
            "people, immunization for children, construction of waste water\n",
            "sites, and aid to small businesses.  We also want to keep funding\n",
            "for extended unemployment compensation benefits, for people who\n",
            "have been unemployed for a long time because the economy isn't\n",
            "creating jobs.\n",
            "             \n",
            "             Second, I've recommended that all the other programs\n",
            "in the bill be cut across-the-board by a little more than 40\n",
            "percent.\n",
            "             \n",
            "             And third, I've recommended a new element in this\n",
            "program to help us immediately start our attempt to fight against\n",
            "crime by providing $200 million for cities and towns to rehire\n",
            "police officers who lost their jobs during the recession and put\n",
            "them back to work protecting our people.  I'm also going to fight\n",
            "for a tough crime bill because the people of this country need it\n",
            "and deserve it.\n",
            "             \n",
            "             Now, the people who are filibustering this bill --\n",
            "the Republican senators -- say they won't vote for it because it\n",
            "increases deficit spending, because there's extra spending this\n",
            "year that hasn't already been approved.  That sounds reasonable,\n",
            "doesn't it?  Here's what they don't say.  This program is more\n",
            "than paid for by budget cuts over my five-year budget, and this\n",
            "budget is well within the spending limits already approved by the\n",
            "Congress this year.\n",
            "             \n",
            "             It's amazing to me that many of these same senators\n",
            "who are filibustering the bill voted during the previous\n",
            "administration for billions of dollars of the same kind of\n",
            "emergency spending, and much of it was not designed to put the\n",
            "American people to work.  \n",
            "             \n",
            "             This is not about deficit spending.  We have offered\n",
            "a plan to cut the deficit.  This is about where your priorities\n",
            "are -- on people or on politics.  \n",
            "             \n",
            "             Keep in mind that our jobs bill is paid for dollar\n",
            "for dollar.  It is paid for by budget cuts.  And it's the\n",
            "soundest investment we can now make for ourselves and our\n",
            "children.  I urge all Americans to take another look at this jobs\n",
            "and investment program; to consider again the benefits for all of\n",
            "us when we've helped make more American partners working to\n",
            "ensure the future of our nation and the strength of our economy.\n",
            "             \n",
            "             You know, if every American who wanted a job had\n",
            "one, we wouldn't have a lot of the other problems we have in this\n",
            "country today.  This bill is not a miracle, it's a modest first\n",
            "step to try to set off a job creation explosion in this country\n",
            "again.  But it's a step we ought to take.  And it is fully paid\n",
            "for over the life of our budget.\n",
            "             \n",
            "             Tell your lawmakers what you think.  Tell them how\n",
            "important the bill is.  If it passes, we'll all be winners.\n",
            "             \n",
            "             Good morning, and thank you for listening.\n"
          ]
        }
      ],
      "source": [
        "# Veamos similaridad de documentos. Tomemos algún documento\n",
        "idx = 4811\n",
        "print(newsgroups_train.data[idx])"
      ]
    },
    {
      "cell_type": "code",
      "execution_count": null,
      "metadata": {
        "id": "Ssa9bqJ-hA_v"
      },
      "outputs": [],
      "source": [
        "# midamos la similaridad coseno con todos los documentos de train\n",
        "cossim = cosine_similarity(X_train[idx], X_train)[0]"
      ]
    },
    {
      "cell_type": "code",
      "execution_count": null,
      "metadata": {
        "colab": {
          "base_uri": "https://localhost:8080/"
        },
        "id": "qQWdijV_-ClO",
        "outputId": "42fc91c6-30d1-4b06-fb10-d5abb97a8baf"
      },
      "outputs": [
        {
          "output_type": "execute_result",
          "data": {
            "text/plain": [
              "array([0.1382319 , 0.1067036 , 0.23029327, ..., 0.12320753, 0.08765353,\n",
              "       0.04415046])"
            ]
          },
          "metadata": {},
          "execution_count": 13
        }
      ],
      "source": [
        "cossim"
      ]
    },
    {
      "cell_type": "code",
      "execution_count": null,
      "metadata": {
        "colab": {
          "base_uri": "https://localhost:8080/"
        },
        "id": "p_mDA7p3AzcQ",
        "outputId": "9217a470-a122-45eb-dacb-b3fec0b52879"
      },
      "outputs": [
        {
          "output_type": "execute_result",
          "data": {
            "text/plain": [
              "array([1.        , 0.70930477, 0.67474953, ..., 0.        , 0.        ,\n",
              "       0.        ])"
            ]
          },
          "metadata": {},
          "execution_count": 14
        }
      ],
      "source": [
        "# podemos ver los valores de similaridad ordenados de mayor a menos\n",
        "np.sort(cossim)[::-1]"
      ]
    },
    {
      "cell_type": "code",
      "execution_count": null,
      "metadata": {
        "colab": {
          "base_uri": "https://localhost:8080/"
        },
        "id": "0OIhDA1jAryX",
        "outputId": "7ea9b674-b6e7-4bc1-85c9-e272a769337c"
      },
      "outputs": [
        {
          "output_type": "execute_result",
          "data": {
            "text/plain": [
              "array([4811, 6635, 4253, ..., 9019, 9016, 8748])"
            ]
          },
          "metadata": {},
          "execution_count": 15
        }
      ],
      "source": [
        "# y a qué documentos corresponden\n",
        "np.argsort(cossim)[::-1]"
      ]
    },
    {
      "cell_type": "code",
      "execution_count": null,
      "metadata": {
        "id": "hP7qLS4ZBLps"
      },
      "outputs": [],
      "source": [
        "# los 5 documentos más similares:\n",
        "mostsim = np.argsort(cossim)[::-1][1:6]"
      ]
    },
    {
      "cell_type": "code",
      "execution_count": null,
      "metadata": {
        "colab": {
          "base_uri": "https://localhost:8080/",
          "height": 35
        },
        "id": "QdJLHPJACvaj",
        "outputId": "0d454342-cb7b-4764-dd72-4bf7693cefa1"
      },
      "outputs": [
        {
          "output_type": "execute_result",
          "data": {
            "text/plain": [
              "'talk.politics.misc'"
            ],
            "application/vnd.google.colaboratory.intrinsic+json": {
              "type": "string"
            }
          },
          "metadata": {},
          "execution_count": 17
        }
      ],
      "source": [
        "# el documento original pertenece a la clase:\n",
        "newsgroups_train.target_names[y_train[idx]]"
      ]
    },
    {
      "cell_type": "code",
      "execution_count": null,
      "metadata": {
        "colab": {
          "base_uri": "https://localhost:8080/"
        },
        "id": "RWy_73epCbFG",
        "outputId": "9711419f-8ae8-41ec-c569-b79aefd965ec"
      },
      "outputs": [
        {
          "output_type": "stream",
          "name": "stdout",
          "text": [
            "talk.politics.misc\n",
            "talk.politics.misc\n",
            "talk.politics.misc\n",
            "talk.politics.misc\n",
            "talk.politics.misc\n"
          ]
        }
      ],
      "source": [
        "# y los 5 más similares son de las clases:\n",
        "for i in mostsim:\n",
        "  print(newsgroups_train.target_names[y_train[i]])"
      ]
    },
    {
      "cell_type": "markdown",
      "metadata": {
        "id": "zRoNnKwhBqzq"
      },
      "source": [
        "### Modelo de clasificación Naïve Bayes"
      ]
    },
    {
      "cell_type": "code",
      "execution_count": null,
      "metadata": {
        "colab": {
          "base_uri": "https://localhost:8080/",
          "height": 80
        },
        "id": "TPM0thDaLk0R",
        "outputId": "1ee229f0-d8a5-4535-d902-505995011fa5"
      },
      "outputs": [
        {
          "output_type": "execute_result",
          "data": {
            "text/plain": [
              "MultinomialNB()"
            ],
            "text/html": [
              "<style>#sk-container-id-1 {\n",
              "  /* Definition of color scheme common for light and dark mode */\n",
              "  --sklearn-color-text: #000;\n",
              "  --sklearn-color-text-muted: #666;\n",
              "  --sklearn-color-line: gray;\n",
              "  /* Definition of color scheme for unfitted estimators */\n",
              "  --sklearn-color-unfitted-level-0: #fff5e6;\n",
              "  --sklearn-color-unfitted-level-1: #f6e4d2;\n",
              "  --sklearn-color-unfitted-level-2: #ffe0b3;\n",
              "  --sklearn-color-unfitted-level-3: chocolate;\n",
              "  /* Definition of color scheme for fitted estimators */\n",
              "  --sklearn-color-fitted-level-0: #f0f8ff;\n",
              "  --sklearn-color-fitted-level-1: #d4ebff;\n",
              "  --sklearn-color-fitted-level-2: #b3dbfd;\n",
              "  --sklearn-color-fitted-level-3: cornflowerblue;\n",
              "\n",
              "  /* Specific color for light theme */\n",
              "  --sklearn-color-text-on-default-background: var(--sg-text-color, var(--theme-code-foreground, var(--jp-content-font-color1, black)));\n",
              "  --sklearn-color-background: var(--sg-background-color, var(--theme-background, var(--jp-layout-color0, white)));\n",
              "  --sklearn-color-border-box: var(--sg-text-color, var(--theme-code-foreground, var(--jp-content-font-color1, black)));\n",
              "  --sklearn-color-icon: #696969;\n",
              "\n",
              "  @media (prefers-color-scheme: dark) {\n",
              "    /* Redefinition of color scheme for dark theme */\n",
              "    --sklearn-color-text-on-default-background: var(--sg-text-color, var(--theme-code-foreground, var(--jp-content-font-color1, white)));\n",
              "    --sklearn-color-background: var(--sg-background-color, var(--theme-background, var(--jp-layout-color0, #111)));\n",
              "    --sklearn-color-border-box: var(--sg-text-color, var(--theme-code-foreground, var(--jp-content-font-color1, white)));\n",
              "    --sklearn-color-icon: #878787;\n",
              "  }\n",
              "}\n",
              "\n",
              "#sk-container-id-1 {\n",
              "  color: var(--sklearn-color-text);\n",
              "}\n",
              "\n",
              "#sk-container-id-1 pre {\n",
              "  padding: 0;\n",
              "}\n",
              "\n",
              "#sk-container-id-1 input.sk-hidden--visually {\n",
              "  border: 0;\n",
              "  clip: rect(1px 1px 1px 1px);\n",
              "  clip: rect(1px, 1px, 1px, 1px);\n",
              "  height: 1px;\n",
              "  margin: -1px;\n",
              "  overflow: hidden;\n",
              "  padding: 0;\n",
              "  position: absolute;\n",
              "  width: 1px;\n",
              "}\n",
              "\n",
              "#sk-container-id-1 div.sk-dashed-wrapped {\n",
              "  border: 1px dashed var(--sklearn-color-line);\n",
              "  margin: 0 0.4em 0.5em 0.4em;\n",
              "  box-sizing: border-box;\n",
              "  padding-bottom: 0.4em;\n",
              "  background-color: var(--sklearn-color-background);\n",
              "}\n",
              "\n",
              "#sk-container-id-1 div.sk-container {\n",
              "  /* jupyter's `normalize.less` sets `[hidden] { display: none; }`\n",
              "     but bootstrap.min.css set `[hidden] { display: none !important; }`\n",
              "     so we also need the `!important` here to be able to override the\n",
              "     default hidden behavior on the sphinx rendered scikit-learn.org.\n",
              "     See: https://github.com/scikit-learn/scikit-learn/issues/21755 */\n",
              "  display: inline-block !important;\n",
              "  position: relative;\n",
              "}\n",
              "\n",
              "#sk-container-id-1 div.sk-text-repr-fallback {\n",
              "  display: none;\n",
              "}\n",
              "\n",
              "div.sk-parallel-item,\n",
              "div.sk-serial,\n",
              "div.sk-item {\n",
              "  /* draw centered vertical line to link estimators */\n",
              "  background-image: linear-gradient(var(--sklearn-color-text-on-default-background), var(--sklearn-color-text-on-default-background));\n",
              "  background-size: 2px 100%;\n",
              "  background-repeat: no-repeat;\n",
              "  background-position: center center;\n",
              "}\n",
              "\n",
              "/* Parallel-specific style estimator block */\n",
              "\n",
              "#sk-container-id-1 div.sk-parallel-item::after {\n",
              "  content: \"\";\n",
              "  width: 100%;\n",
              "  border-bottom: 2px solid var(--sklearn-color-text-on-default-background);\n",
              "  flex-grow: 1;\n",
              "}\n",
              "\n",
              "#sk-container-id-1 div.sk-parallel {\n",
              "  display: flex;\n",
              "  align-items: stretch;\n",
              "  justify-content: center;\n",
              "  background-color: var(--sklearn-color-background);\n",
              "  position: relative;\n",
              "}\n",
              "\n",
              "#sk-container-id-1 div.sk-parallel-item {\n",
              "  display: flex;\n",
              "  flex-direction: column;\n",
              "}\n",
              "\n",
              "#sk-container-id-1 div.sk-parallel-item:first-child::after {\n",
              "  align-self: flex-end;\n",
              "  width: 50%;\n",
              "}\n",
              "\n",
              "#sk-container-id-1 div.sk-parallel-item:last-child::after {\n",
              "  align-self: flex-start;\n",
              "  width: 50%;\n",
              "}\n",
              "\n",
              "#sk-container-id-1 div.sk-parallel-item:only-child::after {\n",
              "  width: 0;\n",
              "}\n",
              "\n",
              "/* Serial-specific style estimator block */\n",
              "\n",
              "#sk-container-id-1 div.sk-serial {\n",
              "  display: flex;\n",
              "  flex-direction: column;\n",
              "  align-items: center;\n",
              "  background-color: var(--sklearn-color-background);\n",
              "  padding-right: 1em;\n",
              "  padding-left: 1em;\n",
              "}\n",
              "\n",
              "\n",
              "/* Toggleable style: style used for estimator/Pipeline/ColumnTransformer box that is\n",
              "clickable and can be expanded/collapsed.\n",
              "- Pipeline and ColumnTransformer use this feature and define the default style\n",
              "- Estimators will overwrite some part of the style using the `sk-estimator` class\n",
              "*/\n",
              "\n",
              "/* Pipeline and ColumnTransformer style (default) */\n",
              "\n",
              "#sk-container-id-1 div.sk-toggleable {\n",
              "  /* Default theme specific background. It is overwritten whether we have a\n",
              "  specific estimator or a Pipeline/ColumnTransformer */\n",
              "  background-color: var(--sklearn-color-background);\n",
              "}\n",
              "\n",
              "/* Toggleable label */\n",
              "#sk-container-id-1 label.sk-toggleable__label {\n",
              "  cursor: pointer;\n",
              "  display: flex;\n",
              "  width: 100%;\n",
              "  margin-bottom: 0;\n",
              "  padding: 0.5em;\n",
              "  box-sizing: border-box;\n",
              "  text-align: center;\n",
              "  align-items: start;\n",
              "  justify-content: space-between;\n",
              "  gap: 0.5em;\n",
              "}\n",
              "\n",
              "#sk-container-id-1 label.sk-toggleable__label .caption {\n",
              "  font-size: 0.6rem;\n",
              "  font-weight: lighter;\n",
              "  color: var(--sklearn-color-text-muted);\n",
              "}\n",
              "\n",
              "#sk-container-id-1 label.sk-toggleable__label-arrow:before {\n",
              "  /* Arrow on the left of the label */\n",
              "  content: \"▸\";\n",
              "  float: left;\n",
              "  margin-right: 0.25em;\n",
              "  color: var(--sklearn-color-icon);\n",
              "}\n",
              "\n",
              "#sk-container-id-1 label.sk-toggleable__label-arrow:hover:before {\n",
              "  color: var(--sklearn-color-text);\n",
              "}\n",
              "\n",
              "/* Toggleable content - dropdown */\n",
              "\n",
              "#sk-container-id-1 div.sk-toggleable__content {\n",
              "  max-height: 0;\n",
              "  max-width: 0;\n",
              "  overflow: hidden;\n",
              "  text-align: left;\n",
              "  /* unfitted */\n",
              "  background-color: var(--sklearn-color-unfitted-level-0);\n",
              "}\n",
              "\n",
              "#sk-container-id-1 div.sk-toggleable__content.fitted {\n",
              "  /* fitted */\n",
              "  background-color: var(--sklearn-color-fitted-level-0);\n",
              "}\n",
              "\n",
              "#sk-container-id-1 div.sk-toggleable__content pre {\n",
              "  margin: 0.2em;\n",
              "  border-radius: 0.25em;\n",
              "  color: var(--sklearn-color-text);\n",
              "  /* unfitted */\n",
              "  background-color: var(--sklearn-color-unfitted-level-0);\n",
              "}\n",
              "\n",
              "#sk-container-id-1 div.sk-toggleable__content.fitted pre {\n",
              "  /* unfitted */\n",
              "  background-color: var(--sklearn-color-fitted-level-0);\n",
              "}\n",
              "\n",
              "#sk-container-id-1 input.sk-toggleable__control:checked~div.sk-toggleable__content {\n",
              "  /* Expand drop-down */\n",
              "  max-height: 200px;\n",
              "  max-width: 100%;\n",
              "  overflow: auto;\n",
              "}\n",
              "\n",
              "#sk-container-id-1 input.sk-toggleable__control:checked~label.sk-toggleable__label-arrow:before {\n",
              "  content: \"▾\";\n",
              "}\n",
              "\n",
              "/* Pipeline/ColumnTransformer-specific style */\n",
              "\n",
              "#sk-container-id-1 div.sk-label input.sk-toggleable__control:checked~label.sk-toggleable__label {\n",
              "  color: var(--sklearn-color-text);\n",
              "  background-color: var(--sklearn-color-unfitted-level-2);\n",
              "}\n",
              "\n",
              "#sk-container-id-1 div.sk-label.fitted input.sk-toggleable__control:checked~label.sk-toggleable__label {\n",
              "  background-color: var(--sklearn-color-fitted-level-2);\n",
              "}\n",
              "\n",
              "/* Estimator-specific style */\n",
              "\n",
              "/* Colorize estimator box */\n",
              "#sk-container-id-1 div.sk-estimator input.sk-toggleable__control:checked~label.sk-toggleable__label {\n",
              "  /* unfitted */\n",
              "  background-color: var(--sklearn-color-unfitted-level-2);\n",
              "}\n",
              "\n",
              "#sk-container-id-1 div.sk-estimator.fitted input.sk-toggleable__control:checked~label.sk-toggleable__label {\n",
              "  /* fitted */\n",
              "  background-color: var(--sklearn-color-fitted-level-2);\n",
              "}\n",
              "\n",
              "#sk-container-id-1 div.sk-label label.sk-toggleable__label,\n",
              "#sk-container-id-1 div.sk-label label {\n",
              "  /* The background is the default theme color */\n",
              "  color: var(--sklearn-color-text-on-default-background);\n",
              "}\n",
              "\n",
              "/* On hover, darken the color of the background */\n",
              "#sk-container-id-1 div.sk-label:hover label.sk-toggleable__label {\n",
              "  color: var(--sklearn-color-text);\n",
              "  background-color: var(--sklearn-color-unfitted-level-2);\n",
              "}\n",
              "\n",
              "/* Label box, darken color on hover, fitted */\n",
              "#sk-container-id-1 div.sk-label.fitted:hover label.sk-toggleable__label.fitted {\n",
              "  color: var(--sklearn-color-text);\n",
              "  background-color: var(--sklearn-color-fitted-level-2);\n",
              "}\n",
              "\n",
              "/* Estimator label */\n",
              "\n",
              "#sk-container-id-1 div.sk-label label {\n",
              "  font-family: monospace;\n",
              "  font-weight: bold;\n",
              "  display: inline-block;\n",
              "  line-height: 1.2em;\n",
              "}\n",
              "\n",
              "#sk-container-id-1 div.sk-label-container {\n",
              "  text-align: center;\n",
              "}\n",
              "\n",
              "/* Estimator-specific */\n",
              "#sk-container-id-1 div.sk-estimator {\n",
              "  font-family: monospace;\n",
              "  border: 1px dotted var(--sklearn-color-border-box);\n",
              "  border-radius: 0.25em;\n",
              "  box-sizing: border-box;\n",
              "  margin-bottom: 0.5em;\n",
              "  /* unfitted */\n",
              "  background-color: var(--sklearn-color-unfitted-level-0);\n",
              "}\n",
              "\n",
              "#sk-container-id-1 div.sk-estimator.fitted {\n",
              "  /* fitted */\n",
              "  background-color: var(--sklearn-color-fitted-level-0);\n",
              "}\n",
              "\n",
              "/* on hover */\n",
              "#sk-container-id-1 div.sk-estimator:hover {\n",
              "  /* unfitted */\n",
              "  background-color: var(--sklearn-color-unfitted-level-2);\n",
              "}\n",
              "\n",
              "#sk-container-id-1 div.sk-estimator.fitted:hover {\n",
              "  /* fitted */\n",
              "  background-color: var(--sklearn-color-fitted-level-2);\n",
              "}\n",
              "\n",
              "/* Specification for estimator info (e.g. \"i\" and \"?\") */\n",
              "\n",
              "/* Common style for \"i\" and \"?\" */\n",
              "\n",
              ".sk-estimator-doc-link,\n",
              "a:link.sk-estimator-doc-link,\n",
              "a:visited.sk-estimator-doc-link {\n",
              "  float: right;\n",
              "  font-size: smaller;\n",
              "  line-height: 1em;\n",
              "  font-family: monospace;\n",
              "  background-color: var(--sklearn-color-background);\n",
              "  border-radius: 1em;\n",
              "  height: 1em;\n",
              "  width: 1em;\n",
              "  text-decoration: none !important;\n",
              "  margin-left: 0.5em;\n",
              "  text-align: center;\n",
              "  /* unfitted */\n",
              "  border: var(--sklearn-color-unfitted-level-1) 1pt solid;\n",
              "  color: var(--sklearn-color-unfitted-level-1);\n",
              "}\n",
              "\n",
              ".sk-estimator-doc-link.fitted,\n",
              "a:link.sk-estimator-doc-link.fitted,\n",
              "a:visited.sk-estimator-doc-link.fitted {\n",
              "  /* fitted */\n",
              "  border: var(--sklearn-color-fitted-level-1) 1pt solid;\n",
              "  color: var(--sklearn-color-fitted-level-1);\n",
              "}\n",
              "\n",
              "/* On hover */\n",
              "div.sk-estimator:hover .sk-estimator-doc-link:hover,\n",
              ".sk-estimator-doc-link:hover,\n",
              "div.sk-label-container:hover .sk-estimator-doc-link:hover,\n",
              ".sk-estimator-doc-link:hover {\n",
              "  /* unfitted */\n",
              "  background-color: var(--sklearn-color-unfitted-level-3);\n",
              "  color: var(--sklearn-color-background);\n",
              "  text-decoration: none;\n",
              "}\n",
              "\n",
              "div.sk-estimator.fitted:hover .sk-estimator-doc-link.fitted:hover,\n",
              ".sk-estimator-doc-link.fitted:hover,\n",
              "div.sk-label-container:hover .sk-estimator-doc-link.fitted:hover,\n",
              ".sk-estimator-doc-link.fitted:hover {\n",
              "  /* fitted */\n",
              "  background-color: var(--sklearn-color-fitted-level-3);\n",
              "  color: var(--sklearn-color-background);\n",
              "  text-decoration: none;\n",
              "}\n",
              "\n",
              "/* Span, style for the box shown on hovering the info icon */\n",
              ".sk-estimator-doc-link span {\n",
              "  display: none;\n",
              "  z-index: 9999;\n",
              "  position: relative;\n",
              "  font-weight: normal;\n",
              "  right: .2ex;\n",
              "  padding: .5ex;\n",
              "  margin: .5ex;\n",
              "  width: min-content;\n",
              "  min-width: 20ex;\n",
              "  max-width: 50ex;\n",
              "  color: var(--sklearn-color-text);\n",
              "  box-shadow: 2pt 2pt 4pt #999;\n",
              "  /* unfitted */\n",
              "  background: var(--sklearn-color-unfitted-level-0);\n",
              "  border: .5pt solid var(--sklearn-color-unfitted-level-3);\n",
              "}\n",
              "\n",
              ".sk-estimator-doc-link.fitted span {\n",
              "  /* fitted */\n",
              "  background: var(--sklearn-color-fitted-level-0);\n",
              "  border: var(--sklearn-color-fitted-level-3);\n",
              "}\n",
              "\n",
              ".sk-estimator-doc-link:hover span {\n",
              "  display: block;\n",
              "}\n",
              "\n",
              "/* \"?\"-specific style due to the `<a>` HTML tag */\n",
              "\n",
              "#sk-container-id-1 a.estimator_doc_link {\n",
              "  float: right;\n",
              "  font-size: 1rem;\n",
              "  line-height: 1em;\n",
              "  font-family: monospace;\n",
              "  background-color: var(--sklearn-color-background);\n",
              "  border-radius: 1rem;\n",
              "  height: 1rem;\n",
              "  width: 1rem;\n",
              "  text-decoration: none;\n",
              "  /* unfitted */\n",
              "  color: var(--sklearn-color-unfitted-level-1);\n",
              "  border: var(--sklearn-color-unfitted-level-1) 1pt solid;\n",
              "}\n",
              "\n",
              "#sk-container-id-1 a.estimator_doc_link.fitted {\n",
              "  /* fitted */\n",
              "  border: var(--sklearn-color-fitted-level-1) 1pt solid;\n",
              "  color: var(--sklearn-color-fitted-level-1);\n",
              "}\n",
              "\n",
              "/* On hover */\n",
              "#sk-container-id-1 a.estimator_doc_link:hover {\n",
              "  /* unfitted */\n",
              "  background-color: var(--sklearn-color-unfitted-level-3);\n",
              "  color: var(--sklearn-color-background);\n",
              "  text-decoration: none;\n",
              "}\n",
              "\n",
              "#sk-container-id-1 a.estimator_doc_link.fitted:hover {\n",
              "  /* fitted */\n",
              "  background-color: var(--sklearn-color-fitted-level-3);\n",
              "}\n",
              "</style><div id=\"sk-container-id-1\" class=\"sk-top-container\"><div class=\"sk-text-repr-fallback\"><pre>MultinomialNB()</pre><b>In a Jupyter environment, please rerun this cell to show the HTML representation or trust the notebook. <br />On GitHub, the HTML representation is unable to render, please try loading this page with nbviewer.org.</b></div><div class=\"sk-container\" hidden><div class=\"sk-item\"><div class=\"sk-estimator fitted sk-toggleable\"><input class=\"sk-toggleable__control sk-hidden--visually\" id=\"sk-estimator-id-1\" type=\"checkbox\" checked><label for=\"sk-estimator-id-1\" class=\"sk-toggleable__label fitted sk-toggleable__label-arrow\"><div><div>MultinomialNB</div></div><div><a class=\"sk-estimator-doc-link fitted\" rel=\"noreferrer\" target=\"_blank\" href=\"https://scikit-learn.org/1.6/modules/generated/sklearn.naive_bayes.MultinomialNB.html\">?<span>Documentation for MultinomialNB</span></a><span class=\"sk-estimator-doc-link fitted\">i<span>Fitted</span></span></div></label><div class=\"sk-toggleable__content fitted\"><pre>MultinomialNB()</pre></div> </div></div></div></div>"
            ]
          },
          "metadata": {},
          "execution_count": 19
        }
      ],
      "source": [
        "# es muy fácil instanciar un modelo de clasificación Naïve Bayes y entrenarlo con sklearn\n",
        "clf = MultinomialNB()\n",
        "clf.fit(X_train, y_train)"
      ]
    },
    {
      "cell_type": "code",
      "execution_count": null,
      "metadata": {
        "id": "NrQjzM48Mu4T"
      },
      "outputs": [],
      "source": [
        "# con nuestro vectorizador ya fiteado en train, vectorizamos los textos\n",
        "# del conjunto de test\n",
        "X_test = tfidfvect.transform(newsgroups_test.data)\n",
        "y_test = newsgroups_test.target\n",
        "y_pred =  clf.predict(X_test)"
      ]
    },
    {
      "cell_type": "code",
      "execution_count": null,
      "metadata": {
        "colab": {
          "base_uri": "https://localhost:8080/"
        },
        "id": "UkGJhetEPdA4",
        "outputId": "27e8b76c-abd4-4bd0-f2c4-95841b5c52c9"
      },
      "outputs": [
        {
          "output_type": "execute_result",
          "data": {
            "text/plain": [
              "0.5854345727938506"
            ]
          },
          "metadata": {},
          "execution_count": 21
        }
      ],
      "source": [
        "# el F1-score es una metrica adecuada para reportar desempeño de modelos de claificación\n",
        "# es robusta al desbalance de clases. El promediado 'macro' es el promedio de los\n",
        "# F1-score de cada clase. El promedio 'micro' es equivalente a la accuracy que no\n",
        "# es una buena métrica cuando los datasets son desbalanceados\n",
        "f1_score(y_test, y_pred, average='macro')"
      ]
    },
    {
      "cell_type": "markdown",
      "metadata": {
        "id": "McArD4rSDR2K"
      },
      "source": [
        "### Consigna del desafío 2"
      ]
    },
    {
      "cell_type": "markdown",
      "metadata": {
        "id": "sv8kKKGnqBkf"
      },
      "source": []
    },
    {
      "cell_type": "markdown",
      "metadata": {
        "id": "lJgf6GQIIEH1"
      },
      "source": [
        "**1**. Vectorizar documentos. Tomar 5 documentos al azar y medir similaridad con el resto de los documentos.\n",
        "Estudiar los 5 documentos más similares de cada uno analizar si tiene sentido\n",
        "la similaridad según el contenido del texto y la etiqueta de clasificación.\n",
        "\n"
      ]
    },
    {
      "cell_type": "markdown",
      "source": [
        "## Importación de librerías"
      ],
      "metadata": {
        "id": "Gy3qaFn4wPVc"
      }
    },
    {
      "cell_type": "code",
      "source": [
        "from sklearn.feature_extraction.text import CountVectorizer, TfidfVectorizer\n",
        "from sklearn.metrics.pairwise import cosine_similarity\n",
        "from sklearn.naive_bayes import MultinomialNB, ComplementNB\n",
        "from sklearn.metrics import f1_score\n",
        "\n",
        "# 20newsgroups por ser un dataset clásico de NLP ya viene incluido y formateado\n",
        "# en sklearn\n",
        "from sklearn.datasets import fetch_20newsgroups\n",
        "import numpy as np\n",
        "\n"
      ],
      "metadata": {
        "id": "5IfuGK9_tvbW"
      },
      "execution_count": 155,
      "outputs": []
    },
    {
      "cell_type": "markdown",
      "source": [
        "## Carga de datos"
      ],
      "metadata": {
        "id": "mKf61NYRwCry"
      }
    },
    {
      "cell_type": "code",
      "source": [
        "# cargamos los datos (ya separados de forma predeterminada en train y test)\n",
        "newsgroups_train = fetch_20newsgroups(subset='train', remove=('headers', 'footers', 'quotes'))\n",
        "newsgroups_test = fetch_20newsgroups(subset='test', remove=('headers', 'footers', 'quotes'))"
      ],
      "metadata": {
        "id": "piGz7hc1wCCK"
      },
      "execution_count": 156,
      "outputs": []
    },
    {
      "cell_type": "markdown",
      "source": [
        "## Vectorización"
      ],
      "metadata": {
        "id": "ARykUUOBwY_r"
      }
    },
    {
      "cell_type": "code",
      "source": [
        "tfidfvect = TfidfVectorizer()"
      ],
      "metadata": {
        "id": "sbLKqg2xwgSy"
      },
      "execution_count": 157,
      "outputs": []
    },
    {
      "cell_type": "code",
      "source": [
        "# con la interfaz habitual de sklearn podemos fitear el vectorizador\n",
        "# (obtener el vocabulario y calcular el vector IDF)\n",
        "# y transformar directamente los datos\n",
        "X_train = tfidfvect.fit_transform(newsgroups_train.data)\n",
        "# 'X_train' la podemos denominar como la matriz documento-término"
      ],
      "metadata": {
        "id": "Hbhh0H2RwlS3"
      },
      "execution_count": 159,
      "outputs": []
    },
    {
      "cell_type": "code",
      "source": [
        "# recordar que las vectorizaciones por conteos son esparsas\n",
        "# por ello sklearn convenientemente devuelve los vectores de documentos\n",
        "# como matrices esparsas\n",
        "print(type(X_train))\n",
        "print(f'shape: {X_train.shape}')\n",
        "print(f'cantidad de documentos: {X_train.shape[0]}')\n",
        "print(f'tamaño del vocabulario (dimensionalidad de los vectores): {X_train.shape[1]}')"
      ],
      "metadata": {
        "colab": {
          "base_uri": "https://localhost:8080/"
        },
        "id": "8qNulCShxi4r",
        "outputId": "d2f4593d-7189-4d69-c706-89aac211bd9a"
      },
      "execution_count": 160,
      "outputs": [
        {
          "output_type": "stream",
          "name": "stdout",
          "text": [
            "<class 'scipy.sparse._csr.csr_matrix'>\n",
            "shape: (11314, 101631)\n",
            "cantidad de documentos: 11314\n",
            "tamaño del vocabulario (dimensionalidad de los vectores): 101631\n"
          ]
        }
      ]
    },
    {
      "cell_type": "code",
      "source": [
        "# es muy útil tener el diccionario opuesto que va de índices a términos\n",
        "idx2word = {v: k for k,v in tfidfvect.vocabulary_.items()}"
      ],
      "metadata": {
        "id": "UJPbwQ4Dxt5H"
      },
      "execution_count": 163,
      "outputs": []
    },
    {
      "cell_type": "code",
      "source": [
        "# en 'y_train' guardamos los targets que son enteros\n",
        "y_train = newsgroups_train.target\n",
        "y_train[:10]"
      ],
      "metadata": {
        "colab": {
          "base_uri": "https://localhost:8080/"
        },
        "id": "eF7ADyl3x_Se",
        "outputId": "cc93ac60-55bd-4f17-ffc7-591c84e7cc1c"
      },
      "execution_count": 164,
      "outputs": [
        {
          "output_type": "execute_result",
          "data": {
            "text/plain": [
              "array([ 7,  4,  4,  1, 14, 16, 13,  3,  2,  4])"
            ]
          },
          "metadata": {},
          "execution_count": 164
        }
      ]
    },
    {
      "cell_type": "markdown",
      "source": [
        "## Similaridad de docuementos"
      ],
      "metadata": {
        "id": "wtnpIcQVyJVW"
      }
    },
    {
      "cell_type": "code",
      "source": [
        "# Semilla para reproducibilidad\n",
        "np.random.seed(40)\n",
        "\n",
        "# Seleccionar 5 documentos aleatorios\n",
        "random_docs = np.random.choice(X_train.shape[0], size=5, replace=False)\n",
        "\n",
        "# Función auxiliar para imprimir separadores\n",
        "def separator(char, length=80):\n",
        "    print(char * length)"
      ],
      "metadata": {
        "id": "e3fWeNXxv-GN"
      },
      "execution_count": 204,
      "outputs": []
    },
    {
      "cell_type": "code",
      "source": [
        "# Documentos elegidos aleatoriamente\n",
        "random_docs"
      ],
      "metadata": {
        "colab": {
          "base_uri": "https://localhost:8080/"
        },
        "id": "UKRuSdwmvB3d",
        "outputId": "6f786a60-8fdc-4982-d5ff-c9d8d2557cc8"
      },
      "execution_count": 205,
      "outputs": [
        {
          "output_type": "execute_result",
          "data": {
            "text/plain": [
              "array([5053, 6697, 4849, 2524, 3348])"
            ]
          },
          "metadata": {},
          "execution_count": 205
        }
      ]
    },
    {
      "cell_type": "code",
      "source": [
        "# Iterar sobre los documentos aleatorios\n",
        "for idx in random_docs:\n",
        "    separator('=', 80)\n",
        "    print(f'DOCUMENTO BASE (índice {idx})')\n",
        "    print(f'- Categoría: {newsgroups_train.target_names[y_train[idx]]}')\n",
        "    print(f'- Preview: {newsgroups_train.data[idx][:500]} ...')\n",
        "    separator('=', 80)\n",
        "\n",
        "    # Calcular similitud de coseno (documento actual vs el resto)\n",
        "    similarity = cosine_similarity(X_train[idx], X_train)[0]\n",
        "\n",
        "    # Obtener los 5 documentos más similares al actual\n",
        "    closest = np.argsort(similarity)[::-1][1:6]  # Ignorar el primer elemento (mismo doc)\n",
        "\n",
        "    # Mostrar los documentos similares\n",
        "    for i, sim_idx in enumerate(closest):\n",
        "        print(f'SIMILAR #{i+1} (índice {sim_idx}, similitud {round(similarity[sim_idx], 2)})')\n",
        "        print(f'- Categoría: {newsgroups_train.target_names[y_train[sim_idx]]}')\n",
        "        print(f'- Preview: {newsgroups_train.data[sim_idx][:250]} ...')\n",
        "        separator('_', 80) if i != 4 else print('\\n\\n')\n"
      ],
      "metadata": {
        "colab": {
          "base_uri": "https://localhost:8080/"
        },
        "id": "X0hMoNv5u0Qc",
        "outputId": "7e4bda97-00f7-440d-c486-2610b6f9cb8f"
      },
      "execution_count": 207,
      "outputs": [
        {
          "output_type": "stream",
          "name": "stdout",
          "text": [
            "================================================================================\n",
            "DOCUMENTO BASE (índice 5053)\n",
            "- Categoría: rec.autos\n",
            "- Preview: It is illegal to use anything you eavedropped on for a business \n",
            "or for an illegal use.  Jurisdictions that ban radar detectors or\n",
            "police monitors, are essentially making the claim that there is no\n",
            "other reason for a radar detector or police radio monitor. \n",
            "\n",
            "The results of fighting these claims in courts have been mixed.\n",
            "The federal courts are not anxious to intervene and state courts\n",
            "have sometimes held that the feds have exclusive jurisdiction\n",
            "and sometimes they have not.  A lot of state court ...\n",
            "================================================================================\n",
            "SIMILAR #1 (índice 1833, similitud 0.2)\n",
            "- Categoría: sci.space\n",
            "- Preview: \n",
            "\n",
            "\n",
            "Hank Greenberg would have to be the most famous, because his Jewish\n",
            "faith actually affected his play. (missing late season or was it world\n",
            "series games because of Yom Kippur)\n",
            "\n",
            "\n",
            " ...\n",
            "________________________________________________________________________________\n",
            "SIMILAR #2 (índice 1084, similitud 0.17)\n",
            "- Categoría: comp.windows.x\n",
            "- Preview: I am in the process of installing X11R5 on my Sun Sparcstation 2 and\n",
            "have run into a problem.  I imagine it has something to do with a missing\n",
            "screen driver, or something along those lines, but figured someone out there\n",
            "in Internet land might be able ...\n",
            "________________________________________________________________________________\n",
            "SIMILAR #3 (índice 414, similitud 0.17)\n",
            "- Categoría: misc.forsale\n",
            "- Preview: Hi Everyone,\n",
            "\n",
            "I would like to get an example program(source code) to get started with a simple\n",
            "editor (similar to windows dialog editor, but lot simplified) . Can someone\n",
            "point me to a source such as a programming windows book, or example program\n",
            "com ...\n",
            "________________________________________________________________________________\n",
            "SIMILAR #4 (índice 6544, similitud 0.17)\n",
            "- Categoría: comp.windows.x\n",
            "- Preview: \n",
            "even a minivan based on viper running gear? ...\n",
            "________________________________________________________________________________\n",
            "SIMILAR #5 (índice 6470, similitud 0.16)\n",
            "- Categoría: misc.forsale\n",
            "- Preview: \n",
            "The Atari 2600 used a 6502 CPU, just like their entire 8-bit line\n",
            "(400, 800,1200,1400, 1440, 130xe, 65xe computers, as well as the 5200\n",
            "game machine). The 2600 had some extra ASIC chips that were basically\n",
            "modified graphics chips and PIA's for the j ...\n",
            "\n",
            "\n",
            "\n",
            "================================================================================\n",
            "DOCUMENTO BASE (índice 6697)\n",
            "- Categoría: comp.sys.mac.hardware\n",
            "- Preview: Hi Netters!\n",
            "\n",
            "I'm looking at purchasing some sort of backup solution.  After you read about\n",
            "my situation, I'd like your opinion.  Here's the scenario:\n",
            "\n",
            "1.  There are two computers in the house.  One is a small 286 (40MB IDE drive).\n",
            "    The other is a 386DX (213 SCSI drive w/ Adaptec 1522 controller).  Both \n",
            "    systems have PC TOOLS and will use Central Point Backup as the backup / \n",
            "    restore program.  Both systems have 3.5\" and 5.25\" floppies.\n",
            "\n",
            "2.  The computers are not networked (nor will the ...\n",
            "================================================================================\n",
            "SIMILAR #1 (índice 4762, similitud 0.24)\n",
            "- Categoría: comp.graphics\n",
            "- Preview: Here's a copy of a letter I'm e-mailing to the Slickster at\n",
            "his address of 75300.3115@compuserve.com:\n",
            "\n",
            "____________________________________________________________________________\n",
            "\n",
            "To: William J. Clinton\n",
            "    President of the United States of America\n",
            " ...\n",
            "________________________________________________________________________________\n",
            "SIMILAR #2 (índice 6495, similitud 0.23)\n",
            "- Categoría: comp.graphics\n",
            "- Preview: sm[?]>a real Christian unless you're born again is a very fundamental biblical\n",
            "sm[?]>conversion and regeneration are 'probably' part of some small USA-based cult\n",
            "\n",
            "\n",
            "Some of these \"cults\", which seems like a rather dismissive term\n",
            "to me, are pretty big ...\n",
            "________________________________________________________________________________\n",
            "SIMILAR #3 (índice 328, similitud 0.23)\n",
            "- Categoría: comp.sys.mac.hardware\n",
            "- Preview: \n",
            "\n",
            "\n",
            "    ^^^\n",
            "If french is your language, try counting in french in stead, maybe\n",
            "it will work better.... :-) ...\n",
            "________________________________________________________________________________\n",
            "SIMILAR #4 (índice 2997, similitud 0.21)\n",
            "- Categoría: comp.sys.mac.hardware\n",
            "- Preview: Hi, I need some advice from the netland in selecting a sound card.\n",
            "\n",
            "I am about to buy a sound card for my kid. I don't know which one to buy.\n",
            "Which one to select from the following list:\n",
            "\n",
            "- Sound Blaster 16\n",
            "- Miscrosoft- sound card\n",
            "- Audio Spectrum\n",
            "- ...\n",
            "________________________________________________________________________________\n",
            "SIMILAR #5 (índice 3899, similitud 0.21)\n",
            "- Categoría: comp.graphics\n",
            "- Preview: \n",
            "\n",
            "i'm sorry, as i have never heard of any of this.  Guess they don't think\n",
            "it's important enough for a classroom, and i was going on what i've seen\n",
            "in pics.(some movies--real nice scource there, huh?)  I just always \n",
            "recall thinking that GOOD roads o ...\n",
            "\n",
            "\n",
            "\n",
            "================================================================================\n",
            "DOCUMENTO BASE (índice 4849)\n",
            "- Categoría: rec.motorcycles\n",
            "- Preview: Evelyn Wells, on the 12 Apr 1993 11:43 CST wibbled:\n",
            ": Once again, this morning I pulled up to the designated motorcycle\n",
            ": parking area, only to find a cage pulled up behind the bikes. \n",
            ": If people don't double-park cars, why do they do it to motorcycles?\n",
            ": Never mind that rhetorical question, I know *why* they do it.\n",
            "\n",
            ": What I want to know is, what can I do about it?  Carry pieces of\n",
            ": paper that say \"Don't park your car in the motorcycle area!!\" ?\n",
            ": Call the cops?  Wait until they emerge from t ...\n",
            "================================================================================\n",
            "SIMILAR #1 (índice 4849, similitud 1.0)\n",
            "- Categoría: rec.motorcycles\n",
            "- Preview: Evelyn Wells, on the 12 Apr 1993 11:43 CST wibbled:\n",
            ": Once again, this morning I pulled up to the designated motorcycle\n",
            ": parking area, only to find a cage pulled up behind the bikes. \n",
            ": If people don't double-park cars, why do they do it to motorcyc ...\n",
            "________________________________________________________________________________\n",
            "SIMILAR #2 (índice 3246, similitud 0.29)\n",
            "- Categoría: rec.motorcycles\n",
            "- Preview: Hi All,\n",
            "\n",
            "  I have heard that somewhere there exist programmable keyboards, eg. one\n",
            "can program displays on the keys to show some specific characters, et.c.\n",
            "  Does it mean that there is some way of transmitting some \"non-trivial\" data\n",
            "to the KB (as op ...\n",
            "________________________________________________________________________________\n",
            "SIMILAR #3 (índice 2125, similitud 0.27)\n",
            "- Categoría: rec.motorcycles\n",
            "- Preview: I'm making a customized paint program in DOS and need an algorithm\n",
            "for reading bitmap files like GIF, PCX, or BMP.  Does anyone have\n",
            "such an algorithm?  I've tried copying one out of a book for reading\n",
            ".PCX format but it doesn't work.  I will take an ...\n",
            "________________________________________________________________________________\n",
            "SIMILAR #4 (índice 2673, similitud 0.27)\n",
            "- Categoría: rec.motorcycles\n",
            "- Preview: Can someone please help me understand the current situation\n",
            "regarding SIMMS?\n",
            "\n",
            "I have a IIsi which I will probably keep for another 2 years.\n",
            "\n",
            "I would like to add more memory, ie go from 5 MB to 17 MB.\n",
            "\n",
            "I know that I will need 4 x 4MB, 80ns or faster S ...\n",
            "________________________________________________________________________________\n",
            "SIMILAR #5 (índice 877, similitud 0.26)\n",
            "- Categoría: rec.motorcycles\n",
            "- Preview: \n",
            "[stuff about autobahn and safety of sho at speed deleted]\n",
            "\n",
            "The Mustang is a much worse case of design irresponsibility than the\n",
            "SHO. \n",
            "\n",
            "Its hard to predicatbaly drift a stock Mustang because\n",
            "of the suspension.\n",
            "\n",
            "\n",
            "Yes. When i think Mustang, I think sch ...\n",
            "\n",
            "\n",
            "\n",
            "================================================================================\n",
            "DOCUMENTO BASE (índice 2524)\n",
            "- Categoría: sci.crypt\n",
            "- Preview: \n",
            "how do you know this? did lasorda say, before the game, \"here's the\n",
            "lineup i'm using.  i'm batting strawman fourth because the primadonna\n",
            "insists on batting cleanup\"?\n",
            "\n",
            "if this is true (note that i don't think it is), lasorda should be\n",
            "fired for at least two reasons:\n",
            "\n",
            "         1) publicly humiliating his players;\n",
            "         2) knuckling under to his players wishes.\n",
            "\n",
            "however, i think that the more likely explanation is that lasorda\n",
            "wanted strawberry to bat fourth, and that you hate strawberry. ...\n",
            "================================================================================\n",
            "SIMILAR #1 (índice 841, similitud 0.26)\n",
            "- Categoría: soc.religion.christian\n",
            "- Preview: Has anyone use Snooper or MacEKG or any other similar diagnostic \n",
            "software.Any comparisons/reviews on these products would be very much \n",
            "appreciated.\n",
            "\n",
            "Thanks in advance for your help\n",
            "\n",
            "Cheers\n",
            "--\n",
            " ...\n",
            "________________________________________________________________________________\n",
            "SIMILAR #2 (índice 3480, similitud 0.24)\n",
            "- Categoría: comp.graphics\n",
            "- Preview: LARSONIAN Astronomy and Physics\n",
            "\n",
            "               Orthodox physicists, astronomers, and astrophysicists \n",
            "          CLAIM to be looking for a \"Unified Field Theory\" in which all \n",
            "          of the forces of the universe can be explained with a single \n",
            "   ...\n",
            "________________________________________________________________________________\n",
            "SIMILAR #3 (índice 6801, similitud 0.24)\n",
            "- Categoría: soc.religion.christian\n",
            "- Preview: \n",
            "Couldn't you simply use MIN() as you use SUM() and than subtract it\n",
            "from SUM() ??\n",
            "\n",
            "------------------------------------------------------------------------------\n",
            "internet: ffritze@hpwbe007.wad.hp.com\n",
            "phone:    Germany 7243 602296\n",
            "address:  Fromut FR ...\n",
            "________________________________________________________________________________\n",
            "SIMILAR #4 (índice 1993, similitud 0.23)\n",
            "- Categoría: alt.atheism\n",
            "- Preview: I have a new MR535 Mitsubishi hard drive (RLL or MFM) that has been\n",
            "in storage and will not format.  I suspected that the switch settings\n",
            "may have been moved in the movement of the drive from one place to\n",
            "another.  Does anyone have the switch setting ...\n",
            "________________________________________________________________________________\n",
            "SIMILAR #5 (índice 5360, similitud 0.23)\n",
            "- Categoría: rec.sport.baseball\n",
            "- Preview: I just overheard that San Jose Coach George Kingston was officially\n",
            "terminated today...  Maybe good news, maybe bad.  I kinda liked him, but he\n",
            "seemed to lack a certain fire.\n",
            " ...\n",
            "\n",
            "\n",
            "\n",
            "================================================================================\n",
            "DOCUMENTO BASE (índice 3348)\n",
            "- Categoría: sci.crypt\n",
            "- Preview: \n",
            "Probably because most of them come packaged with some absurd theory\n",
            "behind them.  E.G. homoeopathy: like cures like.  The more you dilute\n",
            "things, the more powerful they get, even if you dilute them so much\n",
            "there is no ingredient but water left.  Chiropractic: all illness\n",
            "stems from compressions of nerves by misaligned vertebrae.  Such\n",
            "systems are so patently absurd, that any good they do is accidental\n",
            "and not related to the theory.  The only exception is probably herbalism,\n",
            "because scientists r ...\n",
            "================================================================================\n",
            "SIMILAR #1 (índice 5584, similitud 0.31)\n",
            "- Categoría: sci.crypt\n",
            "- Preview: My brother has been alienated from my parents and me since shortly after\n",
            "his marriage to a domineering and insecure woman, about twelve years ago.\n",
            "We've kept things on a painfully polite, Christmas-card sort of level\n",
            "for most of this time. Attempts t ...\n",
            "________________________________________________________________________________\n",
            "SIMILAR #2 (índice 6761, similitud 0.31)\n",
            "- Categoría: sci.crypt\n",
            "- Preview: \n",
            "\n",
            "Two things that annoyed me about the PC Magazine review:\n",
            "\n",
            "1.  Their benchmarking technique is seriously flawed, as was clearly shown\n",
            "    by the Graphite and #9GXE's \"cheating\".  Can't they just admit that\n",
            "    their benchmark is to easy to optimize  ...\n",
            "________________________________________________________________________________\n",
            "SIMILAR #3 (índice 3179, similitud 0.3)\n",
            "- Categoría: talk.politics.mideast\n",
            "- Preview: Hi,\n",
            "I am one those uncles that try to please my nephews whenever possible,\n",
            "so.. they have asked me to find them some Nitendo games, no, it is\n",
            "not for the super nitendo.. it is for whatever model came prior to\n",
            "that.\n",
            "\n",
            "Since they are overseas, I will fi ...\n",
            "________________________________________________________________________________\n",
            "SIMILAR #4 (índice 2111, similitud 0.3)\n",
            "- Categoría: alt.atheism\n",
            "- Preview: \n",
            "\n",
            "\n",
            "Yes, and I do everyone else.  Why, you may wonder, don't I do 'Fred'?\n",
            "Well, that would just be too *obvious*, wouldn't it?  Oh yeah, this\n",
            "isn't my real name, either.  I'm actually Elvis.  Or maybe a lemur; I\n",
            "sometimes have difficulty telling which ...\n",
            "________________________________________________________________________________\n",
            "SIMILAR #5 (índice 697, similitud 0.29)\n",
            "- Categoría: sci.crypt\n",
            "- Preview: \n",
            "\n",
            "Considerably better than I feel about, say, the Punic Wars, or the \n",
            "Peloponnesian War (spelling optional), or almost any other event in \n",
            "classical history.  How close to the events do you think the oldest \n",
            "extent manuscripts are in those cases?\n",
            " ...\n",
            "\n",
            "\n",
            "\n"
          ]
        }
      ]
    },
    {
      "cell_type": "markdown",
      "source": [
        "## Primer Documento:\n",
        " Documento base rec.autos VS sci.space tratan de dos temas diferentes, no teniendo relación en los temas, pero sí en algunos términos que pueden tomarse como similitudes, dado que las etiquetas son diferentes. El documento base trata sobre legalidad y regulaciones de radares y monitores policiales, mientras que el documento más similar habla sobre Hank Greenberg y su fe judía en el contexto del béisbol. Aunque los temas son distintos, la similitud detectada podría deberse a la presencia de términos relacionados con normativas, restricciones y consecuencias externas sobre actividades específicas."
      ],
      "metadata": {
        "id": "XY1X3wY1JsgM"
      }
    },
    {
      "cell_type": "markdown",
      "source": [
        "## Segundo Documento:\n",
        "\n",
        "Documento base comp.sys.mac.hardware VS comp.graphics tratan de dos temas diferentes, no teniendo relación en los temas, pero sí en algunos términos que pueden tomarse como similitudes, dado que las etiquetas son diferentes.\n",
        "\n",
        "El documento base se centra en la búsqueda de soluciones de respaldo para computadoras, mencionando características de hardware y compatibilidad de sistemas de almacenamiento. Mientras tanto, el documento más similar pertenece a comp.graphics y trata sobre una carta enviada al presidente Clinton, lo que no tiene una conexión directa con el tema del documento base.\n",
        "\n"
      ],
      "metadata": {
        "id": "AFnqz8RMKcyq"
      }
    },
    {
      "cell_type": "markdown",
      "source": [
        "## Tercer documento:\n",
        "\n",
        "Documento base rec.motorcycles VS rec.motorcycles tratan del mismo tema, ya que el documento con mayor similitud (índice 4849, similitud 1.0) es idéntico al documento base. No hay diferencias entre ellos, por lo que la relación es totalmente directa.\n",
        "\n",
        "El documento base discute la problemática del doble estacionamiento de automóviles en áreas destinadas a motocicletas, cuestionando las razones detrás de esta conducta y buscando posibles soluciones, como colocar avisos o llamar a las autoridades.\n"
      ],
      "metadata": {
        "id": "VJHPr89aN8mt"
      }
    },
    {
      "cell_type": "markdown",
      "source": [
        "## Cuarto Documento:\n",
        "\n",
        "Documento base sci.crypt VS soc.religion.christian tratan de dos temas diferentes, no teniendo relación en los temas, pero sí en algunos términos que pueden tomarse como similitudes, dado que las etiquetas son diferentes.\n",
        "\n",
        "El documento base trata sobre una discusión deportiva, en la que se cuestiona la decisión de un entrenador sobre la alineación de su equipo y las posibles implicaciones de dicha decisión. En contraste, el documento más similar (índice 841, similitud 0.26) pertenece a soc.religion.christian y discute el uso de software de diagnóstico como Snooper y MacEKG."
      ],
      "metadata": {
        "id": "a5TO4dKDO6-a"
      }
    },
    {
      "cell_type": "markdown",
      "source": [
        "## Quinto Documento:\n",
        "\n",
        "Documento base sci.crypt VS sci.crypt tratan de la misma temática, compartiendo un enfoque en criptografía y seguridad, pero abordando conceptos diferentes dentro de ese ámbito.\n",
        "\n",
        "El documento base discute ideas relacionadas con teorías consideradas absurdas en áreas como homeopatía, quiropráctica y herbalismo, cuestionando su validez científica y el impacto de estas prácticas. Por otro lado, el documento más similar (índice 5584, similitud 0.31) aborda un tema completamente distinto dentro de la misma categoría, centrándose en una historia personal sobre relaciones familiares y conflictos personales.\n",
        "\n",
        "La similitud detectada puede estar influenciada por el tono argumentativo y estructural de ambos textos, ya que presentan opiniones sobre diferentes temas dentro de un estilo de exposición crítica. Aunque la temática específica no es la misma, el sistema de clasificación de textos ha identificado similitudes en el tipo de discurso y la forma de presentación de ideas"
      ],
      "metadata": {
        "id": "gBpOPWIiPs8Q"
      }
    },
    {
      "cell_type": "markdown",
      "source": [
        "Muestra"
      ],
      "metadata": {
        "id": "DPM0a5K_KUX7"
      }
    },
    {
      "cell_type": "markdown",
      "metadata": {
        "id": "o3hirpeJeMMa"
      },
      "source": [
        "\n",
        "**2**. Entrenar modelos de clasificación Naïve Bayes para maximizar el desempeño de clasificación\n",
        "(f1-score macro) en el conjunto de datos de test. Considerar cambiar parámteros\n",
        "de instanciación del vectorizador y los modelos y probar modelos de Naïve Bayes Multinomial\n",
        "y ComplementNB."
      ]
    },
    {
      "cell_type": "code",
      "source": [
        "import numpy as np\n",
        "from sklearn.naive_bayes import MultinomialNB, ComplementNB\n",
        "from sklearn.model_selection import train_test_split\n",
        "from sklearn.metrics import f1_score\n",
        "\n",
        "# Dividir en entrenamiento y prueba\n",
        "X_train, X_test, y_train, y_test = train_test_split(X_train, y_train, test_size=0.2, random_state=42)"
      ],
      "metadata": {
        "id": "9AJwd86m0ln4"
      },
      "execution_count": 208,
      "outputs": []
    },
    {
      "cell_type": "code",
      "source": [
        "# Definir valores de alpha para probar distintos niveles de suavización\n",
        "alphas = np.round(np.linspace(0.05, 0.25, 5), 3)  # Redondear a 3 decimales\n",
        "''' Utilizo valores pequeños porque permiten que el modelo confíe más en los datos observados, en cambio a los valores grandes hace que el modelo suavice demasiado y trate todas las palabras como si fueran comunes, afectando la clasificación.'''"
      ],
      "metadata": {
        "colab": {
          "base_uri": "https://localhost:8080/",
          "height": 53
        },
        "id": "X9kMlQlEFHHK",
        "outputId": "46d65bab-cd90-4234-8465-ff4b07d3df36"
      },
      "execution_count": 209,
      "outputs": [
        {
          "output_type": "execute_result",
          "data": {
            "text/plain": [
              "' Utilizo valores pequeños porque permiten que el modelo confíe más en los datos observados, en cambio a los valores grandes hace que el modelo suavice demasiado y trate todas las palabras como si fueran comunes, afectando la clasificación.'"
            ],
            "application/vnd.google.colaboratory.intrinsic+json": {
              "type": "string"
            }
          },
          "metadata": {},
          "execution_count": 209
        }
      ]
    },
    {
      "cell_type": "code",
      "source": [
        "# Iterar sobre los valores de alpha y calcular el f1-score macro\n",
        "for alpha in alphas:\n",
        "    # Entrenar modelos con el alpha actual\n",
        "    model_multinomial = MultinomialNB(alpha=alpha)\n",
        "    model_complement = ComplementNB(alpha=alpha)\n",
        "\n",
        "    model_multinomial.fit(X_train, y_train)\n",
        "    model_complement.fit(X_train, y_train)\n",
        "\n",
        "    # Predicciones\n",
        "    y_pred_multinomial = model_multinomial.predict(X_test)\n",
        "    y_pred_complement = model_complement.predict(X_test)\n",
        "\n",
        "    # Calcular f1-score macro\n",
        "    f1_multinomial = f1_score(y_test, y_pred_multinomial, average=\"macro\")\n",
        "    f1_complement = f1_score(y_test, y_pred_complement, average=\"macro\")\n",
        "\n",
        "    # Mostrar los resultados en el formato deseado\n",
        "    print(f\"- Alpha {alpha:.1f}\\t MultinomialNB: {f1_multinomial:.16f}\\t ComplementNB: {f1_complement:.16f}\")"
      ],
      "metadata": {
        "colab": {
          "base_uri": "https://localhost:8080/"
        },
        "id": "wzVE_20mFOHQ",
        "outputId": "8ec91499-f156-4edc-d7a4-336c7ea71ba5"
      },
      "execution_count": 210,
      "outputs": [
        {
          "output_type": "stream",
          "name": "stdout",
          "text": [
            "- Alpha 0.1\t MultinomialNB: 0.7037165930809378\t ComplementNB: 0.7422000131930582\n",
            "- Alpha 0.1\t MultinomialNB: 0.6673404827869269\t ComplementNB: 0.7475733361146482\n",
            "- Alpha 0.1\t MultinomialNB: 0.6589435746108049\t ComplementNB: 0.7498775385534296\n",
            "- Alpha 0.2\t MultinomialNB: 0.6437798624264376\t ComplementNB: 0.7541608258809821\n",
            "- Alpha 0.2\t MultinomialNB: 0.6326665988443265\t ComplementNB: 0.7491159515591976\n"
          ]
        }
      ]
    },
    {
      "cell_type": "markdown",
      "source": [
        "Se observa que el modelo ComplementNB arroja mejores resultados que el modelo MultinominialNB, arrojando como mejor resultado ComplementNB: 0.7541608258809821 del primer Alpha 0.2 ()"
      ],
      "metadata": {
        "id": "_zHTw3_M67si"
      }
    },
    {
      "cell_type": "markdown",
      "metadata": {
        "id": "JS1u_5kle7U8"
      },
      "source": [
        "\n",
        "\n",
        "**3**. Transponer la matriz documento-término. De esa manera se obtiene una matriz\n",
        "término-documento que puede ser interpretada como una colección de vectorización de palabras.\n",
        "Estudiar ahora similaridad entre palabras tomando 5 palabras y estudiando sus 5 más similares. **La elección de palabras no debe ser al azar para evitar la aparición de términos poco interpretables, elegirlas \"manualmente\"**."
      ]
    },
    {
      "cell_type": "code",
      "source": [
        "# Transponer la matriz documento-término para obtener término-documento\n",
        "X_terms = X_train.T"
      ],
      "metadata": {
        "id": "A6M2-YwQFmlt"
      },
      "execution_count": 211,
      "outputs": []
    },
    {
      "cell_type": "code",
      "source": [
        "# Elegir las 5 palabras clave\n",
        "palabras_elegidas = [\"accessories\", \"software\", \"system\", \"religion\", \"memory\"]"
      ],
      "metadata": {
        "id": "ewRHmCMoGd4X"
      },
      "execution_count": 229,
      "outputs": []
    },
    {
      "cell_type": "code",
      "source": [
        "# Obtener índices de las palabras elegidas\n",
        "indices_palabras = [tfidfvect.vocabulary_.get(word, None) for word in palabras_elegidas]"
      ],
      "metadata": {
        "id": "3VZizHaMH7-7"
      },
      "execution_count": 232,
      "outputs": []
    },
    {
      "cell_type": "code",
      "source": [
        "# Obtener nombres de las palabras en el vocabulario del vectorizador\n",
        "feature_names = tfidfvect.get_feature_names_out()\n",
        "\n",
        "# Estudiar similitud entre palabras\n",
        "for idx, palabra in zip(indices_palabras, palabras_elegidas):\n",
        "    print(\"=\"*50)\n",
        "    print(f\"\\nPalabra: {palabra}\")\n",
        "\n",
        "    # Calcular similitud con todas las palabras\n",
        "    similitudes_palabras = cosine_similarity(X_terms[idx].reshape(1, -1), X_terms)[0]\n",
        "\n",
        "    # Obtener las 5 palabras más similares (excluyendo la misma)\n",
        "    palabras_similares = np.argsort(similitudes_palabras)[::-1][1:6]\n",
        "\n",
        "    print(\"\\nPalabras más similares:\")\n",
        "    for i, similaridad in zip(palabras_similares, similitudes_palabras[palabras_similares]):\n",
        "        print(f\"{i+1}. Palabra similar: {feature_names[i]} (similaridad: {similaridad:.3f})\")"
      ],
      "metadata": {
        "colab": {
          "base_uri": "https://localhost:8080/"
        },
        "id": "eLnppNsBH_dU",
        "outputId": "ce5ed416-7797-459f-bf4b-56643bf6357e"
      },
      "execution_count": 235,
      "outputs": [
        {
          "output_type": "stream",
          "name": "stdout",
          "text": [
            "==================================================\n",
            "\n",
            "Palabra: accessories\n",
            "\n",
            "Palabras más similares:\n",
            "79590. Palabra similar: runing (similaridad: 0.506)\n",
            "88925. Palabra similar: thule (similaridad: 0.482)\n",
            "224. Palabra similar: 0096b11b (similaridad: 0.385)\n",
            "821. Palabra similar: 08a283a0 (similaridad: 0.385)\n",
            "61542. Palabra similar: micro (similaridad: 0.345)\n",
            "==================================================\n",
            "\n",
            "Palabra: software\n",
            "\n",
            "Palabras más similares:\n",
            "59987. Palabra similar: maturity (similaridad: 0.298)\n",
            "77505. Palabra similar: repeatable (similaridad: 0.291)\n",
            "47809. Palabra similar: humphrey (similaridad: 0.291)\n",
            "68520. Palabra similar: organisations (similaridad: 0.270)\n",
            "68348. Palabra similar: optimizing (similaridad: 0.255)\n",
            "==================================================\n",
            "\n",
            "Palabra: system\n",
            "\n",
            "Palabras más similares:\n",
            "89361. Palabra similar: to (similaridad: 0.239)\n",
            "88533. Palabra similar: the (similaridad: 0.237)\n",
            "51137. Palabra similar: is (similaridad: 0.220)\n",
            "18522. Palabra similar: and (similaridad: 0.205)\n",
            "88768. Palabra similar: this (similaridad: 0.197)\n",
            "==================================================\n",
            "\n",
            "Palabra: religion\n",
            "\n",
            "Palabras más similares:\n",
            "26065. Palabra similar: categorized (similaridad: 0.367)\n",
            "22309. Palabra similar: belonging (similaridad: 0.261)\n",
            "27727. Palabra similar: clari (similaridad: 0.252)\n",
            "30663. Palabra similar: crucifixes (similaridad: 0.252)\n",
            "39458. Palabra similar: falsify (similaridad: 0.251)\n",
            "==================================================\n",
            "\n",
            "Palabra: memory\n",
            "\n",
            "Palabras más similares:\n",
            "37081. Palabra similar: ems (similaridad: 0.282)\n",
            "81122. Palabra similar: scrivener (similaridad: 0.270)\n",
            "6721. Palabra similar: 385kb (similaridad: 0.270)\n",
            "87682. Palabra similar: tamvenus (similaridad: 0.270)\n",
            "96267. Palabra similar: wes1574 (similaridad: 0.270)\n"
          ]
        }
      ]
    },
    {
      "cell_type": "markdown",
      "source": [
        "Las palabras similares obtenidas, fueron muy bajas y en donde la palabra con mayor similitu fue Palabra: accessories"
      ],
      "metadata": {
        "id": "PCKFA0j6RS3_"
      }
    }
  ],
  "metadata": {
    "colab": {
      "provenance": [],
      "include_colab_link": true
    },
    "kernelspec": {
      "display_name": "Python 3",
      "name": "python3"
    },
    "language_info": {
      "codemirror_mode": {
        "name": "ipython",
        "version": 3
      },
      "file_extension": ".py",
      "mimetype": "text/x-python",
      "name": "python",
      "nbconvert_exporter": "python",
      "pygments_lexer": "ipython3",
      "version": "3.12.4"
    }
  },
  "nbformat": 4,
  "nbformat_minor": 0
}