{
  "cells": [
    {
      "cell_type": "markdown",
      "metadata": {
        "id": "view-in-github",
        "colab_type": "text"
      },
      "source": [
        "<a href=\"https://colab.research.google.com/github/Bustagar/PROCESAMIENTO-DE-HABLA/blob/main/Desafio_3_ipynb_(Resuelto).ipynb\" target=\"_parent\"><img src=\"https://colab.research.google.com/assets/colab-badge.svg\" alt=\"Open In Colab\"/></a>"
      ]
    },
    {
      "cell_type": "markdown",
      "metadata": {
        "id": "zq6j8LsYq1Dr"
      },
      "source": [
        "### Vectorización de texto y modelo de clasificación Naïve Bayes con el dataset 20 newsgroups"
      ]
    },
    {
      "cell_type": "code",
      "execution_count": null,
      "metadata": {
        "id": "l7cXR6CI30ry"
      },
      "outputs": [],
      "source": [
        "from sklearn.feature_extraction.text import CountVectorizer, TfidfVectorizer\n",
        "from sklearn.metrics.pairwise import cosine_similarity\n",
        "from sklearn.naive_bayes import MultinomialNB, ComplementNB\n",
        "from sklearn.metrics import f1_score\n",
        "\n",
        "# 20newsgroups por ser un dataset clásico de NLP ya viene incluido y formateado\n",
        "# en sklearn\n",
        "from sklearn.datasets import fetch_20newsgroups\n",
        "import numpy as np"
      ]
    },
    {
      "cell_type": "markdown",
      "metadata": {
        "id": "yD-pVDWV_rQc"
      },
      "source": [
        "## Carga de datos"
      ]
    },
    {
      "cell_type": "code",
      "execution_count": null,
      "metadata": {
        "id": "Ech9qJaUo9vK"
      },
      "outputs": [],
      "source": [
        "# cargamos los datos (ya separados de forma predeterminada en train y test)\n",
        "newsgroups_train = fetch_20newsgroups(subset='train', remove=('headers', 'footers', 'quotes'))\n",
        "newsgroups_test = fetch_20newsgroups(subset='test', remove=('headers', 'footers', 'quotes'))"
      ]
    },
    {
      "cell_type": "markdown",
      "metadata": {
        "id": "UxjSI7su_uWI"
      },
      "source": [
        "## Vectorización"
      ]
    },
    {
      "cell_type": "code",
      "execution_count": null,
      "metadata": {
        "id": "-94VP0QYCzDn"
      },
      "outputs": [],
      "source": [
        "# instanciamos un vectorizador\n",
        "# ver diferentes parámetros de instanciación en la documentación de sklearn\n",
        "tfidfvect = TfidfVectorizer()"
      ]
    },
    {
      "cell_type": "code",
      "execution_count": null,
      "metadata": {
        "colab": {
          "base_uri": "https://localhost:8080/",
          "height": 87
        },
        "id": "ftPlyanuak8n",
        "outputId": "744b39ac-52cd-40e7-f5b2-fb75b2a59c5f"
      },
      "outputs": [
        {
          "output_type": "execute_result",
          "data": {
            "text/plain": [
              "'I was wondering if anyone out there could enlighten me on this car I saw\\nthe other day. It was a 2-door sports car, looked to be from the late 60s/\\nearly 70s. It was called a Bricklin. The doors were really small. In addition,\\nthe front bumper was separate from the rest of the body. This is \\nall I know. If anyone can tellme a model name, engine specs, years\\nof production, where this car is made, history, or whatever info you\\nhave on this funky looking car, please e-mail.'"
            ],
            "application/vnd.google.colaboratory.intrinsic+json": {
              "type": "string"
            }
          },
          "metadata": {},
          "execution_count": 4
        }
      ],
      "source": [
        "# en el atributo `data` accedemos al texto\n",
        "newsgroups_train.data[0]"
      ]
    },
    {
      "cell_type": "code",
      "execution_count": null,
      "metadata": {
        "id": "1zxcXV6aC_oL"
      },
      "outputs": [],
      "source": [
        "# con la interfaz habitual de sklearn podemos fitear el vectorizador\n",
        "# (obtener el vocabulario y calcular el vector IDF)\n",
        "# y transformar directamente los datos\n",
        "X_train = tfidfvect.fit_transform(newsgroups_train.data)\n",
        "# `X_train` la podemos denominar como la matriz documento-término"
      ]
    },
    {
      "cell_type": "code",
      "execution_count": null,
      "metadata": {
        "colab": {
          "base_uri": "https://localhost:8080/"
        },
        "id": "4Sv7TXbda41-",
        "outputId": "42e567f1-4c1a-4f32-9643-2f843aa831eb"
      },
      "outputs": [
        {
          "output_type": "stream",
          "name": "stdout",
          "text": [
            "<class 'scipy.sparse._csr.csr_matrix'>\n",
            "shape: (11314, 101631)\n",
            "cantidad de documentos: 11314\n",
            "tamaño del vocabulario (dimensionalidad de los vectores): 101631\n"
          ]
        }
      ],
      "source": [
        "# recordar que las vectorizaciones por conteos son esparsas\n",
        "# por ello sklearn convenientemente devuelve los vectores de documentos\n",
        "# como matrices esparsas\n",
        "print(type(X_train))\n",
        "print(f'shape: {X_train.shape}')\n",
        "print(f'cantidad de documentos: {X_train.shape[0]}')\n",
        "print(f'tamaño del vocabulario (dimensionalidad de los vectores): {X_train.shape[1]}')"
      ]
    },
    {
      "cell_type": "code",
      "execution_count": null,
      "metadata": {
        "colab": {
          "base_uri": "https://localhost:8080/"
        },
        "id": "dgydNTZ2pAgR",
        "outputId": "6fb2fbb3-5163-41d0-b652-155b364c2788"
      },
      "outputs": [
        {
          "output_type": "execute_result",
          "data": {
            "text/plain": [
              "25775"
            ]
          },
          "metadata": {},
          "execution_count": 7
        }
      ],
      "source": [
        "# una vez ajustado el vectorizador, podemos acceder a atributos como el vocabulario\n",
        "# aprendido. Es un diccionario que va de términos a índices.\n",
        "# El índice es la posición en el vector de documento.\n",
        "tfidfvect.vocabulary_['car']"
      ]
    },
    {
      "cell_type": "code",
      "execution_count": null,
      "metadata": {
        "id": "xnTSZuvyrTcP"
      },
      "outputs": [],
      "source": [
        "# es muy útil tener el diccionario opuesto que va de índices a términos\n",
        "idx2word = {v: k for k,v in tfidfvect.vocabulary_.items()}"
      ]
    },
    {
      "cell_type": "code",
      "execution_count": null,
      "metadata": {
        "colab": {
          "base_uri": "https://localhost:8080/"
        },
        "id": "swa-AgWrMSHM",
        "outputId": "9ac6c8fa-d994-4287-d533-5e466a474745"
      },
      "outputs": [
        {
          "output_type": "execute_result",
          "data": {
            "text/plain": [
              "array([ 7,  4,  4,  1, 14, 16, 13,  3,  2,  4])"
            ]
          },
          "metadata": {},
          "execution_count": 9
        }
      ],
      "source": [
        "# en `y_train` guardamos los targets que son enteros\n",
        "y_train = newsgroups_train.target\n",
        "y_train[:10]"
      ]
    },
    {
      "cell_type": "code",
      "execution_count": null,
      "metadata": {
        "colab": {
          "base_uri": "https://localhost:8080/"
        },
        "id": "je5kxvQMDLvf",
        "outputId": "8b034c38-bd6f-434f-bfb2-8164df62fa91"
      },
      "outputs": [
        {
          "output_type": "stream",
          "name": "stdout",
          "text": [
            "clases [ 0  1  2  3  4  5  6  7  8  9 10 11 12 13 14 15 16 17 18 19]\n"
          ]
        },
        {
          "output_type": "execute_result",
          "data": {
            "text/plain": [
              "['alt.atheism',\n",
              " 'comp.graphics',\n",
              " 'comp.os.ms-windows.misc',\n",
              " 'comp.sys.ibm.pc.hardware',\n",
              " 'comp.sys.mac.hardware',\n",
              " 'comp.windows.x',\n",
              " 'misc.forsale',\n",
              " 'rec.autos',\n",
              " 'rec.motorcycles',\n",
              " 'rec.sport.baseball',\n",
              " 'rec.sport.hockey',\n",
              " 'sci.crypt',\n",
              " 'sci.electronics',\n",
              " 'sci.med',\n",
              " 'sci.space',\n",
              " 'soc.religion.christian',\n",
              " 'talk.politics.guns',\n",
              " 'talk.politics.mideast',\n",
              " 'talk.politics.misc',\n",
              " 'talk.religion.misc']"
            ]
          },
          "metadata": {},
          "execution_count": 10
        }
      ],
      "source": [
        "# hay 20 clases correspondientes a los 20 grupos de noticias\n",
        "print(f'clases {np.unique(newsgroups_test.target)}')\n",
        "newsgroups_test.target_names"
      ]
    },
    {
      "cell_type": "markdown",
      "metadata": {
        "id": "SXCICFSd_y90"
      },
      "source": [
        "## Similaridad de documentos"
      ]
    },
    {
      "cell_type": "code",
      "execution_count": null,
      "metadata": {
        "colab": {
          "base_uri": "https://localhost:8080/"
        },
        "id": "_pki_olShnyE",
        "outputId": "064f5769-9055-4ee9-982a-6db728b3ce7d"
      },
      "outputs": [
        {
          "output_type": "stream",
          "name": "stdout",
          "text": [
            "THE WHITE HOUSE\n",
            "\n",
            "                  Office of the Press Secretary\n",
            "                   (Pittsburgh, Pennslyvania)\n",
            "______________________________________________________________\n",
            "For Immediate Release                         April 17, 1993     \n",
            "\n",
            "             \n",
            "                  RADIO ADDRESS TO THE NATION \n",
            "                        BY THE PRESIDENT\n",
            "             \n",
            "                Pittsburgh International Airport\n",
            "                    Pittsburgh, Pennsylvania\n",
            "             \n",
            "             \n",
            "10:06 A.M. EDT\n",
            "             \n",
            "             \n",
            "             THE PRESIDENT:  Good morning.  My voice is coming to\n",
            "you this morning through the facilities of the oldest radio\n",
            "station in America, KDKA in Pittsburgh.  I'm visiting the city to\n",
            "meet personally with citizens here to discuss my plans for jobs,\n",
            "health care and the economy.  But I wanted first to do my weekly\n",
            "broadcast with the American people. \n",
            "             \n",
            "             I'm told this station first broadcast in 1920 when\n",
            "it reported that year's presidential elections.  Over the past\n",
            "seven decades presidents have found ways to keep in touch with\n",
            "the people, from whistle-stop tours to fire-side chats to the bus\n",
            "tour that I adopted, along with Vice President Gore, in last\n",
            "year's campaign.\n",
            "             \n",
            "             Every Saturday morning I take this time to talk with\n",
            "you, my fellow Americans, about the problems on your minds and\n",
            "what I'm doing to try and solve them.  It's my way of reporting\n",
            "to you and of giving you a way to hold me accountable.\n",
            "             \n",
            "             You sent me to Washington to get our government and\n",
            "economy moving after years of paralysis and policy and a bad\n",
            "experiment with trickle-down economics.  You know how important\n",
            "it is for us to make bold, comprehensive changes in the way we do\n",
            "business.  \n",
            "             \n",
            "             We live in a competitive global economy.  Nations\n",
            "rise and fall on the skills of their workers, the competitiveness\n",
            "of their companies, the imagination of their industries, and the\n",
            "cooperative experience and spirit that exists between business,\n",
            "labor and government.  Although many of the economies of the\n",
            "industrialized world are now suffering from slow growth, they've\n",
            "made many of the smart investments and the tough choices which\n",
            "our government has for too long ignored.  That's why many of them\n",
            "have been moving ahead and too many of our people have been\n",
            "falling behind.\n",
            "             \n",
            "             We have an economy today that even when it grows is\n",
            "not producing new jobs.  We've increased the debt of our nation\n",
            "by four times over the last 12 years, and we don't have much to\n",
            "show for it.  We know that wages of most working people have\n",
            "stopped rising, that most people are working longer work weeks\n",
            "and that too many families can no longer afford the escalating\n",
            "cost of health care.\n",
            "             \n",
            "             But we also know that, given the right tools, the\n",
            "right incentives and the right encouragement, our workers and\n",
            "businesses can make the kinds of products and profits our economy\n",
            "needs to expand opportunity and to make our communities better\n",
            "places to live.\n",
            "             \n",
            "             In many critical products today Americans are the\n",
            "low cost, high quality producers.  Our task is to make sure that\n",
            "we create more of those kinds of jobs.\n",
            "             \n",
            "             Just two months ago I gave Congress my plan for\n",
            "long-term jobs and economic growth.  It changes the old\n",
            "priorities in Washington and puts our emphasis where it needs to\n",
            "be -- on people's real needs, on increasing investments and jobs\n",
            "and education, on cutting the federal deficit, on stopping the\n",
            "waste which pays no dividends, and redirecting our precious\n",
            "resources toward investment that creates jobs now and lays the\n",
            "groundwork for robust economic growth in the future.\n",
            "             \n",
            "             These new directions passed the Congress in record\n",
            "time and created a new sense of hope and opportunity in our\n",
            "country.  Then the jobs plan I presented to Congress, which would\n",
            "create hundreds of thousands of jobs, most of them in the private\n",
            "sector in 1993 and 1994, passed the House of Representatives.  It\n",
            "now has the support of a majority of the United States Senate. \n",
            "But it's been held up by a filibuster of a minority in the\n",
            "Senate, just 43 senators.  They blocked a vote that they know\n",
            "would result in the passage of our bill and the creation of jobs.\n",
            "             \n",
            "             The issue isn't politics; the issue is people. \n",
            "Millions of Americans are waiting for this legislation and\n",
            "counting on it, counting on us in Washington.  But the jobs bill\n",
            "has been grounded by gridlock.  \n",
            "             \n",
            "             I know the American people are tired of business as\n",
            "usual and politics as usual.  I know they don't want us to spin\n",
            "or wheels.  They want the recovery to get moving.  So I have\n",
            "taken a first step to break this gridlock and gone the extra\n",
            "mile.  Yesterday I offered to cut the size of this plan by 25\n",
            "percent -- from $16 billion to $12 billion.  \n",
            "             \n",
            "             It's not what I'd hoped for.  With 16 million\n",
            "Americans looking for full-time work, I simply can't let the bill\n",
            "languish when I know that even a compromise bill will mean\n",
            "hundreds of thousands of jobs for our people.  The mandate is to\n",
            "act to achieve change and move the country forward.  By taking\n",
            "this initiative in the face of an unrelenting Senate talkathon, I\n",
            "think we can respond to your mandate and achieve a significant\n",
            "portion of our original goals.\n",
            "             \n",
            "             First, we want to keep the programs as much as\n",
            "possible that are needed to generate jobs and meet human needs,\n",
            "including highway and road construction, summer jobs for young\n",
            "people, immunization for children, construction of waste water\n",
            "sites, and aid to small businesses.  We also want to keep funding\n",
            "for extended unemployment compensation benefits, for people who\n",
            "have been unemployed for a long time because the economy isn't\n",
            "creating jobs.\n",
            "             \n",
            "             Second, I've recommended that all the other programs\n",
            "in the bill be cut across-the-board by a little more than 40\n",
            "percent.\n",
            "             \n",
            "             And third, I've recommended a new element in this\n",
            "program to help us immediately start our attempt to fight against\n",
            "crime by providing $200 million for cities and towns to rehire\n",
            "police officers who lost their jobs during the recession and put\n",
            "them back to work protecting our people.  I'm also going to fight\n",
            "for a tough crime bill because the people of this country need it\n",
            "and deserve it.\n",
            "             \n",
            "             Now, the people who are filibustering this bill --\n",
            "the Republican senators -- say they won't vote for it because it\n",
            "increases deficit spending, because there's extra spending this\n",
            "year that hasn't already been approved.  That sounds reasonable,\n",
            "doesn't it?  Here's what they don't say.  This program is more\n",
            "than paid for by budget cuts over my five-year budget, and this\n",
            "budget is well within the spending limits already approved by the\n",
            "Congress this year.\n",
            "             \n",
            "             It's amazing to me that many of these same senators\n",
            "who are filibustering the bill voted during the previous\n",
            "administration for billions of dollars of the same kind of\n",
            "emergency spending, and much of it was not designed to put the\n",
            "American people to work.  \n",
            "             \n",
            "             This is not about deficit spending.  We have offered\n",
            "a plan to cut the deficit.  This is about where your priorities\n",
            "are -- on people or on politics.  \n",
            "             \n",
            "             Keep in mind that our jobs bill is paid for dollar\n",
            "for dollar.  It is paid for by budget cuts.  And it's the\n",
            "soundest investment we can now make for ourselves and our\n",
            "children.  I urge all Americans to take another look at this jobs\n",
            "and investment program; to consider again the benefits for all of\n",
            "us when we've helped make more American partners working to\n",
            "ensure the future of our nation and the strength of our economy.\n",
            "             \n",
            "             You know, if every American who wanted a job had\n",
            "one, we wouldn't have a lot of the other problems we have in this\n",
            "country today.  This bill is not a miracle, it's a modest first\n",
            "step to try to set off a job creation explosion in this country\n",
            "again.  But it's a step we ought to take.  And it is fully paid\n",
            "for over the life of our budget.\n",
            "             \n",
            "             Tell your lawmakers what you think.  Tell them how\n",
            "important the bill is.  If it passes, we'll all be winners.\n",
            "             \n",
            "             Good morning, and thank you for listening.\n"
          ]
        }
      ],
      "source": [
        "# Veamos similaridad de documentos. Tomemos algún documento\n",
        "idx = 4811\n",
        "print(newsgroups_train.data[idx])"
      ]
    },
    {
      "cell_type": "code",
      "execution_count": null,
      "metadata": {
        "id": "Ssa9bqJ-hA_v"
      },
      "outputs": [],
      "source": [
        "# midamos la similaridad coseno con todos los documentos de train\n",
        "cossim = cosine_similarity(X_train[idx], X_train)[0]"
      ]
    },
    {
      "cell_type": "code",
      "execution_count": null,
      "metadata": {
        "colab": {
          "base_uri": "https://localhost:8080/"
        },
        "id": "qQWdijV_-ClO",
        "outputId": "42fc91c6-30d1-4b06-fb10-d5abb97a8baf"
      },
      "outputs": [
        {
          "output_type": "execute_result",
          "data": {
            "text/plain": [
              "array([0.1382319 , 0.1067036 , 0.23029327, ..., 0.12320753, 0.08765353,\n",
              "       0.04415046])"
            ]
          },
          "metadata": {},
          "execution_count": 13
        }
      ],
      "source": [
        "cossim"
      ]
    },
    {
      "cell_type": "code",
      "execution_count": null,
      "metadata": {
        "colab": {
          "base_uri": "https://localhost:8080/"
        },
        "id": "p_mDA7p3AzcQ",
        "outputId": "9217a470-a122-45eb-dacb-b3fec0b52879"
      },
      "outputs": [
        {
          "output_type": "execute_result",
          "data": {
            "text/plain": [
              "array([1.        , 0.70930477, 0.67474953, ..., 0.        , 0.        ,\n",
              "       0.        ])"
            ]
          },
          "metadata": {},
          "execution_count": 14
        }
      ],
      "source": [
        "# podemos ver los valores de similaridad ordenados de mayor a menos\n",
        "np.sort(cossim)[::-1]"
      ]
    },
    {
      "cell_type": "code",
      "execution_count": null,
      "metadata": {
        "colab": {
          "base_uri": "https://localhost:8080/"
        },
        "id": "0OIhDA1jAryX",
        "outputId": "7ea9b674-b6e7-4bc1-85c9-e272a769337c"
      },
      "outputs": [
        {
          "output_type": "execute_result",
          "data": {
            "text/plain": [
              "array([4811, 6635, 4253, ..., 9019, 9016, 8748])"
            ]
          },
          "metadata": {},
          "execution_count": 15
        }
      ],
      "source": [
        "# y a qué documentos corresponden\n",
        "np.argsort(cossim)[::-1]"
      ]
    },
    {
      "cell_type": "code",
      "execution_count": null,
      "metadata": {
        "id": "hP7qLS4ZBLps"
      },
      "outputs": [],
      "source": [
        "# los 5 documentos más similares:\n",
        "mostsim = np.argsort(cossim)[::-1][1:6]"
      ]
    },
    {
      "cell_type": "code",
      "execution_count": null,
      "metadata": {
        "colab": {
          "base_uri": "https://localhost:8080/",
          "height": 35
        },
        "id": "QdJLHPJACvaj",
        "outputId": "0d454342-cb7b-4764-dd72-4bf7693cefa1"
      },
      "outputs": [
        {
          "output_type": "execute_result",
          "data": {
            "text/plain": [
              "'talk.politics.misc'"
            ],
            "application/vnd.google.colaboratory.intrinsic+json": {
              "type": "string"
            }
          },
          "metadata": {},
          "execution_count": 17
        }
      ],
      "source": [
        "# el documento original pertenece a la clase:\n",
        "newsgroups_train.target_names[y_train[idx]]"
      ]
    },
    {
      "cell_type": "code",
      "execution_count": null,
      "metadata": {
        "colab": {
          "base_uri": "https://localhost:8080/"
        },
        "id": "RWy_73epCbFG",
        "outputId": "9711419f-8ae8-41ec-c569-b79aefd965ec"
      },
      "outputs": [
        {
          "output_type": "stream",
          "name": "stdout",
          "text": [
            "talk.politics.misc\n",
            "talk.politics.misc\n",
            "talk.politics.misc\n",
            "talk.politics.misc\n",
            "talk.politics.misc\n"
          ]
        }
      ],
      "source": [
        "# y los 5 más similares son de las clases:\n",
        "for i in mostsim:\n",
        "  print(newsgroups_train.target_names[y_train[i]])"
      ]
    },
    {
      "cell_type": "markdown",
      "metadata": {
        "id": "zRoNnKwhBqzq"
      },
      "source": [
        "### Modelo de clasificación Naïve Bayes"
      ]
    },
    {
      "cell_type": "code",
      "execution_count": null,
      "metadata": {
        "colab": {
          "base_uri": "https://localhost:8080/",
          "height": 80
        },
        "id": "TPM0thDaLk0R",
        "outputId": "1ee229f0-d8a5-4535-d902-505995011fa5"
      },
      "outputs": [
        {
          "output_type": "execute_result",
          "data": {
            "text/plain": [
              "MultinomialNB()"
            ],
            "text/html": [
              "<style>#sk-container-id-1 {\n",
              "  /* Definition of color scheme common for light and dark mode */\n",
              "  --sklearn-color-text: #000;\n",
              "  --sklearn-color-text-muted: #666;\n",
              "  --sklearn-color-line: gray;\n",
              "  /* Definition of color scheme for unfitted estimators */\n",
              "  --sklearn-color-unfitted-level-0: #fff5e6;\n",
              "  --sklearn-color-unfitted-level-1: #f6e4d2;\n",
              "  --sklearn-color-unfitted-level-2: #ffe0b3;\n",
              "  --sklearn-color-unfitted-level-3: chocolate;\n",
              "  /* Definition of color scheme for fitted estimators */\n",
              "  --sklearn-color-fitted-level-0: #f0f8ff;\n",
              "  --sklearn-color-fitted-level-1: #d4ebff;\n",
              "  --sklearn-color-fitted-level-2: #b3dbfd;\n",
              "  --sklearn-color-fitted-level-3: cornflowerblue;\n",
              "\n",
              "  /* Specific color for light theme */\n",
              "  --sklearn-color-text-on-default-background: var(--sg-text-color, var(--theme-code-foreground, var(--jp-content-font-color1, black)));\n",
              "  --sklearn-color-background: var(--sg-background-color, var(--theme-background, var(--jp-layout-color0, white)));\n",
              "  --sklearn-color-border-box: var(--sg-text-color, var(--theme-code-foreground, var(--jp-content-font-color1, black)));\n",
              "  --sklearn-color-icon: #696969;\n",
              "\n",
              "  @media (prefers-color-scheme: dark) {\n",
              "    /* Redefinition of color scheme for dark theme */\n",
              "    --sklearn-color-text-on-default-background: var(--sg-text-color, var(--theme-code-foreground, var(--jp-content-font-color1, white)));\n",
              "    --sklearn-color-background: var(--sg-background-color, var(--theme-background, var(--jp-layout-color0, #111)));\n",
              "    --sklearn-color-border-box: var(--sg-text-color, var(--theme-code-foreground, var(--jp-content-font-color1, white)));\n",
              "    --sklearn-color-icon: #878787;\n",
              "  }\n",
              "}\n",
              "\n",
              "#sk-container-id-1 {\n",
              "  color: var(--sklearn-color-text);\n",
              "}\n",
              "\n",
              "#sk-container-id-1 pre {\n",
              "  padding: 0;\n",
              "}\n",
              "\n",
              "#sk-container-id-1 input.sk-hidden--visually {\n",
              "  border: 0;\n",
              "  clip: rect(1px 1px 1px 1px);\n",
              "  clip: rect(1px, 1px, 1px, 1px);\n",
              "  height: 1px;\n",
              "  margin: -1px;\n",
              "  overflow: hidden;\n",
              "  padding: 0;\n",
              "  position: absolute;\n",
              "  width: 1px;\n",
              "}\n",
              "\n",
              "#sk-container-id-1 div.sk-dashed-wrapped {\n",
              "  border: 1px dashed var(--sklearn-color-line);\n",
              "  margin: 0 0.4em 0.5em 0.4em;\n",
              "  box-sizing: border-box;\n",
              "  padding-bottom: 0.4em;\n",
              "  background-color: var(--sklearn-color-background);\n",
              "}\n",
              "\n",
              "#sk-container-id-1 div.sk-container {\n",
              "  /* jupyter's `normalize.less` sets `[hidden] { display: none; }`\n",
              "     but bootstrap.min.css set `[hidden] { display: none !important; }`\n",
              "     so we also need the `!important` here to be able to override the\n",
              "     default hidden behavior on the sphinx rendered scikit-learn.org.\n",
              "     See: https://github.com/scikit-learn/scikit-learn/issues/21755 */\n",
              "  display: inline-block !important;\n",
              "  position: relative;\n",
              "}\n",
              "\n",
              "#sk-container-id-1 div.sk-text-repr-fallback {\n",
              "  display: none;\n",
              "}\n",
              "\n",
              "div.sk-parallel-item,\n",
              "div.sk-serial,\n",
              "div.sk-item {\n",
              "  /* draw centered vertical line to link estimators */\n",
              "  background-image: linear-gradient(var(--sklearn-color-text-on-default-background), var(--sklearn-color-text-on-default-background));\n",
              "  background-size: 2px 100%;\n",
              "  background-repeat: no-repeat;\n",
              "  background-position: center center;\n",
              "}\n",
              "\n",
              "/* Parallel-specific style estimator block */\n",
              "\n",
              "#sk-container-id-1 div.sk-parallel-item::after {\n",
              "  content: \"\";\n",
              "  width: 100%;\n",
              "  border-bottom: 2px solid var(--sklearn-color-text-on-default-background);\n",
              "  flex-grow: 1;\n",
              "}\n",
              "\n",
              "#sk-container-id-1 div.sk-parallel {\n",
              "  display: flex;\n",
              "  align-items: stretch;\n",
              "  justify-content: center;\n",
              "  background-color: var(--sklearn-color-background);\n",
              "  position: relative;\n",
              "}\n",
              "\n",
              "#sk-container-id-1 div.sk-parallel-item {\n",
              "  display: flex;\n",
              "  flex-direction: column;\n",
              "}\n",
              "\n",
              "#sk-container-id-1 div.sk-parallel-item:first-child::after {\n",
              "  align-self: flex-end;\n",
              "  width: 50%;\n",
              "}\n",
              "\n",
              "#sk-container-id-1 div.sk-parallel-item:last-child::after {\n",
              "  align-self: flex-start;\n",
              "  width: 50%;\n",
              "}\n",
              "\n",
              "#sk-container-id-1 div.sk-parallel-item:only-child::after {\n",
              "  width: 0;\n",
              "}\n",
              "\n",
              "/* Serial-specific style estimator block */\n",
              "\n",
              "#sk-container-id-1 div.sk-serial {\n",
              "  display: flex;\n",
              "  flex-direction: column;\n",
              "  align-items: center;\n",
              "  background-color: var(--sklearn-color-background);\n",
              "  padding-right: 1em;\n",
              "  padding-left: 1em;\n",
              "}\n",
              "\n",
              "\n",
              "/* Toggleable style: style used for estimator/Pipeline/ColumnTransformer box that is\n",
              "clickable and can be expanded/collapsed.\n",
              "- Pipeline and ColumnTransformer use this feature and define the default style\n",
              "- Estimators will overwrite some part of the style using the `sk-estimator` class\n",
              "*/\n",
              "\n",
              "/* Pipeline and ColumnTransformer style (default) */\n",
              "\n",
              "#sk-container-id-1 div.sk-toggleable {\n",
              "  /* Default theme specific background. It is overwritten whether we have a\n",
              "  specific estimator or a Pipeline/ColumnTransformer */\n",
              "  background-color: var(--sklearn-color-background);\n",
              "}\n",
              "\n",
              "/* Toggleable label */\n",
              "#sk-container-id-1 label.sk-toggleable__label {\n",
              "  cursor: pointer;\n",
              "  display: flex;\n",
              "  width: 100%;\n",
              "  margin-bottom: 0;\n",
              "  padding: 0.5em;\n",
              "  box-sizing: border-box;\n",
              "  text-align: center;\n",
              "  align-items: start;\n",
              "  justify-content: space-between;\n",
              "  gap: 0.5em;\n",
              "}\n",
              "\n",
              "#sk-container-id-1 label.sk-toggleable__label .caption {\n",
              "  font-size: 0.6rem;\n",
              "  font-weight: lighter;\n",
              "  color: var(--sklearn-color-text-muted);\n",
              "}\n",
              "\n",
              "#sk-container-id-1 label.sk-toggleable__label-arrow:before {\n",
              "  /* Arrow on the left of the label */\n",
              "  content: \"▸\";\n",
              "  float: left;\n",
              "  margin-right: 0.25em;\n",
              "  color: var(--sklearn-color-icon);\n",
              "}\n",
              "\n",
              "#sk-container-id-1 label.sk-toggleable__label-arrow:hover:before {\n",
              "  color: var(--sklearn-color-text);\n",
              "}\n",
              "\n",
              "/* Toggleable content - dropdown */\n",
              "\n",
              "#sk-container-id-1 div.sk-toggleable__content {\n",
              "  max-height: 0;\n",
              "  max-width: 0;\n",
              "  overflow: hidden;\n",
              "  text-align: left;\n",
              "  /* unfitted */\n",
              "  background-color: var(--sklearn-color-unfitted-level-0);\n",
              "}\n",
              "\n",
              "#sk-container-id-1 div.sk-toggleable__content.fitted {\n",
              "  /* fitted */\n",
              "  background-color: var(--sklearn-color-fitted-level-0);\n",
              "}\n",
              "\n",
              "#sk-container-id-1 div.sk-toggleable__content pre {\n",
              "  margin: 0.2em;\n",
              "  border-radius: 0.25em;\n",
              "  color: var(--sklearn-color-text);\n",
              "  /* unfitted */\n",
              "  background-color: var(--sklearn-color-unfitted-level-0);\n",
              "}\n",
              "\n",
              "#sk-container-id-1 div.sk-toggleable__content.fitted pre {\n",
              "  /* unfitted */\n",
              "  background-color: var(--sklearn-color-fitted-level-0);\n",
              "}\n",
              "\n",
              "#sk-container-id-1 input.sk-toggleable__control:checked~div.sk-toggleable__content {\n",
              "  /* Expand drop-down */\n",
              "  max-height: 200px;\n",
              "  max-width: 100%;\n",
              "  overflow: auto;\n",
              "}\n",
              "\n",
              "#sk-container-id-1 input.sk-toggleable__control:checked~label.sk-toggleable__label-arrow:before {\n",
              "  content: \"▾\";\n",
              "}\n",
              "\n",
              "/* Pipeline/ColumnTransformer-specific style */\n",
              "\n",
              "#sk-container-id-1 div.sk-label input.sk-toggleable__control:checked~label.sk-toggleable__label {\n",
              "  color: var(--sklearn-color-text);\n",
              "  background-color: var(--sklearn-color-unfitted-level-2);\n",
              "}\n",
              "\n",
              "#sk-container-id-1 div.sk-label.fitted input.sk-toggleable__control:checked~label.sk-toggleable__label {\n",
              "  background-color: var(--sklearn-color-fitted-level-2);\n",
              "}\n",
              "\n",
              "/* Estimator-specific style */\n",
              "\n",
              "/* Colorize estimator box */\n",
              "#sk-container-id-1 div.sk-estimator input.sk-toggleable__control:checked~label.sk-toggleable__label {\n",
              "  /* unfitted */\n",
              "  background-color: var(--sklearn-color-unfitted-level-2);\n",
              "}\n",
              "\n",
              "#sk-container-id-1 div.sk-estimator.fitted input.sk-toggleable__control:checked~label.sk-toggleable__label {\n",
              "  /* fitted */\n",
              "  background-color: var(--sklearn-color-fitted-level-2);\n",
              "}\n",
              "\n",
              "#sk-container-id-1 div.sk-label label.sk-toggleable__label,\n",
              "#sk-container-id-1 div.sk-label label {\n",
              "  /* The background is the default theme color */\n",
              "  color: var(--sklearn-color-text-on-default-background);\n",
              "}\n",
              "\n",
              "/* On hover, darken the color of the background */\n",
              "#sk-container-id-1 div.sk-label:hover label.sk-toggleable__label {\n",
              "  color: var(--sklearn-color-text);\n",
              "  background-color: var(--sklearn-color-unfitted-level-2);\n",
              "}\n",
              "\n",
              "/* Label box, darken color on hover, fitted */\n",
              "#sk-container-id-1 div.sk-label.fitted:hover label.sk-toggleable__label.fitted {\n",
              "  color: var(--sklearn-color-text);\n",
              "  background-color: var(--sklearn-color-fitted-level-2);\n",
              "}\n",
              "\n",
              "/* Estimator label */\n",
              "\n",
              "#sk-container-id-1 div.sk-label label {\n",
              "  font-family: monospace;\n",
              "  font-weight: bold;\n",
              "  display: inline-block;\n",
              "  line-height: 1.2em;\n",
              "}\n",
              "\n",
              "#sk-container-id-1 div.sk-label-container {\n",
              "  text-align: center;\n",
              "}\n",
              "\n",
              "/* Estimator-specific */\n",
              "#sk-container-id-1 div.sk-estimator {\n",
              "  font-family: monospace;\n",
              "  border: 1px dotted var(--sklearn-color-border-box);\n",
              "  border-radius: 0.25em;\n",
              "  box-sizing: border-box;\n",
              "  margin-bottom: 0.5em;\n",
              "  /* unfitted */\n",
              "  background-color: var(--sklearn-color-unfitted-level-0);\n",
              "}\n",
              "\n",
              "#sk-container-id-1 div.sk-estimator.fitted {\n",
              "  /* fitted */\n",
              "  background-color: var(--sklearn-color-fitted-level-0);\n",
              "}\n",
              "\n",
              "/* on hover */\n",
              "#sk-container-id-1 div.sk-estimator:hover {\n",
              "  /* unfitted */\n",
              "  background-color: var(--sklearn-color-unfitted-level-2);\n",
              "}\n",
              "\n",
              "#sk-container-id-1 div.sk-estimator.fitted:hover {\n",
              "  /* fitted */\n",
              "  background-color: var(--sklearn-color-fitted-level-2);\n",
              "}\n",
              "\n",
              "/* Specification for estimator info (e.g. \"i\" and \"?\") */\n",
              "\n",
              "/* Common style for \"i\" and \"?\" */\n",
              "\n",
              ".sk-estimator-doc-link,\n",
              "a:link.sk-estimator-doc-link,\n",
              "a:visited.sk-estimator-doc-link {\n",
              "  float: right;\n",
              "  font-size: smaller;\n",
              "  line-height: 1em;\n",
              "  font-family: monospace;\n",
              "  background-color: var(--sklearn-color-background);\n",
              "  border-radius: 1em;\n",
              "  height: 1em;\n",
              "  width: 1em;\n",
              "  text-decoration: none !important;\n",
              "  margin-left: 0.5em;\n",
              "  text-align: center;\n",
              "  /* unfitted */\n",
              "  border: var(--sklearn-color-unfitted-level-1) 1pt solid;\n",
              "  color: var(--sklearn-color-unfitted-level-1);\n",
              "}\n",
              "\n",
              ".sk-estimator-doc-link.fitted,\n",
              "a:link.sk-estimator-doc-link.fitted,\n",
              "a:visited.sk-estimator-doc-link.fitted {\n",
              "  /* fitted */\n",
              "  border: var(--sklearn-color-fitted-level-1) 1pt solid;\n",
              "  color: var(--sklearn-color-fitted-level-1);\n",
              "}\n",
              "\n",
              "/* On hover */\n",
              "div.sk-estimator:hover .sk-estimator-doc-link:hover,\n",
              ".sk-estimator-doc-link:hover,\n",
              "div.sk-label-container:hover .sk-estimator-doc-link:hover,\n",
              ".sk-estimator-doc-link:hover {\n",
              "  /* unfitted */\n",
              "  background-color: var(--sklearn-color-unfitted-level-3);\n",
              "  color: var(--sklearn-color-background);\n",
              "  text-decoration: none;\n",
              "}\n",
              "\n",
              "div.sk-estimator.fitted:hover .sk-estimator-doc-link.fitted:hover,\n",
              ".sk-estimator-doc-link.fitted:hover,\n",
              "div.sk-label-container:hover .sk-estimator-doc-link.fitted:hover,\n",
              ".sk-estimator-doc-link.fitted:hover {\n",
              "  /* fitted */\n",
              "  background-color: var(--sklearn-color-fitted-level-3);\n",
              "  color: var(--sklearn-color-background);\n",
              "  text-decoration: none;\n",
              "}\n",
              "\n",
              "/* Span, style for the box shown on hovering the info icon */\n",
              ".sk-estimator-doc-link span {\n",
              "  display: none;\n",
              "  z-index: 9999;\n",
              "  position: relative;\n",
              "  font-weight: normal;\n",
              "  right: .2ex;\n",
              "  padding: .5ex;\n",
              "  margin: .5ex;\n",
              "  width: min-content;\n",
              "  min-width: 20ex;\n",
              "  max-width: 50ex;\n",
              "  color: var(--sklearn-color-text);\n",
              "  box-shadow: 2pt 2pt 4pt #999;\n",
              "  /* unfitted */\n",
              "  background: var(--sklearn-color-unfitted-level-0);\n",
              "  border: .5pt solid var(--sklearn-color-unfitted-level-3);\n",
              "}\n",
              "\n",
              ".sk-estimator-doc-link.fitted span {\n",
              "  /* fitted */\n",
              "  background: var(--sklearn-color-fitted-level-0);\n",
              "  border: var(--sklearn-color-fitted-level-3);\n",
              "}\n",
              "\n",
              ".sk-estimator-doc-link:hover span {\n",
              "  display: block;\n",
              "}\n",
              "\n",
              "/* \"?\"-specific style due to the `<a>` HTML tag */\n",
              "\n",
              "#sk-container-id-1 a.estimator_doc_link {\n",
              "  float: right;\n",
              "  font-size: 1rem;\n",
              "  line-height: 1em;\n",
              "  font-family: monospace;\n",
              "  background-color: var(--sklearn-color-background);\n",
              "  border-radius: 1rem;\n",
              "  height: 1rem;\n",
              "  width: 1rem;\n",
              "  text-decoration: none;\n",
              "  /* unfitted */\n",
              "  color: var(--sklearn-color-unfitted-level-1);\n",
              "  border: var(--sklearn-color-unfitted-level-1) 1pt solid;\n",
              "}\n",
              "\n",
              "#sk-container-id-1 a.estimator_doc_link.fitted {\n",
              "  /* fitted */\n",
              "  border: var(--sklearn-color-fitted-level-1) 1pt solid;\n",
              "  color: var(--sklearn-color-fitted-level-1);\n",
              "}\n",
              "\n",
              "/* On hover */\n",
              "#sk-container-id-1 a.estimator_doc_link:hover {\n",
              "  /* unfitted */\n",
              "  background-color: var(--sklearn-color-unfitted-level-3);\n",
              "  color: var(--sklearn-color-background);\n",
              "  text-decoration: none;\n",
              "}\n",
              "\n",
              "#sk-container-id-1 a.estimator_doc_link.fitted:hover {\n",
              "  /* fitted */\n",
              "  background-color: var(--sklearn-color-fitted-level-3);\n",
              "}\n",
              "</style><div id=\"sk-container-id-1\" class=\"sk-top-container\"><div class=\"sk-text-repr-fallback\"><pre>MultinomialNB()</pre><b>In a Jupyter environment, please rerun this cell to show the HTML representation or trust the notebook. <br />On GitHub, the HTML representation is unable to render, please try loading this page with nbviewer.org.</b></div><div class=\"sk-container\" hidden><div class=\"sk-item\"><div class=\"sk-estimator fitted sk-toggleable\"><input class=\"sk-toggleable__control sk-hidden--visually\" id=\"sk-estimator-id-1\" type=\"checkbox\" checked><label for=\"sk-estimator-id-1\" class=\"sk-toggleable__label fitted sk-toggleable__label-arrow\"><div><div>MultinomialNB</div></div><div><a class=\"sk-estimator-doc-link fitted\" rel=\"noreferrer\" target=\"_blank\" href=\"https://scikit-learn.org/1.6/modules/generated/sklearn.naive_bayes.MultinomialNB.html\">?<span>Documentation for MultinomialNB</span></a><span class=\"sk-estimator-doc-link fitted\">i<span>Fitted</span></span></div></label><div class=\"sk-toggleable__content fitted\"><pre>MultinomialNB()</pre></div> </div></div></div></div>"
            ]
          },
          "metadata": {},
          "execution_count": 19
        }
      ],
      "source": [
        "# es muy fácil instanciar un modelo de clasificación Naïve Bayes y entrenarlo con sklearn\n",
        "clf = MultinomialNB()\n",
        "clf.fit(X_train, y_train)"
      ]
    },
    {
      "cell_type": "code",
      "execution_count": null,
      "metadata": {
        "id": "NrQjzM48Mu4T"
      },
      "outputs": [],
      "source": [
        "# con nuestro vectorizador ya fiteado en train, vectorizamos los textos\n",
        "# del conjunto de test\n",
        "X_test = tfidfvect.transform(newsgroups_test.data)\n",
        "y_test = newsgroups_test.target\n",
        "y_pred =  clf.predict(X_test)"
      ]
    },
    {
      "cell_type": "code",
      "execution_count": null,
      "metadata": {
        "colab": {
          "base_uri": "https://localhost:8080/"
        },
        "id": "UkGJhetEPdA4",
        "outputId": "27e8b76c-abd4-4bd0-f2c4-95841b5c52c9"
      },
      "outputs": [
        {
          "output_type": "execute_result",
          "data": {
            "text/plain": [
              "0.5854345727938506"
            ]
          },
          "metadata": {},
          "execution_count": 21
        }
      ],
      "source": [
        "# el F1-score es una metrica adecuada para reportar desempeño de modelos de claificación\n",
        "# es robusta al desbalance de clases. El promediado 'macro' es el promedio de los\n",
        "# F1-score de cada clase. El promedio 'micro' es equivalente a la accuracy que no\n",
        "# es una buena métrica cuando los datasets son desbalanceados\n",
        "f1_score(y_test, y_pred, average='macro')"
      ]
    },
    {
      "cell_type": "markdown",
      "metadata": {
        "id": "McArD4rSDR2K"
      },
      "source": [
        "### Consigna del desafío 2"
      ]
    },
    {
      "cell_type": "markdown",
      "metadata": {
        "id": "sv8kKKGnqBkf"
      },
      "source": []
    },
    {
      "cell_type": "markdown",
      "metadata": {
        "id": "lJgf6GQIIEH1"
      },
      "source": [
        "**1**. Vectorizar documentos. Tomar 5 documentos al azar y medir similaridad con el resto de los documentos.\n",
        "Estudiar los 5 documentos más similares de cada uno analizar si tiene sentido\n",
        "la similaridad según el contenido del texto y la etiqueta de clasificación.\n",
        "\n"
      ]
    },
    {
      "cell_type": "markdown",
      "source": [
        "## Importación de librerías"
      ],
      "metadata": {
        "id": "Gy3qaFn4wPVc"
      }
    },
    {
      "cell_type": "code",
      "source": [
        "from sklearn.feature_extraction.text import CountVectorizer, TfidfVectorizer\n",
        "from sklearn.metrics.pairwise import cosine_similarity\n",
        "from sklearn.naive_bayes import MultinomialNB, ComplementNB\n",
        "from sklearn.metrics import f1_score\n",
        "\n",
        "# 20newsgroups por ser un dataset clásico de NLP ya viene incluido y formateado\n",
        "# en sklearn\n",
        "from sklearn.datasets import fetch_20newsgroups\n",
        "import numpy as np\n",
        "\n"
      ],
      "metadata": {
        "id": "5IfuGK9_tvbW"
      },
      "execution_count": 155,
      "outputs": []
    },
    {
      "cell_type": "markdown",
      "source": [
        "## Carga de datos"
      ],
      "metadata": {
        "id": "mKf61NYRwCry"
      }
    },
    {
      "cell_type": "code",
      "source": [
        "# cargamos los datos (ya separados de forma predeterminada en train y test)\n",
        "newsgroups_train = fetch_20newsgroups(subset='train', remove=('headers', 'footers', 'quotes'))\n",
        "newsgroups_test = fetch_20newsgroups(subset='test', remove=('headers', 'footers', 'quotes'))"
      ],
      "metadata": {
        "id": "piGz7hc1wCCK"
      },
      "execution_count": 156,
      "outputs": []
    },
    {
      "cell_type": "markdown",
      "source": [
        "## Vectorización"
      ],
      "metadata": {
        "id": "ARykUUOBwY_r"
      }
    },
    {
      "cell_type": "code",
      "source": [
        "tfidfvect = TfidfVectorizer()"
      ],
      "metadata": {
        "id": "sbLKqg2xwgSy"
      },
      "execution_count": 157,
      "outputs": []
    },
    {
      "cell_type": "code",
      "source": [
        "# con la interfaz habitual de sklearn podemos fitear el vectorizador\n",
        "# (obtener el vocabulario y calcular el vector IDF)\n",
        "# y transformar directamente los datos\n",
        "X_train = tfidfvect.fit_transform(newsgroups_train.data)\n",
        "# 'X_train' la podemos denominar como la matriz documento-término"
      ],
      "metadata": {
        "id": "Hbhh0H2RwlS3"
      },
      "execution_count": 159,
      "outputs": []
    },
    {
      "cell_type": "code",
      "source": [
        "# recordar que las vectorizaciones por conteos son esparsas\n",
        "# por ello sklearn convenientemente devuelve los vectores de documentos\n",
        "# como matrices esparsas\n",
        "print(type(X_train))\n",
        "print(f'shape: {X_train.shape}')\n",
        "print(f'cantidad de documentos: {X_train.shape[0]}')\n",
        "print(f'tamaño del vocabulario (dimensionalidad de los vectores): {X_train.shape[1]}')"
      ],
      "metadata": {
        "colab": {
          "base_uri": "https://localhost:8080/"
        },
        "id": "8qNulCShxi4r",
        "outputId": "d2f4593d-7189-4d69-c706-89aac211bd9a"
      },
      "execution_count": 160,
      "outputs": [
        {
          "output_type": "stream",
          "name": "stdout",
          "text": [
            "<class 'scipy.sparse._csr.csr_matrix'>\n",
            "shape: (11314, 101631)\n",
            "cantidad de documentos: 11314\n",
            "tamaño del vocabulario (dimensionalidad de los vectores): 101631\n"
          ]
        }
      ]
    },
    {
      "cell_type": "code",
      "source": [
        "# es muy útil tener el diccionario opuesto que va de índices a términos\n",
        "idx2word = {v: k for k,v in tfidfvect.vocabulary_.items()}"
      ],
      "metadata": {
        "id": "UJPbwQ4Dxt5H"
      },
      "execution_count": 163,
      "outputs": []
    },
    {
      "cell_type": "code",
      "source": [
        "# en 'y_train' guardamos los targets que son enteros\n",
        "y_train = newsgroups_train.target\n",
        "y_train[:10]"
      ],
      "metadata": {
        "colab": {
          "base_uri": "https://localhost:8080/"
        },
        "id": "eF7ADyl3x_Se",
        "outputId": "cc93ac60-55bd-4f17-ffc7-591c84e7cc1c"
      },
      "execution_count": 164,
      "outputs": [
        {
          "output_type": "execute_result",
          "data": {
            "text/plain": [
              "array([ 7,  4,  4,  1, 14, 16, 13,  3,  2,  4])"
            ]
          },
          "metadata": {},
          "execution_count": 164
        }
      ]
    },
    {
      "cell_type": "markdown",
      "source": [
        "## Similaridad de docuementos"
      ],
      "metadata": {
        "id": "wtnpIcQVyJVW"
      }
    },
    {
      "cell_type": "code",
      "source": [
        "# Semilla para reproducibilidad\n",
        "np.random.seed(42)\n",
        "\n",
        "# Seleccionar 5 documentos aleatorios\n",
        "random_docs = np.random.choice(X_train.shape[0], size=5, replace=False)\n",
        "\n",
        "# Función auxiliar para imprimir separadores\n",
        "def separator(char, length=80):\n",
        "    print(char * length)"
      ],
      "metadata": {
        "id": "e3fWeNXxv-GN"
      },
      "execution_count": 166,
      "outputs": []
    },
    {
      "cell_type": "code",
      "source": [
        "# Documentos elegidos aleatoriamente\n",
        "random_docs"
      ],
      "metadata": {
        "colab": {
          "base_uri": "https://localhost:8080/"
        },
        "id": "UKRuSdwmvB3d",
        "outputId": "aca57778-dc61-486f-df97-bfc8aa0b1fdb"
      },
      "execution_count": 185,
      "outputs": [
        {
          "output_type": "execute_result",
          "data": {
            "text/plain": [
              "array([7492, 3546, 5582, 4793, 3813])"
            ]
          },
          "metadata": {},
          "execution_count": 185
        }
      ]
    },
    {
      "cell_type": "code",
      "source": [
        "# Iterar sobre los documentos aleatorios\n",
        "for idx in random_docs:\n",
        "    separator('=', 80)\n",
        "    print(f'DOCUMENTO BASE (índice {idx})')\n",
        "    print(f'- Categoría: {newsgroups_train.target_names[y_train[idx]]}')\n",
        "    print(f'- Preview: {newsgroups_train.data[idx][:500]} ...')\n",
        "    separator('=', 80)\n",
        "\n",
        "    # Calcular similitud de coseno (documento actual vs el resto)\n",
        "    similarity = cosine_similarity(X_train[idx], X_train)[0]\n",
        "\n",
        "    # Obtener los 5 documentos más similares al actual\n",
        "    closest = np.argsort(similarity)[::-1][1:6]  # Ignorar el primer elemento (mismo doc)\n",
        "\n",
        "    # Mostrar los documentos similares\n",
        "    for i, sim_idx in enumerate(closest):\n",
        "        print(f'SIMILAR #{i+1} (índice {sim_idx}, similitud {round(similarity[sim_idx], 2)})')\n",
        "        print(f'- Categoría: {newsgroups_train.target_names[y_train[sim_idx]]}')\n",
        "        print(f'- Preview: {newsgroups_train.data[sim_idx][:250]} ...')\n",
        "        separator('_', 80) if i != 4 else print('\\n\\n')\n"
      ],
      "metadata": {
        "colab": {
          "base_uri": "https://localhost:8080/"
        },
        "id": "X0hMoNv5u0Qc",
        "outputId": "24ebfb92-4453-4c4a-c399-18575497685f"
      },
      "execution_count": 186,
      "outputs": [
        {
          "output_type": "stream",
          "name": "stdout",
          "text": [
            "================================================================================\n",
            "DOCUMENTO BASE (índice 7492)\n",
            "- Categoría: misc.forsale\n",
            "- Preview: Could someone please post any info on these systems.\n",
            "\n",
            "Thanks.\n",
            "BoB\n",
            "-- \n",
            "---------------------------------------------------------------------- \n",
            "Robert Novitskey | \"Pursuing women is similar to banging one's head\n",
            "rrn@po.cwru.edu  |  against a wall...with less opportunity for reward\"  ...\n",
            "================================================================================\n",
            "SIMILAR #1 (índice 2890, similitud 0.33)\n",
            "- Categoría: sci.electronics\n",
            "- Preview: \n",
            "To boorishly reply to myself, I found I did have the Instrutech information\n",
            "already. The specs (to use the term loosely) are as follows:\n",
            "\n",
            "A/D: 16 bit converter, with 14 bit accuracy to 100 kHz, 12 bit accuracy to\n",
            "200 kHz. No specs for S/N, monotonic ...\n",
            "________________________________________________________________________________\n",
            "SIMILAR #2 (índice 3124, similitud 0.33)\n",
            "- Categoría: sci.electronics\n",
            "- Preview: \n",
            "OpenGL is a graphics programming library and as such is a great, portable\n",
            "interface for the development of interactive 3D graphics applications. It\n",
            "is not, however, an indicator of performance, as that will vary strongly\n",
            "from machine to machine and  ...\n",
            "________________________________________________________________________________\n",
            "SIMILAR #3 (índice 5169, similitud 0.32)\n",
            "- Categoría: sci.electronics\n",
            "- Preview: \n",
            "There's a pretty good article in the the March 6, 1993 New Scientist titled\n",
            "\"Pouring cold water on Lorenzo's oil\".  The article states that research\n",
            "has shown that the oil has no discernable effect on the progression of the\n",
            "disease in patients in wh ...\n",
            "________________________________________________________________________________\n",
            "SIMILAR #4 (índice 4819, similitud 0.31)\n",
            "- Categoría: sci.electronics\n",
            "- Preview: \n",
            "\n",
            "Krillean photography involves taking pictures of minute decapods resident in \n",
            "the seas surrounding the antarctic. Or pictures taken by them, perhaps. ...\n",
            "________________________________________________________________________________\n",
            "SIMILAR #5 (índice 1173, similitud 0.28)\n",
            "- Categoría: sci.electronics\n",
            "- Preview: \n",
            "\n",
            "That still doesn't mean we should cheer their deaths.  Policemen are also in \n",
            "the line of fire and their job includes the possibility of getting killed.  \n",
            "Should we be happy when they die?  As I said before, the question is not\n",
            "whether or not you a ...\n",
            "\n",
            "\n",
            "\n",
            "================================================================================\n",
            "DOCUMENTO BASE (índice 3546)\n",
            "- Categoría: rec.sport.baseball\n",
            "- Preview: \n",
            "\n",
            "     Don't bother if you have CPBackup or Fastback.  They all offer options \n",
            "not available in the stripped-down MS version (FROM CPS!).  Examples - no \n",
            "proprietary format (to save space), probably no direct DMA access, and no \n",
            "tape drive! ...\n",
            "================================================================================\n",
            "SIMILAR #1 (índice 5127, similitud 0.31)\n",
            "- Categoría: rec.sport.baseball\n",
            "- Preview: \n",
            "I think one (not ideal) solution is to use the\n",
            "tracing utility (can't remember the name, sorry!)\n",
            "included in the Corel Draw s/w pack.  It can convert\n",
            "bitmaps to Corel art format.  These can then be\n",
            "imported into a drawing rather than the bitmap.\n",
            "Res ...\n",
            "________________________________________________________________________________\n",
            "SIMILAR #2 (índice 7106, similitud 0.3)\n",
            "- Categoría: talk.politics.guns\n",
            "- Preview: \n",
            "Surprise surprise, different people react differently to different things. One\n",
            "slightly off the subject case in point. My brother got stung by a bee. I know\n",
            "he is allergic to bee stings, but that his reaction is severe localized\n",
            "swelling, not anaphy ...\n",
            "________________________________________________________________________________\n",
            "SIMILAR #3 (índice 6181, similitud 0.3)\n",
            "- Categoría: alt.atheism\n",
            "- Preview: \n",
            "Well, the MGB is currently in production for the English market, built\n",
            "by Rover. It now has a V8, improved suspention, and a slightly\n",
            "updated body. Too bad it's only available in GB and would set one\n",
            "of us back about $42,000+.\n",
            "\n",
            "  ...\n",
            "________________________________________________________________________________\n",
            "SIMILAR #4 (índice 6690, similitud 0.3)\n",
            "- Categoría: rec.sport.baseball\n",
            "- Preview: \n",
            "I remember one he hit circa 1976 at Wrigley Field that went across\n",
            "the street (in dead center field) and hit a house on the roof.  He\n",
            "whiffed a lot, but when he *did* connect, watch out!\n",
            "\n",
            "\n",
            "\n",
            "\n",
            "-- \n",
            "\n",
            "#include <std_disclaimer.h> ...\n",
            "________________________________________________________________________________\n",
            "SIMILAR #5 (índice 8155, similitud 0.29)\n",
            "- Categoría: talk.politics.misc\n",
            "- Preview: \n",
            "Years ago when I was an intern, an obese young woman was brought into\n",
            "the ER comatose after having been reported to have grand mal seizures\n",
            "why attending a \"corn festival\".  We pumped her stomach and obtained\n",
            "what seemed like a couple of liters of c ...\n",
            "\n",
            "\n",
            "\n",
            "================================================================================\n",
            "DOCUMENTO BASE (índice 5582)\n",
            "- Categoría: sci.electronics\n",
            "- Preview: 5.25\" Internal Low density disk drive.\n",
            "\n",
            "Monochrome monitor\n",
            "\n",
            "8088 motherboard, built in parallel and serial ports, built in mono and\n",
            "color output, 7Mhz.\n",
            "\n",
            "Libertarian, atheist, semi-anarchal Techno-Rat. ...\n",
            "================================================================================\n",
            "SIMILAR #1 (índice 1650, similitud 0.15)\n",
            "- Categoría: rec.autos\n",
            "- Preview: I have a video board for sale for Macintosh NU-Bus machines.  My other deal fell through.  I am asking $200.\n",
            "RasterOps 8XL\n",
            "\n",
            "640x480\n",
            "800x600  <--- This was incorrectly posted as 832x624 before.\n",
            "640x870\n",
            "1024x768 (60hz & 75 hz)\n",
            "1152x870\n",
            "\n",
            "Make offers by  ...\n",
            "________________________________________________________________________________\n",
            "SIMILAR #2 (índice 1728, similitud 0.14)\n",
            "- Categoría: sci.electronics\n",
            "- Preview: This is nonsense. I lived in the Negev for many years and I can say\n",
            "for sure that no Beduins were \"moved\" or harmed in any way. On the\n",
            "contrary, their standard of living has climbed sharply; many of them\n",
            "now live in rather nice, permanent houses, and ...\n",
            "________________________________________________________________________________\n",
            "SIMILAR #3 (índice 5295, similitud 0.13)\n",
            "- Categoría: talk.politics.mideast\n",
            "- Preview: Hello,\n",
            "I purchased my new 486 with a NoName graphics card installed which is obviously \n",
            "Speedstar 24 compatible. Its name is \"VGA 4000 TrueColor\".\n",
            "It is accompanied with some drivers and the utilities VMODE, XMODE and\n",
            "at least one more MODE, as well  ...\n",
            "________________________________________________________________________________\n",
            "SIMILAR #4 (índice 1071, similitud 0.13)\n",
            "- Categoría: misc.forsale\n",
            "- Preview: \n",
            "\n",
            "\n",
            "------------------------------------------------------------------------------\n",
            "\n",
            "Ocean Reconnaissance Launch Surprises West\n",
            "Space News, April 5-11, 1993, p.2\n",
            "[Excerpts]\n",
            "     Russia launched its first ocean reconnaissance satellite in 26 months \n",
            "Mar ...\n",
            "________________________________________________________________________________\n",
            "SIMILAR #5 (índice 8621, similitud 0.12)\n",
            "- Categoría: talk.religion.misc\n",
            "- Preview: \n",
            "\n",
            "I was there in 1976.  I suppose it must have died out since 1946,\n",
            "then.  Certainly I never heard of any homeopaths or herbalists in\n",
            "the employ of the NHS.  Perhaps the law codified it but the authorities\n",
            "refused to hire any homeopaths.  A similar l ...\n",
            "\n",
            "\n",
            "\n",
            "================================================================================\n",
            "DOCUMENTO BASE (índice 4793)\n",
            "- Categoría: comp.windows.x\n",
            "- Preview: Hi,\n",
            "\n",
            "In Canada, any gun that enters a National Park must be sealed (I think it's a\n",
            "small metal tag that's placed over the trigger).  The net result of this is\n",
            "that you _can't_ use a gun to protect yourself from bears (or psychos) in the\n",
            "National Parks.  Instead, one has to be sensitive to the dangers and annoyances\n",
            "of hiking in bear country, and take the appropriate precautions.\n",
            "\n",
            "I think this policy makes the users of the National Parks feel a little closer\n",
            "to Nature, that they are a part of Nat ...\n",
            "================================================================================\n",
            "SIMILAR #1 (índice 2692, similitud 0.22)\n",
            "- Categoría: comp.windows.x\n",
            "- Preview: \n",
            "Gamepro magazine published pictures a few months ago and Computer Chronicles\n",
            "(a program that is syndicated to public tv stations around the nation) spent\n",
            "several minutes on it when it was shown at CES.  It was very impressive what\n",
            "it can do in real  ...\n",
            "________________________________________________________________________________\n",
            "SIMILAR #2 (índice 6924, similitud 0.2)\n",
            "- Categoría: comp.windows.x\n",
            "- Preview:                               ^^^^^^\n",
            "                        perSOB, I kinda like that\n",
            "\n",
            "Most people wave or return my wave when I'm on my Harley.\n",
            "Other Harley riders seldom wave back to me when I'm on my\n",
            "duck. Squids don't wave, or return waves ever, ...\n",
            "________________________________________________________________________________\n",
            "SIMILAR #3 (índice 2853, similitud 0.2)\n",
            "- Categoría: comp.windows.x\n",
            "- Preview: \n",
            "\n",
            "Well, OBP is the most important offensive statistic, and by a big margin.\n",
            "50 points of OBP is worth considerably more than 50 points of slugging.\n",
            "That being said, I still think Baerga was VERY SLIGHTLY better last year,\n",
            "but I think this is as close ...\n",
            "________________________________________________________________________________\n",
            "SIMILAR #4 (índice 8134, similitud 0.19)\n",
            "- Categoría: comp.windows.x\n",
            "- Preview: My previous posting on dog attacks must have generated some bad karma or\n",
            "something. I've weathered attempted dog attacks before using the\n",
            "approved method: Slow down to screw up dog's triangulation of target,\n",
            "then take off and laugh at the dog, now fa ...\n",
            "________________________________________________________________________________\n",
            "SIMILAR #5 (índice 8093, similitud 0.18)\n",
            "- Categoría: comp.windows.x\n",
            "- Preview: \n",
            "Wrong on both accounts.\n",
            "\n",
            "\n",
            "No one is a \"rioter\" until they participate in a \"riot\", which is \n",
            "unlikely to happen, now.\n",
            "\n",
            "Most of the *people* in L.A. are likely to have gotten up early to \n",
            "listen to the court announcement.\n",
            "\n",
            "\n",
            "Sorry to disappoint you, b ...\n",
            "\n",
            "\n",
            "\n",
            "================================================================================\n",
            "DOCUMENTO BASE (índice 3813)\n",
            "- Categoría: soc.religion.christian\n",
            "- Preview: \n",
            "Doesn't it also have the Statue of Liberty on it or is that Richter's Mask?\n",
            "\n",
            "The back actually has a Bee followed by a Z to represent the Beezer. It \n",
            "also has something that looks like the three interconnecting circles from\n",
            "the Led Zepplin 4 album cover. Is that what it is supposed to be? and if\n",
            "it is does anybody know why he would put it there? Ali?\n",
            "\n",
            "\n",
            "John\n",
            "\"The official Language of Golf is Profanity\"\n",
            "\n",
            "\n",
            " ...\n",
            "================================================================================\n",
            "SIMILAR #1 (índice 525, similitud 0.4)\n",
            "- Categoría: talk.religion.misc\n",
            "- Preview: IM pleased to announce a new revolutionary device that allows you to\n",
            "copy super nintendo and genesis games to floppy disk.  Then later\n",
            "play from floppy disk with out the cart.  This is a independent system\n",
            "that interfaces with your SNES or Genesis.\n",
            "\n",
            " ...\n",
            "________________________________________________________________________________\n",
            "SIMILAR #2 (índice 5822, similitud 0.39)\n",
            "- Categoría: talk.religion.misc\n",
            "- Preview:   >   unsealed, it is CLEAR that Clinton and Reno supported an\n",
            "   >  ILLEGAL raid.  Did they not KNOW this?\n",
            "\n",
            "\n",
            "\n",
            " >    NO authority to use helicopters.\n",
            "\n",
            "\n",
            "\n",
            "\tSorry, I missed all this!  Can you please give an update on\n",
            "\tthe warrant?  I hadn't heard that i ...\n",
            "________________________________________________________________________________\n",
            "SIMILAR #3 (índice 4561, similitud 0.39)\n",
            "- Categoría: soc.religion.christian\n",
            "- Preview: \n",
            "   Do you really need to switch to a DX2/66 instead of a DX50?  As I\n",
            "   understand it, DX50's can have local bus devices (on the mother-board?)\n",
            "   but not local bus slots.  And according to what I been told, many\n",
            "   systems go beyond the VESA local  ...\n",
            "________________________________________________________________________________\n",
            "SIMILAR #4 (índice 1858, similitud 0.39)\n",
            "- Categoría: alt.atheism\n",
            "- Preview: \n",
            "I have a question that is a slight variation on the previously mentioned\n",
            "examples that perhaps people could give me some pointers on (it has been a\n",
            "couple of years since my Con Law class in college so I hope I am not\n",
            "missing something obvious here.. ...\n",
            "________________________________________________________________________________\n",
            "SIMILAR #5 (índice 8990, similitud 0.38)\n",
            "- Categoría: soc.religion.christian\n",
            "- Preview: \n",
            "\n",
            "\n",
            "\n",
            "Hmm, it seems the Little Leaguers didn't do too badly against Hershiser,\n",
            "Strawberry, E. Davis, and the rest of the Dodgers yesterday ...   :-)\n",
            " ...\n",
            "\n",
            "\n",
            "\n"
          ]
        }
      ]
    },
    {
      "cell_type": "markdown",
      "source": [
        "## Primer Documento:\n",
        "  El documento Base es de la categoría \"misc.forsale\" se ven similitudes muy pequeñas en el similar #1 del documento de sci.electronics, esas similitudes pueden ser por terminos utilizados como por ejemplo Sistemas y no tienen relación entre su contenido y etiqueta"
      ],
      "metadata": {
        "id": "XY1X3wY1JsgM"
      }
    },
    {
      "cell_type": "markdown",
      "source": [
        "## Segundo Documento:\n",
        "\n",
        "El documento base es de la categoría rec.sport.baseball se ven similitudes pequeñas en el similar #1 del documento de rec.sport.baseball, se aprecia que en su contenido hablan sobre software por lo que puede encontrar ahi la similitud y tambien comparten la misma etiqueta.\n",
        "\n"
      ],
      "metadata": {
        "id": "AFnqz8RMKcyq"
      }
    },
    {
      "cell_type": "markdown",
      "source": [
        "## Tercer documento:\n",
        "\n",
        "Documento base sci.electronics VS Similar #1 rec.autos\n",
        "La similitud es baja pero ambos menciones componenetes electronicos, por lo que tienen una similitud baja en relacion a los temas y etiqueta.\n"
      ],
      "metadata": {
        "id": "VJHPr89aN8mt"
      }
    },
    {
      "cell_type": "markdown",
      "source": [
        "## Cuarto Documento:\n",
        "\n"
      ],
      "metadata": {
        "id": "a5TO4dKDO6-a"
      }
    },
    {
      "cell_type": "markdown",
      "source": [
        "Documento base comp.windows.x VS comp.windows.x, si bien la similitud es baja por el contenido  de cada documento, se aprecia que comparten la misma categoría y uso de lenguaje técnico."
      ],
      "metadata": {
        "id": "J2DN08iPPPtM"
      }
    },
    {
      "cell_type": "markdown",
      "source": [
        "## Quinto Documento:\n",
        "\n",
        "Documento base soc.religion.christian VS talk.religion.misc tratan de dos temas diferentes, no teniendo relación en los temas pero si en alguno terminos el cual se pueden tomar como similitudes, dado tambien que las etiquetas son diferentes."
      ],
      "metadata": {
        "id": "gBpOPWIiPs8Q"
      }
    },
    {
      "cell_type": "markdown",
      "source": [
        "Muestra"
      ],
      "metadata": {
        "id": "DPM0a5K_KUX7"
      }
    },
    {
      "cell_type": "markdown",
      "metadata": {
        "id": "o3hirpeJeMMa"
      },
      "source": [
        "\n",
        "**2**. Entrenar modelos de clasificación Naïve Bayes para maximizar el desempeño de clasificación\n",
        "(f1-score macro) en el conjunto de datos de test. Considerar cambiar parámteros\n",
        "de instanciación del vectorizador y los modelos y probar modelos de Naïve Bayes Multinomial\n",
        "y ComplementNB."
      ]
    },
    {
      "cell_type": "code",
      "source": [
        "import numpy as np\n",
        "from sklearn.naive_bayes import MultinomialNB, ComplementNB\n",
        "from sklearn.model_selection import train_test_split\n",
        "from sklearn.metrics import f1_score\n",
        "\n",
        "# Dividir en entrenamiento y prueba\n",
        "X_train, X_test, y_train, y_test = train_test_split(X_train, y_train, test_size=0.2, random_state=42)"
      ],
      "metadata": {
        "id": "9AJwd86m0ln4"
      },
      "execution_count": 187,
      "outputs": []
    },
    {
      "cell_type": "code",
      "source": [
        "# Definir valores de alpha para probar distintos niveles de suavización\n",
        "alphas = np.round(np.linspace(0.05, 0.25, 5), 3)  # Redondear a 3 decimales\n",
        "''' Utilizo valores pequeños porque permiten que el modelo confíe más en los datos observados, en cambio a los valores grandes hace que el modelo suavice demasiado y trate todas las palabras como si fueran comunes, afectando la clasificación.'''"
      ],
      "metadata": {
        "colab": {
          "base_uri": "https://localhost:8080/",
          "height": 53
        },
        "id": "X9kMlQlEFHHK",
        "outputId": "d084fe11-dad3-45f1-ba66-c2a683b36a60"
      },
      "execution_count": 197,
      "outputs": [
        {
          "output_type": "execute_result",
          "data": {
            "text/plain": [
              "' Utilizo valores pequeños porque permiten que el modelo confíe más en los datos observados, en cambio a los valores grandes hace que el modelo suavice demasiado y trate todas las palabras como si fueran comunes, afectando la clasificación.'"
            ],
            "application/vnd.google.colaboratory.intrinsic+json": {
              "type": "string"
            }
          },
          "metadata": {},
          "execution_count": 197
        }
      ]
    },
    {
      "cell_type": "code",
      "source": [
        "# Iterar sobre los valores de alpha y calcular el f1-score macro\n",
        "for alpha in alphas:\n",
        "    # Entrenar modelos con el alpha actual\n",
        "    model_multinomial = MultinomialNB(alpha=alpha)\n",
        "    model_complement = ComplementNB(alpha=alpha)\n",
        "\n",
        "    model_multinomial.fit(X_train, y_train)\n",
        "    model_complement.fit(X_train, y_train)\n",
        "\n",
        "    # Predicciones\n",
        "    y_pred_multinomial = model_multinomial.predict(X_test)\n",
        "    y_pred_complement = model_complement.predict(X_test)\n",
        "\n",
        "    # Calcular f1-score macro\n",
        "    f1_multinomial = f1_score(y_test, y_pred_multinomial, average=\"macro\")\n",
        "    f1_complement = f1_score(y_test, y_pred_complement, average=\"macro\")\n",
        "\n",
        "    # Mostrar los resultados en el formato deseado\n",
        "    print(f\"- Alpha {alpha:.1f}\\t MultinomialNB: {f1_multinomial:.16f}\\t ComplementNB: {f1_complement:.16f}\")"
      ],
      "metadata": {
        "colab": {
          "base_uri": "https://localhost:8080/"
        },
        "id": "wzVE_20mFOHQ",
        "outputId": "56b28dca-57ed-43ff-e3c1-d2beb267f9db"
      },
      "execution_count": 198,
      "outputs": [
        {
          "output_type": "stream",
          "name": "stdout",
          "text": [
            "- Alpha 0.1\t MultinomialNB: 0.7075759537997842\t ComplementNB: 0.7483641766733619\n",
            "- Alpha 0.1\t MultinomialNB: 0.6843541906952256\t ComplementNB: 0.7514057680620365\n",
            "- Alpha 0.1\t MultinomialNB: 0.6619015810051616\t ComplementNB: 0.7546179560621163\n",
            "- Alpha 0.2\t MultinomialNB: 0.6539516137690246\t ComplementNB: 0.7539233964304060\n",
            "- Alpha 0.2\t MultinomialNB: 0.6456569046638646\t ComplementNB: 0.7518471930173904\n"
          ]
        }
      ]
    },
    {
      "cell_type": "markdown",
      "source": [
        "Se observa que el modelo ComplementNB arroja mejores resultados que el modelo MultinominialNB, arrojando como mejor resultado ComplementNB: 0.7546179560621163 del tercer Alpha 0.1 ()"
      ],
      "metadata": {
        "id": "_zHTw3_M67si"
      }
    },
    {
      "cell_type": "markdown",
      "metadata": {
        "id": "JS1u_5kle7U8"
      },
      "source": [
        "\n",
        "\n",
        "**3**. Transponer la matriz documento-término. De esa manera se obtiene una matriz\n",
        "término-documento que puede ser interpretada como una colección de vectorización de palabras.\n",
        "Estudiar ahora similaridad entre palabras tomando 5 palabras y estudiando sus 5 más similares. **La elección de palabras no debe ser al azar para evitar la aparición de términos poco interpretables, elegirlas \"manualmente\"**."
      ]
    },
    {
      "cell_type": "code",
      "source": [
        "# Transponer la matriz documento-término para obtener término-documento\n",
        "X_terms = X_train.T"
      ],
      "metadata": {
        "id": "A6M2-YwQFmlt"
      },
      "execution_count": 199,
      "outputs": []
    },
    {
      "cell_type": "code",
      "source": [
        "# Elegir las 5 palabras clave\n",
        "palabras_elegidas = [\"accessories\", \"game\", \"penalties\", \"players\", \"win\"]"
      ],
      "metadata": {
        "id": "ewRHmCMoGd4X"
      },
      "execution_count": 200,
      "outputs": []
    },
    {
      "cell_type": "code",
      "source": [
        "# Obtener índices de las palabras elegidas\n",
        "indices_palabras = [list(palabras_elegidas).index(word) for word in palabras_elegidas]"
      ],
      "metadata": {
        "id": "3VZizHaMH7-7"
      },
      "execution_count": 201,
      "outputs": []
    },
    {
      "cell_type": "code",
      "source": [
        "# Transponer la matriz documento-término\n",
        "X_terms = X_train.T\n",
        "\n",
        "# Obtener nombres de las palabras en el vocabulario del vectorizador\n",
        "feature_names = tfidfvect.get_feature_names_out()\n",
        "\n",
        "# Elegir las 5 palabras clave y obtener sus índices dentro del vocabulario\n",
        "palabras_elegidas = [\"accessories\", \"game\", \"penalties\", \"players\", \"win\"]\n",
        "indices_palabras = [list(feature_names).index(word) for word in palabras_elegidas if word in feature_names]\n",
        "\n",
        "# Estudiar similitud entre palabras\n",
        "for idx, palabra in zip(indices_palabras, palabras_elegidas):\n",
        "    print(\"=\"*50)\n",
        "    print(f\"\\nPalabra: {palabra}\")\n",
        "\n",
        "    # Calcular similitud con todas las palabras\n",
        "    similitudes_palabras = cosine_similarity(X_terms[idx], X_terms)[0]\n",
        "\n",
        "    # Obtener las 5 palabras más similares (excluyendo la misma)\n",
        "    palabras_similares = np.argsort(similitudes_palabras)[::-1][1:6]\n",
        "\n",
        "    print(\"\\nPalabras más similares:\")\n",
        "    for i, similaridad in zip(palabras_similares, similitudes_palabras[palabras_similares]):\n",
        "        print(f\"{i+1}. Palabra similar: {feature_names[i]} (similaridad: {similaridad:.3f})\")"
      ],
      "metadata": {
        "colab": {
          "base_uri": "https://localhost:8080/"
        },
        "id": "eLnppNsBH_dU",
        "outputId": "5936a5ad-6de6-4d42-ba05-b18648133cdc"
      },
      "execution_count": 202,
      "outputs": [
        {
          "output_type": "stream",
          "name": "stdout",
          "text": [
            "==================================================\n",
            "\n",
            "Palabra: accessories\n",
            "\n",
            "Palabras más similares:\n",
            "79590. Palabra similar: runing (similaridad: 0.506)\n",
            "88925. Palabra similar: thule (similaridad: 0.482)\n",
            "224. Palabra similar: 0096b11b (similaridad: 0.385)\n",
            "821. Palabra similar: 08a283a0 (similaridad: 0.385)\n",
            "22510. Palabra similar: bethesda (similaridad: 0.335)\n",
            "==================================================\n",
            "\n",
            "Palabra: game\n",
            "\n",
            "Palabras más similares:\n",
            "42607. Palabra similar: games (similaridad: 0.246)\n",
            "37955. Palabra similar: espn (similaridad: 0.224)\n",
            "71815. Palabra similar: play (similaridad: 0.216)\n",
            "91543. Palabra similar: ultima (similaridad: 0.207)\n",
            "33264. Palabra similar: detroit (similaridad: 0.203)\n",
            "==================================================\n",
            "\n",
            "Palabra: penalties\n",
            "\n",
            "Palabras más similares:\n",
            "25732. Palabra similar: capitalize (similaridad: 0.470)\n",
            "67572. Palabra similar: ocured (similaridad: 0.451)\n",
            "50119. Palabra similar: inlcludes (similaridad: 0.451)\n",
            "45418. Palabra similar: halftime (similaridad: 0.451)\n",
            "94532. Palabra similar: vitale (similaridad: 0.451)\n",
            "==================================================\n",
            "\n",
            "Palabra: players\n",
            "\n",
            "Palabras más similares:\n",
            "56006. Palabra similar: league (similaridad: 0.317)\n",
            "36785. Palabra similar: elitserien (similaridad: 0.298)\n",
            "65843. Palabra similar: nhl (similaridad: 0.271)\n",
            "88257. Palabra similar: teppo (similaridad: 0.263)\n",
            "40433. Palabra similar: finnish (similaridad: 0.263)\n",
            "==================================================\n",
            "\n",
            "Palabra: win\n",
            "\n",
            "Palabras más similares:\n",
            "98652. Palabra similar: xmapsubwindows (similaridad: 0.260)\n",
            "37419. Palabra similar: enterwindowmask (similaridad: 0.260)\n",
            "33192. Palabra similar: detail_win (similaridad: 0.260)\n",
            "59246. Palabra similar: main_win (similaridad: 0.260)\n",
            "69122. Palabra similar: overseeing (similaridad: 0.260)\n"
          ]
        }
      ]
    },
    {
      "cell_type": "markdown",
      "source": [
        "Las palabras similares obtenidas, fueron muy bajas y en donde la palabra con mayor similitu fue Palabra: penalties"
      ],
      "metadata": {
        "id": "PCKFA0j6RS3_"
      }
    }
  ],
  "metadata": {
    "colab": {
      "provenance": [],
      "include_colab_link": true
    },
    "kernelspec": {
      "display_name": "Python 3",
      "name": "python3"
    },
    "language_info": {
      "codemirror_mode": {
        "name": "ipython",
        "version": 3
      },
      "file_extension": ".py",
      "mimetype": "text/x-python",
      "name": "python",
      "nbconvert_exporter": "python",
      "pygments_lexer": "ipython3",
      "version": "3.12.4"
    }
  },
  "nbformat": 4,
  "nbformat_minor": 0
}