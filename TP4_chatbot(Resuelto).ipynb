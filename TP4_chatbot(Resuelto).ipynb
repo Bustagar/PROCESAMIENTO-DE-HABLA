{
  "nbformat": 4,
  "nbformat_minor": 0,
  "metadata": {
    "colab": {
      "provenance": [],
      "gpuType": "T4",
      "include_colab_link": true
    },
    "kernelspec": {
      "name": "python3",
      "display_name": "Python 3"
    },
    "language_info": {
      "name": "python"
    },
    "accelerator": "GPU"
  },
  "cells": [
    {
      "cell_type": "markdown",
      "metadata": {
        "id": "view-in-github",
        "colab_type": "text"
      },
      "source": [
        "<a href=\"https://colab.research.google.com/github/Bustagar/PROCESAMIENTO-DE-HABLA/blob/main/TP4_chatbot(Resuelto).ipynb\" target=\"_parent\"><img src=\"https://colab.research.google.com/assets/colab-badge.svg\" alt=\"Open In Colab\"/></a>"
      ]
    },
    {
      "cell_type": "markdown",
      "source": [
        "# TP4 Chatbot\n",
        "\n",
        "## Nombre: Juan Sebastian Bustamante Garcia"
      ],
      "metadata": {
        "id": "BDydrx9x1PF8"
      }
    },
    {
      "cell_type": "code",
      "execution_count": null,
      "metadata": {
        "id": "hghx5BwKdm-A",
        "collapsed": true,
        "colab": {
          "base_uri": "https://localhost:8080/"
        },
        "outputId": "274e3068-a50a-402f-eb1c-88deceb21aff"
      },
      "outputs": [
        {
          "output_type": "stream",
          "name": "stdout",
          "text": [
            "\u001b[?25l     \u001b[90m━━━━━━━━━━━━━━━━━━━━━━━━━━━━━━━━━━━━━━━━\u001b[0m \u001b[32m0.0/12.9 MB\u001b[0m \u001b[31m?\u001b[0m eta \u001b[36m-:--:--\u001b[0m\r\u001b[2K     \u001b[91m━━━\u001b[0m\u001b[91m╸\u001b[0m\u001b[90m━━━━━━━━━━━━━━━━━━━━━━━━━━━━━━━━━━━━\u001b[0m \u001b[32m1.2/12.9 MB\u001b[0m \u001b[31m38.1 MB/s\u001b[0m eta \u001b[36m0:00:01\u001b[0m\r\u001b[2K     \u001b[91m━━━━━━━━━━━━━━━━━━━━━━━\u001b[0m\u001b[90m╺\u001b[0m\u001b[90m━━━━━━━━━━━━━━━━\u001b[0m \u001b[32m7.6/12.9 MB\u001b[0m \u001b[31m110.8 MB/s\u001b[0m eta \u001b[36m0:00:01\u001b[0m\r\u001b[2K     \u001b[91m━━━━━━━━━━━━━━━━━━━━━━━━━━━━━━━━━━━━━━\u001b[0m\u001b[91m╸\u001b[0m \u001b[32m12.9/12.9 MB\u001b[0m \u001b[31m199.7 MB/s\u001b[0m eta \u001b[36m0:00:01\u001b[0m\r\u001b[2K     \u001b[90m━━━━━━━━━━━━━━━━━━━━━━━━━━━━━━━━━━━━━━━\u001b[0m \u001b[32m12.9/12.9 MB\u001b[0m \u001b[31m113.9 MB/s\u001b[0m eta \u001b[36m0:00:00\u001b[0m\n",
            "\u001b[?25h\u001b[38;5;2m✔ Download and installation successful\u001b[0m\n",
            "You can now load the package via spacy.load('es_core_news_sm')\n",
            "\u001b[38;5;3m⚠ Restart to reload dependencies\u001b[0m\n",
            "If you are in a Jupyter or Colab notebook, you may need to restart Python in\n",
            "order to load all the package's dependencies. You can do this by selecting the\n",
            "'Restart kernel' or 'Restart runtime' option.\n"
          ]
        }
      ],
      "source": [
        "!pip install spacy --quiet\n",
        "!python -m spacy download es_core_news_sm --quiet\n"
      ]
    },
    {
      "cell_type": "code",
      "source": [
        "import spacy\n",
        "nlp = spacy.load(\"es_core_news_sm\")\n",
        "import es_core_news_sm\n",
        "nlp = es_core_news_sm.load()\n",
        "doc = nlp(\"Esto es una frase.\")\n",
        "print([(w.text, w.pos_) for w in doc])"
      ],
      "metadata": {
        "id": "D9SRh-eDdpWp",
        "colab": {
          "base_uri": "https://localhost:8080/"
        },
        "outputId": "0abae036-c314-42ab-c711-cf66375db837"
      },
      "execution_count": null,
      "outputs": [
        {
          "output_type": "stream",
          "name": "stdout",
          "text": [
            "[('Esto', 'PRON'), ('es', 'AUX'), ('una', 'DET'), ('frase', 'NOUN'), ('.', 'PUNCT')]\n"
          ]
        }
      ]
    },
    {
      "cell_type": "markdown",
      "source": [
        "# Chatbots basados en recuperación\n",
        "\n",
        "En inglés information retrieval chatbots"
      ],
      "metadata": {
        "id": "UnrG-1ylkncZ"
      }
    },
    {
      "cell_type": "markdown",
      "source": [
        "# Motor de búsqueda"
      ],
      "metadata": {
        "id": "s3bs1FmWkfrz"
      }
    },
    {
      "cell_type": "markdown",
      "source": [
        "* Búsqueda por palabras clave: Extrae palabras clave de la pregunta del usuario y busca coincidencias en las preguntas almacenadas.\n",
        "\n",
        "* Similitud del coseno: Si has representado las preguntas como vectores (por ejemplo, usando TF-IDF o word embeddings), puedes usar la similitud del coseno para medir la distancia entre las preguntas.\n",
        "\n",
        "* Word embeddings: Utiliza modelos de word embeddings como Word2Vec o BERT para obtener representaciones semánticas de las preguntas y las consultas del usuario."
      ],
      "metadata": {
        "id": "enbz9kXGkWlx"
      }
    },
    {
      "cell_type": "markdown",
      "source": [
        "### Búsqueda por palabras claves"
      ],
      "metadata": {
        "id": "UQoVRp4gjxUo"
      }
    },
    {
      "cell_type": "code",
      "source": [
        "tu_diccionario = {\n",
        "   \"hola\": \"¡Hola! ¿En qué puedo ayudarte?\",\n",
        "   \"adiós\": \"Hasta luego. ¡Que tengas un buen día!\",\n",
        "   \"información\": \"¿Qué tipo de información estás buscando?\",\n",
        "   # Agrega más entradas de diccionario según tus necesidades\n",
        "}\n"
      ],
      "metadata": {
        "id": "3BljEMEOhpTO"
      },
      "execution_count": null,
      "outputs": []
    },
    {
      "cell_type": "code",
      "source": [
        "def responder_pregunta(pregunta):\n",
        "    pregunta_procesada = nlp(pregunta.lower())  # Procesa la pregunta y convierte a minúsculas\n",
        "    respuesta = \"Lo siento, no entiendo tu pregunta.\"\n",
        "\n",
        "    # Busca una coincidencia en el diccionario\n",
        "    for palabra in pregunta_procesada:\n",
        "        # regresa la primer coincidencia que encuentra\n",
        "        if palabra.text in tu_diccionario:\n",
        "            respuesta = tu_diccionario[palabra.text]\n",
        "            break\n",
        "\n",
        "    return respuesta\n"
      ],
      "metadata": {
        "id": "Z4q_k1_3hvyz"
      },
      "execution_count": null,
      "outputs": []
    },
    {
      "cell_type": "code",
      "source": [
        "while True:\n",
        "    entrada_usuario = input(\"Tú: \")\n",
        "    if entrada_usuario.lower() == \"salir\":\n",
        "        print(\"Chatbot: Hasta luego.\")\n",
        "        break\n",
        "    respuesta = responder_pregunta(entrada_usuario)\n",
        "    print(\"Chatbot:\", respuesta)\n"
      ],
      "metadata": {
        "id": "9gMPKi-ghwcA",
        "collapsed": true,
        "colab": {
          "base_uri": "https://localhost:8080/"
        },
        "outputId": "eacbf218-0285-4210-b032-6ce21a3fcfe5"
      },
      "execution_count": null,
      "outputs": [
        {
          "output_type": "stream",
          "name": "stdout",
          "text": [
            "Tú: salir\n",
            "Chatbot: Hasta luego.\n"
          ]
        }
      ]
    },
    {
      "cell_type": "markdown",
      "source": [],
      "metadata": {
        "id": "6S88twrY5sOS"
      }
    },
    {
      "cell_type": "markdown",
      "source": [
        "## Búsqueda por similitud"
      ],
      "metadata": {
        "id": "nI2FsyUOj3je"
      }
    },
    {
      "cell_type": "markdown",
      "source": [
        "Para los chatbots basados ​​en recuperación, es común utilizar bolsas de palabras (bag of words) o tf-idf para calcular la similitud de intenciones."
      ],
      "metadata": {
        "id": "AoZIaX0Kj7xs"
      }
    },
    {
      "cell_type": "code",
      "source": [
        "from sklearn.feature_extraction.text import TfidfVectorizer\n",
        "from sklearn.metrics.pairwise import cosine_similarity\n",
        "\n",
        "# Datos de ejemplo\n",
        "preguntas = [\"¿Qué es el aprendizaje automático?\",\n",
        "             \"¿Cómo funciona la regresión lineal?\"]\n",
        "respuestas = [\"El aprendizaje automático es una rama de la inteligencia artificial...\",\n",
        "              \"La regresión lineal es un método de modelado...\"]\n",
        "\n",
        "# Vectorización con TF-IDF\n",
        "vectorizer = TfidfVectorizer()\n",
        "tfidf_matrix = vectorizer.fit_transform(preguntas)\n",
        "\n",
        "# Función para encontrar la mejor coincidencia\n",
        "def responder_pregunta(consulta_usuario):\n",
        "    consulta_vec = vectorizer.transform([consulta_usuario])\n",
        "    similitudes = cosine_similarity(consulta_vec, tfidf_matrix).flatten()\n",
        "    print(similitudes)\n",
        "    indice_mejor_coincidencia = similitudes.argmax()\n",
        "    print(indice_mejor_coincidencia)\n",
        "    return respuestas[indice_mejor_coincidencia]\n"
      ],
      "metadata": {
        "id": "CReIz0ISj75s"
      },
      "execution_count": null,
      "outputs": []
    },
    {
      "cell_type": "code",
      "source": [
        "\n",
        "# Ejemplo de consulta\n",
        "consulta = \"¿Qué es la regresión lineal?\"\n",
        "print(responder_pregunta(consulta))\n"
      ],
      "metadata": {
        "id": "foqaZ1FN583i",
        "colab": {
          "base_uri": "https://localhost:8080/"
        },
        "outputId": "39918587-3577-4e63-fd44-fe1d00af6944"
      },
      "execution_count": null,
      "outputs": [
        {
          "output_type": "stream",
          "name": "stdout",
          "text": [
            "[0.4 0.6]\n",
            "1\n",
            "La regresión lineal es un método de modelado...\n"
          ]
        }
      ]
    },
    {
      "cell_type": "markdown",
      "source": [
        "## Búsqueda por similitud en embeddings"
      ],
      "metadata": {
        "id": "20KCxfCymOHP"
      }
    },
    {
      "cell_type": "markdown",
      "source": [
        "Puedes vectorizar el texto usando embeddings, como vimos la clase pasada.\n"
      ],
      "metadata": {
        "id": "7g6jgLSLnilX"
      }
    },
    {
      "cell_type": "markdown",
      "source": [
        "## Actividades\n",
        "\n",
        "### 1) Elaborar un dataset de preguntas y respuestas para crear un Chatbot para un aplicación particular. ( 3 puntos )\n",
        "\n",
        "1.1 Debe definir la aplicación (atención al cliente bancario, atención a estudiantes universitarios, etc).\n",
        "1.2 El listado de preguntas y respuestas debe tener como mínimo 20 elementos pregunta - respuesta.\n",
        "\n",
        "###  2) Crear el chatbot utilizando TFIDF y similitud del coseno. (1 punto)\n",
        "\n",
        "### 3) Crear otro chatbot utilizando embeddings. Indique cuál embedding (1 punto) pre-entrenado eligió.\n",
        "\n",
        "### 4) Muestra ambos chatbots funcionando (1 punto)\n",
        "\n",
        "Adjuntar la lista de preguntas utilizadas para probar el funcionamiento.\n",
        "\n",
        "### 5) Añade tus conclusiones de todo lo realizado (2 punto)\n",
        "\n",
        "### 6) BONUS: usa lo realizado en 1 y 3 para crear un chatbot RAG. (2 puntos)\n",
        "\n",
        "* Utiliza un modelo LLM pre-entrenado.\n",
        "\n",
        "* Este punto no es obligatorio de realizar para quienes quieran regularizar / recuperar y luego rendirán en mesa.\n",
        "* Para quienes tienen condiciones para promocionar (han realizado y entregado los TPs a tiempo) la resolución de este ejercicio será tenida en cuenta para sumar a la promoción.\n",
        "\n",
        "### 7) No olvides:\n",
        "\n",
        "* Explicar tus decisiones y configuraciones. Añadir tus conclusiones.\n",
        "* Anunciar en el foro cuál será tu aplicación y postear tu entrega y tus avances.\n",
        "* Debes subir tu notebook a un repo GitHub público de tu propiedad compartido + enlace colab.\n",
        "* Documentar todo el proceso.\n",
        "\n",
        "\n",
        "\n"
      ],
      "metadata": {
        "id": "1sGxF1VglJVd"
      }
    },
    {
      "cell_type": "markdown",
      "source": [
        "## 1. Elección de aplicación (Chatbot Jurídico)"
      ],
      "metadata": {
        "id": "o_6AVESuyxsI"
      }
    },
    {
      "cell_type": "code",
      "source": [
        "!pip install spacy --quiet\n",
        "!python -m spacy download es_core_news_sm --quiet"
      ],
      "metadata": {
        "collapsed": true,
        "id": "8wy87dxN434A",
        "colab": {
          "base_uri": "https://localhost:8080/"
        },
        "outputId": "d6bfaef8-0ec2-401e-ec4b-c5d09d9d2613"
      },
      "execution_count": null,
      "outputs": [
        {
          "output_type": "stream",
          "name": "stdout",
          "text": [
            "\u001b[?25l     \u001b[90m━━━━━━━━━━━━━━━━━━━━━━━━━━━━━━━━━━━━━━━━\u001b[0m \u001b[32m0.0/12.9 MB\u001b[0m \u001b[31m?\u001b[0m eta \u001b[36m-:--:--\u001b[0m\r\u001b[2K     \u001b[91m━━\u001b[0m\u001b[90m╺\u001b[0m\u001b[90m━━━━━━━━━━━━━━━━━━━━━━━━━━━━━━━━━━━━━\u001b[0m \u001b[32m0.7/12.9 MB\u001b[0m \u001b[31m19.8 MB/s\u001b[0m eta \u001b[36m0:00:01\u001b[0m\r\u001b[2K     \u001b[91m━━━━━━━━━━━━━━━━━━━\u001b[0m\u001b[91m╸\u001b[0m\u001b[90m━━━━━━━━━━━━━━━━━━━━\u001b[0m \u001b[32m6.4/12.9 MB\u001b[0m \u001b[31m93.6 MB/s\u001b[0m eta \u001b[36m0:00:01\u001b[0m\r\u001b[2K     \u001b[91m━━━━━━━━━━━━━━━━━━━━━━━━━━━━━━━━━━━━━━\u001b[0m\u001b[91m╸\u001b[0m \u001b[32m12.9/12.9 MB\u001b[0m \u001b[31m207.3 MB/s\u001b[0m eta \u001b[36m0:00:01\u001b[0m\r\u001b[2K     \u001b[90m━━━━━━━━━━━━━━━━━━━━━━━━━━━━━━━━━━━━━━━\u001b[0m \u001b[32m12.9/12.9 MB\u001b[0m \u001b[31m115.1 MB/s\u001b[0m eta \u001b[36m0:00:00\u001b[0m\n",
            "\u001b[?25h\u001b[38;5;2m✔ Download and installation successful\u001b[0m\n",
            "You can now load the package via spacy.load('es_core_news_sm')\n",
            "\u001b[38;5;3m⚠ Restart to reload dependencies\u001b[0m\n",
            "If you are in a Jupyter or Colab notebook, you may need to restart Python in\n",
            "order to load all the package's dependencies. You can do this by selecting the\n",
            "'Restart kernel' or 'Restart runtime' option.\n"
          ]
        }
      ]
    },
    {
      "cell_type": "code",
      "source": [
        "import pandas as pd\n",
        "import nltk\n",
        "import re\n",
        "import spacy\n",
        "from sklearn.feature_extraction.text import TfidfVectorizer\n",
        "from sklearn.metrics.pairwise import cosine_similarity"
      ],
      "metadata": {
        "id": "bkw8I6I64Gxd"
      },
      "execution_count": null,
      "outputs": []
    },
    {
      "cell_type": "code",
      "source": [
        "# Carga del dataset\n",
        "url = 'https://raw.githubusercontent.com/Bustagar/PROCESAMIENTO-DE-HABLA/refs/heads/main/Preguntas_Derecho.csv'\n",
        "\n",
        "df = pd.read_csv(url)\n",
        "df.head()"
      ],
      "metadata": {
        "id": "gcJawUbYy_ZV",
        "colab": {
          "base_uri": "https://localhost:8080/",
          "height": 206
        },
        "outputId": "9bf9c91d-2623-431c-aefc-878e708882ed"
      },
      "execution_count": null,
      "outputs": [
        {
          "output_type": "execute_result",
          "data": {
            "text/plain": [
              "                                            Pregunta  \\\n",
              "0                 ¿Qué es el Derecho Constitucional?   \n",
              "1   ¿Cuál es la función de la Constitución Nacional?   \n",
              "2  ¿Qué órgano controla la constitucionalidad de ...   \n",
              "3             ¿Qué derechos protege la Constitución?   \n",
              "4                        ¿Qué es un estado de sitio?   \n",
              "\n",
              "                                           Respuesta  \n",
              "0  Es la rama del derecho público que estudia la ...  \n",
              "1  Establecer la organización del Estado y garant...  \n",
              "2   El Poder Judicial, a través de la Corte Suprema.  \n",
              "3  Los derechos civiles, políticos, sociales y ec...  \n",
              "4  Es una medida excepcional que restringe libert...  "
            ],
            "text/html": [
              "\n",
              "  <div id=\"df-70bf38ab-e4c4-4996-aec2-10058843391d\" class=\"colab-df-container\">\n",
              "    <div>\n",
              "<style scoped>\n",
              "    .dataframe tbody tr th:only-of-type {\n",
              "        vertical-align: middle;\n",
              "    }\n",
              "\n",
              "    .dataframe tbody tr th {\n",
              "        vertical-align: top;\n",
              "    }\n",
              "\n",
              "    .dataframe thead th {\n",
              "        text-align: right;\n",
              "    }\n",
              "</style>\n",
              "<table border=\"1\" class=\"dataframe\">\n",
              "  <thead>\n",
              "    <tr style=\"text-align: right;\">\n",
              "      <th></th>\n",
              "      <th>Pregunta</th>\n",
              "      <th>Respuesta</th>\n",
              "    </tr>\n",
              "  </thead>\n",
              "  <tbody>\n",
              "    <tr>\n",
              "      <th>0</th>\n",
              "      <td>¿Qué es el Derecho Constitucional?</td>\n",
              "      <td>Es la rama del derecho público que estudia la ...</td>\n",
              "    </tr>\n",
              "    <tr>\n",
              "      <th>1</th>\n",
              "      <td>¿Cuál es la función de la Constitución Nacional?</td>\n",
              "      <td>Establecer la organización del Estado y garant...</td>\n",
              "    </tr>\n",
              "    <tr>\n",
              "      <th>2</th>\n",
              "      <td>¿Qué órgano controla la constitucionalidad de ...</td>\n",
              "      <td>El Poder Judicial, a través de la Corte Suprema.</td>\n",
              "    </tr>\n",
              "    <tr>\n",
              "      <th>3</th>\n",
              "      <td>¿Qué derechos protege la Constitución?</td>\n",
              "      <td>Los derechos civiles, políticos, sociales y ec...</td>\n",
              "    </tr>\n",
              "    <tr>\n",
              "      <th>4</th>\n",
              "      <td>¿Qué es un estado de sitio?</td>\n",
              "      <td>Es una medida excepcional que restringe libert...</td>\n",
              "    </tr>\n",
              "  </tbody>\n",
              "</table>\n",
              "</div>\n",
              "    <div class=\"colab-df-buttons\">\n",
              "\n",
              "  <div class=\"colab-df-container\">\n",
              "    <button class=\"colab-df-convert\" onclick=\"convertToInteractive('df-70bf38ab-e4c4-4996-aec2-10058843391d')\"\n",
              "            title=\"Convert this dataframe to an interactive table.\"\n",
              "            style=\"display:none;\">\n",
              "\n",
              "  <svg xmlns=\"http://www.w3.org/2000/svg\" height=\"24px\" viewBox=\"0 -960 960 960\">\n",
              "    <path d=\"M120-120v-720h720v720H120Zm60-500h600v-160H180v160Zm220 220h160v-160H400v160Zm0 220h160v-160H400v160ZM180-400h160v-160H180v160Zm440 0h160v-160H620v160ZM180-180h160v-160H180v160Zm440 0h160v-160H620v160Z\"/>\n",
              "  </svg>\n",
              "    </button>\n",
              "\n",
              "  <style>\n",
              "    .colab-df-container {\n",
              "      display:flex;\n",
              "      gap: 12px;\n",
              "    }\n",
              "\n",
              "    .colab-df-convert {\n",
              "      background-color: #E8F0FE;\n",
              "      border: none;\n",
              "      border-radius: 50%;\n",
              "      cursor: pointer;\n",
              "      display: none;\n",
              "      fill: #1967D2;\n",
              "      height: 32px;\n",
              "      padding: 0 0 0 0;\n",
              "      width: 32px;\n",
              "    }\n",
              "\n",
              "    .colab-df-convert:hover {\n",
              "      background-color: #E2EBFA;\n",
              "      box-shadow: 0px 1px 2px rgba(60, 64, 67, 0.3), 0px 1px 3px 1px rgba(60, 64, 67, 0.15);\n",
              "      fill: #174EA6;\n",
              "    }\n",
              "\n",
              "    .colab-df-buttons div {\n",
              "      margin-bottom: 4px;\n",
              "    }\n",
              "\n",
              "    [theme=dark] .colab-df-convert {\n",
              "      background-color: #3B4455;\n",
              "      fill: #D2E3FC;\n",
              "    }\n",
              "\n",
              "    [theme=dark] .colab-df-convert:hover {\n",
              "      background-color: #434B5C;\n",
              "      box-shadow: 0px 1px 3px 1px rgba(0, 0, 0, 0.15);\n",
              "      filter: drop-shadow(0px 1px 2px rgba(0, 0, 0, 0.3));\n",
              "      fill: #FFFFFF;\n",
              "    }\n",
              "  </style>\n",
              "\n",
              "    <script>\n",
              "      const buttonEl =\n",
              "        document.querySelector('#df-70bf38ab-e4c4-4996-aec2-10058843391d button.colab-df-convert');\n",
              "      buttonEl.style.display =\n",
              "        google.colab.kernel.accessAllowed ? 'block' : 'none';\n",
              "\n",
              "      async function convertToInteractive(key) {\n",
              "        const element = document.querySelector('#df-70bf38ab-e4c4-4996-aec2-10058843391d');\n",
              "        const dataTable =\n",
              "          await google.colab.kernel.invokeFunction('convertToInteractive',\n",
              "                                                    [key], {});\n",
              "        if (!dataTable) return;\n",
              "\n",
              "        const docLinkHtml = 'Like what you see? Visit the ' +\n",
              "          '<a target=\"_blank\" href=https://colab.research.google.com/notebooks/data_table.ipynb>data table notebook</a>'\n",
              "          + ' to learn more about interactive tables.';\n",
              "        element.innerHTML = '';\n",
              "        dataTable['output_type'] = 'display_data';\n",
              "        await google.colab.output.renderOutput(dataTable, element);\n",
              "        const docLink = document.createElement('div');\n",
              "        docLink.innerHTML = docLinkHtml;\n",
              "        element.appendChild(docLink);\n",
              "      }\n",
              "    </script>\n",
              "  </div>\n",
              "\n",
              "\n",
              "    <div id=\"df-18e4043e-c11c-4861-9f00-9c03fb98752a\">\n",
              "      <button class=\"colab-df-quickchart\" onclick=\"quickchart('df-18e4043e-c11c-4861-9f00-9c03fb98752a')\"\n",
              "                title=\"Suggest charts\"\n",
              "                style=\"display:none;\">\n",
              "\n",
              "<svg xmlns=\"http://www.w3.org/2000/svg\" height=\"24px\"viewBox=\"0 0 24 24\"\n",
              "     width=\"24px\">\n",
              "    <g>\n",
              "        <path d=\"M19 3H5c-1.1 0-2 .9-2 2v14c0 1.1.9 2 2 2h14c1.1 0 2-.9 2-2V5c0-1.1-.9-2-2-2zM9 17H7v-7h2v7zm4 0h-2V7h2v10zm4 0h-2v-4h2v4z\"/>\n",
              "    </g>\n",
              "</svg>\n",
              "      </button>\n",
              "\n",
              "<style>\n",
              "  .colab-df-quickchart {\n",
              "      --bg-color: #E8F0FE;\n",
              "      --fill-color: #1967D2;\n",
              "      --hover-bg-color: #E2EBFA;\n",
              "      --hover-fill-color: #174EA6;\n",
              "      --disabled-fill-color: #AAA;\n",
              "      --disabled-bg-color: #DDD;\n",
              "  }\n",
              "\n",
              "  [theme=dark] .colab-df-quickchart {\n",
              "      --bg-color: #3B4455;\n",
              "      --fill-color: #D2E3FC;\n",
              "      --hover-bg-color: #434B5C;\n",
              "      --hover-fill-color: #FFFFFF;\n",
              "      --disabled-bg-color: #3B4455;\n",
              "      --disabled-fill-color: #666;\n",
              "  }\n",
              "\n",
              "  .colab-df-quickchart {\n",
              "    background-color: var(--bg-color);\n",
              "    border: none;\n",
              "    border-radius: 50%;\n",
              "    cursor: pointer;\n",
              "    display: none;\n",
              "    fill: var(--fill-color);\n",
              "    height: 32px;\n",
              "    padding: 0;\n",
              "    width: 32px;\n",
              "  }\n",
              "\n",
              "  .colab-df-quickchart:hover {\n",
              "    background-color: var(--hover-bg-color);\n",
              "    box-shadow: 0 1px 2px rgba(60, 64, 67, 0.3), 0 1px 3px 1px rgba(60, 64, 67, 0.15);\n",
              "    fill: var(--button-hover-fill-color);\n",
              "  }\n",
              "\n",
              "  .colab-df-quickchart-complete:disabled,\n",
              "  .colab-df-quickchart-complete:disabled:hover {\n",
              "    background-color: var(--disabled-bg-color);\n",
              "    fill: var(--disabled-fill-color);\n",
              "    box-shadow: none;\n",
              "  }\n",
              "\n",
              "  .colab-df-spinner {\n",
              "    border: 2px solid var(--fill-color);\n",
              "    border-color: transparent;\n",
              "    border-bottom-color: var(--fill-color);\n",
              "    animation:\n",
              "      spin 1s steps(1) infinite;\n",
              "  }\n",
              "\n",
              "  @keyframes spin {\n",
              "    0% {\n",
              "      border-color: transparent;\n",
              "      border-bottom-color: var(--fill-color);\n",
              "      border-left-color: var(--fill-color);\n",
              "    }\n",
              "    20% {\n",
              "      border-color: transparent;\n",
              "      border-left-color: var(--fill-color);\n",
              "      border-top-color: var(--fill-color);\n",
              "    }\n",
              "    30% {\n",
              "      border-color: transparent;\n",
              "      border-left-color: var(--fill-color);\n",
              "      border-top-color: var(--fill-color);\n",
              "      border-right-color: var(--fill-color);\n",
              "    }\n",
              "    40% {\n",
              "      border-color: transparent;\n",
              "      border-right-color: var(--fill-color);\n",
              "      border-top-color: var(--fill-color);\n",
              "    }\n",
              "    60% {\n",
              "      border-color: transparent;\n",
              "      border-right-color: var(--fill-color);\n",
              "    }\n",
              "    80% {\n",
              "      border-color: transparent;\n",
              "      border-right-color: var(--fill-color);\n",
              "      border-bottom-color: var(--fill-color);\n",
              "    }\n",
              "    90% {\n",
              "      border-color: transparent;\n",
              "      border-bottom-color: var(--fill-color);\n",
              "    }\n",
              "  }\n",
              "</style>\n",
              "\n",
              "      <script>\n",
              "        async function quickchart(key) {\n",
              "          const quickchartButtonEl =\n",
              "            document.querySelector('#' + key + ' button');\n",
              "          quickchartButtonEl.disabled = true;  // To prevent multiple clicks.\n",
              "          quickchartButtonEl.classList.add('colab-df-spinner');\n",
              "          try {\n",
              "            const charts = await google.colab.kernel.invokeFunction(\n",
              "                'suggestCharts', [key], {});\n",
              "          } catch (error) {\n",
              "            console.error('Error during call to suggestCharts:', error);\n",
              "          }\n",
              "          quickchartButtonEl.classList.remove('colab-df-spinner');\n",
              "          quickchartButtonEl.classList.add('colab-df-quickchart-complete');\n",
              "        }\n",
              "        (() => {\n",
              "          let quickchartButtonEl =\n",
              "            document.querySelector('#df-18e4043e-c11c-4861-9f00-9c03fb98752a button');\n",
              "          quickchartButtonEl.style.display =\n",
              "            google.colab.kernel.accessAllowed ? 'block' : 'none';\n",
              "        })();\n",
              "      </script>\n",
              "    </div>\n",
              "\n",
              "    </div>\n",
              "  </div>\n"
            ],
            "application/vnd.google.colaboratory.intrinsic+json": {
              "type": "dataframe",
              "variable_name": "df",
              "summary": "{\n  \"name\": \"df\",\n  \"rows\": 150,\n  \"fields\": [\n    {\n      \"column\": \"Pregunta\",\n      \"properties\": {\n        \"dtype\": \"string\",\n        \"num_unique_values\": 140,\n        \"samples\": [\n          \"\\u00bfQu\\u00e9 es el principio de m\\u00ednima intervenci\\u00f3n?\",\n          \"\\u00bfQu\\u00e9 es el patrimonio?\",\n          \"\\u00bfQu\\u00e9 es el principio de legalidad penal?\"\n        ],\n        \"semantic_type\": \"\",\n        \"description\": \"\"\n      }\n    },\n    {\n      \"column\": \"Respuesta\",\n      \"properties\": {\n        \"dtype\": \"string\",\n        \"num_unique_values\": 150,\n        \"samples\": [\n          \"La libertad de las personas para regular sus relaciones.\",\n          \"El conjunto de actividades al servicio del inter\\u00e9s general realizadas por agentes p\\u00fablicos.\",\n          \"Etapa del proceso penal con publicidad y contradicci\\u00f3n.\"\n        ],\n        \"semantic_type\": \"\",\n        \"description\": \"\"\n      }\n    }\n  ]\n}"
            }
          },
          "metadata": {},
          "execution_count": 96
        }
      ]
    },
    {
      "cell_type": "code",
      "source": [
        "# Carga del modelo de spaCy y descarga de recursos\n",
        "nlp = spacy.load(\"es_core_news_sm\")\n",
        "nltk.download('stopwords')\n",
        "stopwords_es = set(nltk.corpus.stopwords.words('spanish'))"
      ],
      "metadata": {
        "id": "T51nT_Rg-HGB",
        "colab": {
          "base_uri": "https://localhost:8080/"
        },
        "outputId": "d5889ceb-0e21-439d-c587-20358d3ee67d"
      },
      "execution_count": null,
      "outputs": [
        {
          "output_type": "stream",
          "name": "stderr",
          "text": [
            "[nltk_data] Downloading package stopwords to /root/nltk_data...\n",
            "[nltk_data]   Package stopwords is already up-to-date!\n"
          ]
        }
      ]
    },
    {
      "cell_type": "markdown",
      "source": [
        "## 2.1 Procesamiento y limpieza"
      ],
      "metadata": {
        "id": "ilzJvnb0-KWC"
      }
    },
    {
      "cell_type": "code",
      "source": [
        "def limpiar_texto(text):\n",
        "    text = text.lower()                                    # Convertir todo a minúsculas\n",
        "    text = re.sub(r'[.¡!¿?\\'\\\"“”‘’«»…]', '', text)         # Eliminar signos de puntuación comunes\n",
        "    text = re.sub(r'\\s+', ' ', text).strip()               # Reemplazar múltiples espacios por uno\n",
        "    text = re.sub(r'\\.\\.\\.', '', text)                     # Eliminar puntos suspensivos\n",
        "    text = re.sub(r'[^a-zñáéíóúü\\s]', '', text)            # Quitar todo lo que no sea letra o espacio\n",
        "    return text\n",
        "\n",
        "def lematizar_y_filtrar(text):\n",
        "    doc = nlp(text)                                        # Procesar el texto con spaCy\n",
        "    lemmas = [token.lemma_ for token in doc\n",
        "              if token.lemma_ not in stopwords_es and token.is_alpha]  # Lemas sin stopwords\n",
        "    return \" \".join(lemmas)                                # Unir los lemas en una sola cadena\n",
        "\n",
        "def procesar_preguntas(preguntas):\n",
        "    preguntas_limpias = [limpiar_texto(q) for q in preguntas]           # Aplicar limpieza básica a cada pregunta\n",
        "    preguntas_procesadas = [lematizar_y_filtrar(q) for q in preguntas_limpias]  # Lematizar y eliminar stopwords\n",
        "    return preguntas_procesadas"
      ],
      "metadata": {
        "id": "pexW_bIw-iUn"
      },
      "execution_count": null,
      "outputs": []
    },
    {
      "cell_type": "markdown",
      "source": [
        "- Se lematizaron primeramente las preguntas antes de quitar las stopword ya que al haber muchas palabras conjugadas o flexionadas no las reconoce el stopword y las deja en el texto, produciendo mas ruido."
      ],
      "metadata": {
        "id": "yCEOLzFyCNoM"
      }
    },
    {
      "cell_type": "markdown",
      "source": [
        "## 2.2 Vectorizacion aplicando TF-IDF"
      ],
      "metadata": {
        "id": "TwWy529yDQDm"
      }
    },
    {
      "cell_type": "code",
      "source": [
        "preguntas_procesadas = procesar_preguntas(df['Pregunta'].tolist())  # Procesar todas las preguntas\n",
        "\n",
        "df['Pregunta_procesada'] = preguntas_procesadas           # Agregar columna con preguntas procesadas al DataFrame\n",
        "\n",
        "vectorizer = TfidfVectorizer()                            # Crear el vectorizador TF-IDF\n",
        "X = vectorizer.fit_transform(df['Pregunta_procesada'])    # Vectorizar las preguntas del corpus"
      ],
      "metadata": {
        "id": "QeUhaIGsCyP2"
      },
      "execution_count": null,
      "outputs": []
    },
    {
      "cell_type": "markdown",
      "source": [
        "## 2.3 Chatbot con TF-IDF"
      ],
      "metadata": {
        "id": "oN2P-NilEH22"
      }
    },
    {
      "cell_type": "code",
      "source": [
        "def chatbot_responder(pregunta_usuario):\n",
        "    entrada = pregunta_usuario.lower().strip()\n",
        "\n",
        "    # Respuesta personalizada si detecta un saludo simple\n",
        "    if entrada in ['hola', 'buenas', 'buen día', 'buenas tardes', 'buenas noches', 'qué tal', 'saludos']:\n",
        "        return \"Hola! ¿En qué puedo ayudarte?\"\n",
        "\n",
        "    pregunta_proc = lematizar_y_filtrar(limpiar_texto(entrada)) # Procesar la entrada del usuario\n",
        "    vector_usuario = vectorizer.transform([pregunta_proc])      # Vectorizar la pregunta procesada\n",
        "    similitudes = cosine_similarity(vector_usuario, X)          # Calcular similitud entre usuario y corpus\n",
        "\n",
        "    idx_max = similitudes.argmax()                   # Obtener el índice de la mejor coincidencia\n",
        "    score = similitudes[0][idx_max]                  # Obtener el puntaje de similitud más alto\n",
        "\n",
        "    if score > 0.3:                                  # Si el puntaje es razonable\n",
        "        return df.iloc[idx_max]['Respuesta']         # Devolver la respuesta correspondiente\n",
        "    else:\n",
        "        return \"No tengo una respuesta segura. ¿Podrías reformular la pregunta?\"  # Mensaje por defecto\n"
      ],
      "metadata": {
        "id": "LQfBWCikELzc"
      },
      "execution_count": null,
      "outputs": []
    },
    {
      "cell_type": "markdown",
      "source": [
        "## Evaluación de la similitud del coseno"
      ],
      "metadata": {
        "id": "IjqIbjuLH4Kg"
      }
    },
    {
      "cell_type": "code",
      "source": [
        "def evaluar_similitud(pregunta_usuario):\n",
        "    # Preprocesar la entrada\n",
        "    pregunta_proc = lematizar_y_filtrar(limpiar_texto(pregunta_usuario))\n",
        "\n",
        "    # Vectorizar\n",
        "    pregunta_vec = vectorizer.transform([pregunta_proc])\n",
        "\n",
        "    # Calcular similitud con todas las preguntas del corpus\n",
        "    similitudes = cosine_similarity(pregunta_vec, X)\n",
        "\n",
        "    # Obtener índice y puntaje de la mejor coincidencia\n",
        "    idx_max = similitudes.argmax()\n",
        "    score_max = similitudes[0][idx_max]\n",
        "\n",
        "    # Respuesta asociada\n",
        "    respuesta = df.iloc[idx_max]['Respuesta']\n",
        "\n",
        "    # Imprimir detalle\n",
        "    print(f\"Pregunta procesada:  {pregunta_proc}\")\n",
        "    print(f\"Similitud máxima:    {score_max:.4f}\")\n",
        "    print(f\"Índice en dataset:   {idx_max}\")\n",
        "    print(f\"Respuesta sugerida:  {respuesta}\")\n",
        "\n",
        "    return score_max, idx_max, respuesta\n"
      ],
      "metadata": {
        "id": "WN-YIJqdH7Fq"
      },
      "execution_count": null,
      "outputs": []
    },
    {
      "cell_type": "code",
      "source": [
        "# Se prueba la similitud\n",
        "pregunta = \"Delito doloso\"\n",
        "print(evaluar_similitud(pregunta))\n"
      ],
      "metadata": {
        "id": "kKeFPPS7I7uq",
        "colab": {
          "base_uri": "https://localhost:8080/"
        },
        "outputId": "bc894401-e300-446f-88cb-55b62c595602"
      },
      "execution_count": null,
      "outputs": [
        {
          "output_type": "stream",
          "name": "stdout",
          "text": [
            "Pregunta procesada:  delito doloso\n",
            "Similitud máxima:    0.9871\n",
            "Índice en dataset:   37\n",
            "Respuesta sugerida:  Aquel que se comete con intención.\n",
            "(np.float64(0.9871375349471265), np.int64(37), 'Aquel que se comete con intención.')\n"
          ]
        }
      ]
    },
    {
      "cell_type": "markdown",
      "source": [
        "## Se observa que al evaluar el indice del coseno se obtiene una similitud del 99% lo cual sugiere que el modelo capta muy bien la similitud"
      ],
      "metadata": {
        "id": "jgzpiudbJCYo"
      }
    },
    {
      "cell_type": "markdown",
      "source": [
        "# 3. Crear otro chatbot utilizando embeddings"
      ],
      "metadata": {
        "id": "cgHXncrcNA6U"
      }
    },
    {
      "cell_type": "markdown",
      "source": [
        "## MiniLm: Se utilizó este modelo ya que es liviano y multilingual y muy eficiente para medir similitud semántica entre frases, lo cual encontré que es ideal para lenguaje Jurídico aunque hay un modelo medianamente entrenado con lenguaje juríco que es Roberta, pero este embeddings no esta listo para tareas semánticas e iba a tener que hacerlo manualmente"
      ],
      "metadata": {
        "id": "I7sUW6C5Qy2n"
      }
    },
    {
      "cell_type": "code",
      "source": [
        "# Importación de librerias\n",
        "from sentence_transformers import SentenceTransformer\n",
        "from sentence_transformers.util import cos_sim"
      ],
      "metadata": {
        "id": "7T1EejpVPhYI"
      },
      "execution_count": null,
      "outputs": []
    },
    {
      "cell_type": "markdown",
      "source": [
        "## 3.1. Carga de modelo y codificación de preguntas"
      ],
      "metadata": {
        "id": "i-IVQm0JSNkV"
      }
    },
    {
      "cell_type": "code",
      "source": [
        "# Cargar modelo\n",
        "modelo_embedding = SentenceTransformer('paraphrase-multilingual-MiniLM-L12-v2')\n",
        "\n",
        "# Codificar preguntas del dataset (evitar nulos)\n",
        "preguntas_corpus = df['Pregunta'].fillna('').tolist()\n",
        "\n",
        "# Codificar todas las preguntas del corpus en vectores numéricos\n",
        "embeddings_corpus = modelo_embedding.encode(preguntas_corpus, convert_to_tensor=True)"
      ],
      "metadata": {
        "id": "JMK7zZTfQslB"
      },
      "execution_count": null,
      "outputs": []
    },
    {
      "cell_type": "markdown",
      "source": [
        "## 3.2. Chatbot con embeddings MiniLm"
      ],
      "metadata": {
        "id": "J2TdcWy-SYB1"
      }
    },
    {
      "cell_type": "code",
      "source": [
        "def chatbot_responder_minilm(pregunta_usuario):\n",
        "    entrada = pregunta_usuario.lower().strip()\n",
        "\n",
        "    # Detectar saludo básico\n",
        "    if entrada in ['hola', 'buenas', 'buen día', 'buenas tardes', 'buenas noches', 'qué tal', 'saludos']:\n",
        "        return \"Hola! ¿En qué puedo ayudarte?\"\n",
        "\n",
        "    # Codificar la pregunta con embeddings MiniLM\n",
        "    pregunta_emb = modelo_embedding.encode(pregunta_usuario, convert_to_tensor=True)\n",
        "    similitudes = cos_sim(pregunta_emb, embeddings_corpus)[0]\n",
        "\n",
        "    # Mejor coincidencia\n",
        "    idx_max = similitudes.argmax().item()\n",
        "    score_max = similitudes[idx_max].item()\n",
        "\n",
        "    # Evaluar umbral de similitud\n",
        "    if score_max > 0.5:\n",
        "        return df.iloc[idx_max]['Respuesta']\n",
        "    else:\n",
        "        return \"Lo siento, no encuentro una respuesta clara. ¿Querés reformular la pregunta?\"\n",
        "\n",
        "\n"
      ],
      "metadata": {
        "id": "aB-f7qCCSGGO"
      },
      "execution_count": null,
      "outputs": []
    },
    {
      "cell_type": "markdown",
      "source": [
        "## 3.3 Evaluación similitud del coseno"
      ],
      "metadata": {
        "id": "MJtzMbynfTsg"
      }
    },
    {
      "cell_type": "code",
      "source": [
        "def evaluar_similitud_minilm(pregunta_usuario):\n",
        "    # Codificar la pregunta como embedding con MiniLM\n",
        "    pregunta_emb = modelo_embedding.encode(pregunta_usuario, convert_to_tensor=True)\n",
        "\n",
        "    # Calcular similitud del coseno con todo el corpus embebido\n",
        "    similitudes = cos_sim(pregunta_emb, embeddings_corpus)[0].cpu().numpy()\n",
        "\n",
        "    # Obtener índice y puntaje de la mejor coincidencia\n",
        "    idx_max = similitudes.argmax()\n",
        "    score_max = similitudes[idx_max]\n",
        "\n",
        "    # Respuesta asociada\n",
        "    respuesta = df.iloc[idx_max]['Respuesta']\n",
        "\n",
        "    # Imprimir detalle\n",
        "    print(f\"Pregunta original:    {pregunta_usuario}\")\n",
        "    print(f\"Similitud máxima:     {score_max:.4f}\")\n",
        "    print(f\"Índice en dataset:    {idx_max}\")\n",
        "    print(f\"Pregunta coincidente: {df.iloc[idx_max]['Pregunta']}\")\n",
        "    print(f\"Respuesta sugerida:   {respuesta}\")\n",
        "\n",
        "    return score_max, idx_max, respuesta\n"
      ],
      "metadata": {
        "id": "ZoiFpnJ6fZma"
      },
      "execution_count": null,
      "outputs": []
    },
    {
      "cell_type": "code",
      "source": [
        "# Se prueba la similitud\n",
        "pregunta = \"Delito doloso\"\n",
        "print(evaluar_similitud(pregunta))"
      ],
      "metadata": {
        "id": "ww_aY-ovftgp",
        "colab": {
          "base_uri": "https://localhost:8080/"
        },
        "outputId": "137f6cf8-1dab-4ed5-942a-ec3e6bee839b"
      },
      "execution_count": null,
      "outputs": [
        {
          "output_type": "stream",
          "name": "stdout",
          "text": [
            "Pregunta procesada:  delito doloso\n",
            "Similitud máxima:    0.9871\n",
            "Índice en dataset:   37\n",
            "Respuesta sugerida:  Aquel que se comete con intención.\n",
            "(np.float64(0.9871375349471265), np.int64(37), 'Aquel que se comete con intención.')\n"
          ]
        }
      ]
    },
    {
      "cell_type": "markdown",
      "source": [
        "- Se observa una similitud bastante baja del 99%, lo que sugiere que el embeddings encuentra una buena similitud con respecto a la pregunta usada por el usuario y la contenida en el dataset.\n",
        "\n"
      ],
      "metadata": {
        "id": "IlCZyehGUHsS"
      }
    },
    {
      "cell_type": "markdown",
      "source": [
        "# 4. Muestra ambos chatbots funcionando"
      ],
      "metadata": {
        "id": "kGxapUlqWK3w"
      }
    },
    {
      "cell_type": "markdown",
      "source": [
        "## 4.1. Lista de preguntas reformuladas para ver la similitud"
      ],
      "metadata": {
        "id": "jer5SyAyWt7l"
      }
    },
    {
      "cell_type": "code",
      "source": [
        "preguntas_test = [\n",
        "    \"¿Cómo se define el Derecho Constitucional?\",\n",
        "    \"¿Para qué sirve la Constitución Nacional?\",\n",
        "    \"¿Quién se encarga de supervisar si una ley es constitucional?\",\n",
        "    \"¿Qué tipo de derechos están garantizados en la Constitución?\",\n",
        "]\n"
      ],
      "metadata": {
        "id": "zgrLQ9hRWPm2"
      },
      "execution_count": null,
      "outputs": []
    },
    {
      "cell_type": "markdown",
      "source": [
        "## 4.2 Prueba del Chatbot con TF-IDF"
      ],
      "metadata": {
        "id": "OOwONPGyEtuw"
      }
    },
    {
      "cell_type": "code",
      "source": [
        "while True:\n",
        "    entrada = input(\"Tú: \")\n",
        "    if entrada.lower() in ['salir', 'exit', 'adiós', 'adios', 'chau', 'chao', 'nos vemos', 'gracias']:\n",
        "        print(\"\\nChatbot: ¡Hasta luego!\")\n",
        "        break\n",
        "\n",
        "    respuesta = chatbot_responder(entrada)\n",
        "    print(f\"\\nChatbot: {respuesta}\\n\")"
      ],
      "metadata": {
        "id": "-FvWg5mWZ1o0",
        "colab": {
          "base_uri": "https://localhost:8080/"
        },
        "outputId": "35a3617e-ac51-492c-d97e-ee00d16e7db2"
      },
      "execution_count": 112,
      "outputs": [
        {
          "output_type": "stream",
          "name": "stdout",
          "text": [
            "Tú: hola\n",
            "\n",
            "Chatbot: Hola! ¿En qué puedo ayudarte?\n",
            "\n",
            "Tú: ¿Cómo se define el Derecho Constitucional?\n",
            "\n",
            "Chatbot: Es la rama del derecho público que estudia la estructura del Estado y los derechos fundamentales.\n",
            "\n",
            "Tú: ¿Quién se encarga de supervisar si una ley es constitucional?\n",
            "\n",
            "Chatbot: Es la rama del derecho público que estudia la estructura del Estado y los derechos fundamentales.\n",
            "\n",
            "Tú: gracias\n",
            "\n",
            "Chatbot: ¡Hasta luego!\n"
          ]
        }
      ]
    },
    {
      "cell_type": "markdown",
      "source": [
        "# 4.3 Prueba del Chatbot con Embeddings"
      ],
      "metadata": {
        "id": "fUxHB9sca8LG"
      }
    },
    {
      "cell_type": "code",
      "source": [
        "while True:\n",
        "    entrada = input(\"Tú: \")\n",
        "    if entrada.lower() in ['salir', 'exit', 'adiós', 'adios', 'chau', 'chao', 'nos vemos', 'gracias']:\n",
        "        print(\"\\nChatbot: ¡Hasta luego!\")\n",
        "        break\n",
        "\n",
        "    respuesta = chatbot_responder_minilm(entrada)\n",
        "    print(f\"\\nChatbot: {respuesta}\\n\")"
      ],
      "metadata": {
        "id": "axBkhYMCbFbK",
        "colab": {
          "base_uri": "https://localhost:8080/"
        },
        "outputId": "3fa299f5-a0c0-4ef9-fcc3-27b475e3ebdd"
      },
      "execution_count": 113,
      "outputs": [
        {
          "output_type": "stream",
          "name": "stdout",
          "text": [
            "Tú: hola\n",
            "\n",
            "Chatbot: Hola! ¿En qué puedo ayudarte?\n",
            "\n",
            "Tú: ¿Cómo se define el Derecho Constitucional?\n",
            "\n",
            "Chatbot: Es la rama del derecho público que estudia la estructura del Estado y los derechos fundamentales.\n",
            "\n",
            "Tú: ¿Quién se encarga de supervisar si una ley es constitucional?\n",
            "\n",
            "Chatbot: El Poder Judicial, a través de la Corte Suprema.\n",
            "\n",
            "Tú: chau\n",
            "\n",
            "Chatbot: ¡Hasta luego!\n"
          ]
        }
      ]
    }
  ]
}