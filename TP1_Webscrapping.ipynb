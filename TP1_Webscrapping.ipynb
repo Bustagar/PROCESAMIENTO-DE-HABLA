{
  "cells": [
    {
      "cell_type": "markdown",
      "metadata": {
        "id": "SR1VAqwzQ3wo"
      },
      "source": [
        "Instalamos la libreria beautifulsoup para extraer los datos del HTML"
      ]
    },
    {
      "cell_type": "code",
      "execution_count": 1,
      "metadata": {
        "colab": {
          "base_uri": "https://localhost:8080/"
        },
        "id": "BZ8pB7xRRRln",
        "outputId": "68fe4e3d-0c1f-4d83-cee4-7bcc2f01cbce"
      },
      "outputs": [
        {
          "name": "stdout",
          "output_type": "stream",
          "text": [
            "Requirement already satisfied: requests in c:\\users\\sebastian\\anaconda3\\lib\\site-packages (2.32.2)\n",
            "Requirement already satisfied: beautifulsoup4 in c:\\users\\sebastian\\anaconda3\\lib\\site-packages (4.12.3)\n",
            "Requirement already satisfied: html5lib in c:\\users\\sebastian\\anaconda3\\lib\\site-packages (1.1)\n",
            "Requirement already satisfied: charset-normalizer<4,>=2 in c:\\users\\sebastian\\anaconda3\\lib\\site-packages (from requests) (2.0.4)\n",
            "Requirement already satisfied: idna<4,>=2.5 in c:\\users\\sebastian\\anaconda3\\lib\\site-packages (from requests) (3.7)\n",
            "Requirement already satisfied: urllib3<3,>=1.21.1 in c:\\users\\sebastian\\anaconda3\\lib\\site-packages (from requests) (2.2.2)\n",
            "Requirement already satisfied: certifi>=2017.4.17 in c:\\users\\sebastian\\anaconda3\\lib\\site-packages (from requests) (2024.6.2)\n",
            "Requirement already satisfied: soupsieve>1.2 in c:\\users\\sebastian\\anaconda3\\lib\\site-packages (from beautifulsoup4) (2.5)\n",
            "Requirement already satisfied: six>=1.9 in c:\\users\\sebastian\\anaconda3\\lib\\site-packages (from html5lib) (1.16.0)\n",
            "Requirement already satisfied: webencodings in c:\\users\\sebastian\\anaconda3\\lib\\site-packages (from html5lib) (0.5.1)\n"
          ]
        }
      ],
      "source": [
        "! pip install requests beautifulsoup4 html5lib"
      ]
    },
    {
      "cell_type": "markdown",
      "metadata": {
        "id": "si_4opsGRiHm"
      },
      "source": [
        "  ✍ Voy a extraer una pequeña introducción de un motivador muy conocido que es Alex Dey y voy a citar \"Los principios fundamentales del exito\". de la siguiente web:https://dralexdey.com/los-principios-fundamentales-del-exito-segun-alex-dey/"
      ]
    },
    {
      "cell_type": "markdown",
      "metadata": {
        "id": "vceYjlkLM8ZW"
      },
      "source": [
        "# 1- Webscrapping"
      ]
    },
    {
      "cell_type": "code",
      "execution_count": 2,
      "metadata": {
        "id": "kdlRoKBN3TYe"
      },
      "outputs": [],
      "source": [
        "# Importamos las librerias\n",
        "import requests\n",
        "from bs4 import BeautifulSoup"
      ]
    },
    {
      "cell_type": "code",
      "execution_count": 3,
      "metadata": {
        "id": "-FOAPwR83g4T"
      },
      "outputs": [],
      "source": [
        "# URL de la portada de Alex Dey\n",
        "url = \"https://dralexdey.com/los-principios-fundamentales-del-exito-segun-alex-dey\"\n",
        "\n",
        "# Realizar la solicitud HTTP mas completo ya que el acceso esta bloqueado\n",
        "try:\n",
        "  headers = {\n",
        "    'User-Agent': 'Mozilla/5.0 (Windows NT 10.0; Win64; x64) AppleWebKit/537.36 (KHTML, like Gecko) Chrome/113.0.0.0 Safari/537.36 Edg/113.0.0.0'\n",
        "}\n",
        "  respuesta = requests.get(url, headers=headers)\n",
        "  respuesta.raise_for_status()  # Lanza una excepción si hay un error en la solicitud\n",
        "except requests.exceptions.RequestException as e:\n",
        "    print(f\"Error al consultar la URL {e}\")\n",
        "except Exception as e:\n",
        "    print(f\"Ocurrió un error inesperado: {e}\")\n"
      ]
    },
    {
      "cell_type": "markdown",
      "metadata": {
        "id": "Xvo70cABMxDR"
      },
      "source": [
        "## Se arma la sopa de letras"
      ]
    },
    {
      "cell_type": "code",
      "execution_count": 4,
      "metadata": {
        "id": "jzjaZMwDBpGN"
      },
      "outputs": [],
      "source": [
        "soup = BeautifulSoup(respuesta.content, \"html5lib\")"
      ]
    },
    {
      "cell_type": "code",
      "execution_count": 5,
      "metadata": {
        "colab": {
          "base_uri": "https://localhost:8080/"
        },
        "id": "AC94lRjKBtx_",
        "outputId": "0d964bd9-666b-4a84-c426-fae5caa2ea86"
      },
      "outputs": [
        {
          "data": {
            "text/plain": [
              "[<p><strong>Introducción:</strong></p>,\n",
              " <p>En el mundo del éxito y la motivación, hay nombres que destacan por encima de todos los demás. Uno de ellos es Alex Dey, un reconocido experto en motivación y ventas que ha transformado la vida de innumerables individuos a lo largo de los años. En este artículo, exploraremos los principios fundamentales que han impulsado el éxito de Alex Dey y han ayudado a tantas personas a alcanzar sus metas y sueños.</p>,\n",
              " <p>Un aspecto central del éxito, según Alex Dey, es la importancia de mantener una mentalidad positiva y cultivar la práctica de la visualización. Dey enfatiza la necesidad de creer en uno mismo y en la capacidad de lograr cualquier objetivo. A través de la visualización creativa, podemos imaginar claramente nuestros deseos y trabajar para convertirlos en realidad.</p>,\n",
              " <p>Para alcanzar el éxito en cualquier área de la vida, Dey subraya la necesidad de tener pasión por lo que se hace. La pasión es el combustible que impulsa la motivación y el compromiso necesarios para superar los obstáculos en el camino hacia el éxito. Junto con la pasión, la perseverancia es vital. Dey enseña que el éxito rara vez llega de la noche a la mañana, si no a través de un esfuerzo constante y una actitud resiliente ante los desafíos.</p>,\n",
              " <p>Alex Dey es un firme defensor del desarrollo personal y el aprendizaje constante. Para él, el éxito no solo se trata de lograr resultados externos, sino también de crecer y mejorar como individuos. Dey recomienda invertir tiempo en la adquisición de nuevos conocimientos, el desarrollo de habilidades relevantes y la superación de las limitaciones personales. El aprendizaje continuo es esencial para mantenerse actualizado y adaptarse a un entorno empresarial en constante cambio.</p>,\n",
              " <p>En su enfoque hacia las ventas y el éxito empresarial, Alex Dey pone un énfasis especial en el cliente y las relaciones humanas. Según él, el éxito duradero proviene de construir conexiones sólidas con los clientes, basadas en la confianza, el respeto y el servicio excepcional. Dey enfatiza la importancia de escuchar activamente a los clientes, comprender sus necesidades y superar sus expectativas. Para él, cada cliente es una oportunidad única de brindar un valor excepcional y dejar una impresión duradera.</p>,\n",
              " <p><strong>Conclusión:</strong></p>,\n",
              " <p>En resumen, los principios fundamentales del éxito, según Alex Dey, se basan en una mentalidad positiva, la pasión, la perseverancia, el desarrollo personal, el aprendizaje constante y el enfoque en el cliente y las relaciones humanas. A través de su vasta experiencia y conocimiento en motivación y ventas, Dey ha dejado un legado de sabiduría y estrategias que pueden ser aplicadas por cualquier persona que desee alcanzar el éxito en su vida personal y profesional. Siguiendo estos principios, podrás desbloquear tu potencial máximo y encaminarte hacia una vida llena de logros y satisfacción.</p>,\n",
              " <p>Recuerda que el éxito no ocurre de la noche a la mañana, requiere tiempo, esfuerzo y dedicación. Sigue los principios de Alex Dey y no te rindas ante los desafíos que puedas encontrar en el camino. ¡Con una mentalidad positiva, pasión y perseverancia, podrás alcanzar cualquier meta que te propongas!</p>,\n",
              " <p>Si estás listo para transformar tu vida y alcanzar el éxito, toma acción ahora mismo. Aplica los principios de Alex Dey en tu día a día, trabaja en tu desarrollo personal y fortalece tus relaciones con los demás. Recuerda que el éxito es un viaje, y cada paso que tomes te acercará más a la vida que deseas.</p>,\n",
              " <p>¡Únete al movimiento de éxito liderado por Alex Dey y descubre el poder que hay dentro de ti para lograr grandes cosas!</p>,\n",
              " <p class=\"elementor-heading-title elementor-size-default\">© Todos los derechos reservados a ALEX DEY </p>,\n",
              " <p class=\"elementor-heading-title elementor-size-default\">Desarrollo web Becerra Web y Erick Damián Aranda.</p>]"
            ]
          },
          "execution_count": 5,
          "metadata": {},
          "output_type": "execute_result"
        }
      ],
      "source": [
        "soup.find_all(\"p\")"
      ]
    },
    {
      "cell_type": "code",
      "execution_count": 6,
      "metadata": {
        "colab": {
          "base_uri": "https://localhost:8080/"
        },
        "id": "4GhVDZccCSrj",
        "outputId": "af1fa934-272b-4a50-e98b-3e63416aa27c"
      },
      "outputs": [
        {
          "name": "stdout",
          "output_type": "stream",
          "text": [
            "En el mundo del éxito y la motivación, hay nombres que destacan por encima de todos los demás. Uno de ellos es Alex Dey, un reconocido experto en motivación y ventas que ha transformado la vida de innumerables individuos a lo largo de los años. En este artículo, exploraremos los principios fundamentales que han impulsado el éxito de Alex Dey y han ayudado a tantas personas a alcanzar sus metas y sueños.Mentalidad positiva y visualizaciónUn aspecto central del éxito, según Alex Dey, es la importancia de mantener una mentalidad positiva y cultivar la práctica de la visualización. Dey enfatiza la necesidad de creer en uno mismo y en la capacidad de lograr cualquier objetivo. A través de la visualización creativa, podemos imaginar claramente nuestros deseos y trabajar para convertirlos en realidad.Pasión y perseveranciaPara alcanzar el éxito en cualquier área de la vida, Dey subraya la necesidad de tener pasión por lo que se hace. La pasión es el combustible que impulsa la motivación y el compromiso necesarios para superar los obstáculos en el camino hacia el éxito. Junto con la pasión, la perseverancia es vital. Dey enseña que el éxito rara vez llega de la noche a la mañana, si no a través de un esfuerzo constante y una actitud resiliente ante los desafíos.Desarrollo personal y aprendizaje constanteAlex Dey es un firme defensor del desarrollo personal y el aprendizaje constante. Para él, el éxito no solo se trata de lograr resultados externos, sino también de crecer y mejorar como individuos. Dey recomienda invertir tiempo en la adquisición de nuevos conocimientos, el desarrollo de habilidades relevantes y la superación de las limitaciones personales. El aprendizaje continuo es esencial para mantenerse actualizado y adaptarse a un entorno empresarial en constante cambio.Enfoque en el cliente y las relaciones humanasEn su enfoque hacia las ventas y el éxito empresarial, Alex Dey pone un énfasis especial en el cliente y las relaciones humanas. Según él, el éxito duradero proviene de construir conexiones sólidas con los clientes, basadas en la confianza, el respeto y el servicio excepcional. Dey enfatiza la importancia de escuchar activamente a los clientes, comprender sus necesidades y superar sus expectativas. Para él, cada cliente es una oportunidad única de brindar un valor excepcional y dejar una impresión duradera.Conclusión:En resumen, los principios fundamentales del éxito, según Alex Dey, se basan en una mentalidad positiva, la pasión, la perseverancia, el desarrollo personal, el aprendizaje constante y el enfoque en el cliente y las relaciones humanas. A través de su vasta experiencia y conocimiento en motivación y ventas, Dey ha dejado un legado de sabiduría y estrategias que pueden ser aplicadas por cualquier persona que desee alcanzar el éxito en su vida personal y profesional. Siguiendo estos principios, podrás desbloquear tu potencial máximo y encaminarte hacia una vida llena de logros y satisfacción.Recuerda que el éxito no ocurre de la noche a la mañana, requiere tiempo, esfuerzo y dedicación. Sigue los principios de Alex Dey y no te rindas ante los desafíos que puedas encontrar en el camino. ¡Con una mentalidad positiva, pasión y perseverancia, podrás alcanzar cualquier meta que te propongas!\n"
          ]
        }
      ],
      "source": [
        "# Extraer de texto todo el string que empieza con \"En el mundo del éxito\" y finaliza con \"cualquier meta que te propongas!\"\n",
        "\n",
        "import re # Módulo que permite trabajar con expresiones regulares\n",
        "\n",
        "texto = soup.get_text()  # Extrae el texto plano, sin la etiquetas HTML\n",
        "\n",
        "# Buscar el patrón utilizando expresiones regulares\n",
        "patron = r\"En el mundo del éxito.*?cualquier meta que te propongas!\"\n",
        "coincidencias = re.findall(patron, texto, re.DOTALL)\n",
        "\n",
        "# Imprimir las coincidencias\n",
        "for coincidencia in coincidencias:\n",
        "  print(coincidencia)"
      ]
    },
    {
      "cell_type": "code",
      "execution_count": 7,
      "metadata": {
        "colab": {
          "base_uri": "https://localhost:8080/",
          "height": 400
        },
        "id": "XEIopKMsCt4b",
        "outputId": "3a35a232-c66b-49a3-c438-de8a11e6856f"
      },
      "outputs": [
        {
          "data": {
            "text/plain": [
              "'En el mundo del éxito y la motivación, hay nombres que destacan por encima de todos los demás. Uno de ellos es Alex Dey, un reconocido experto en motivación y ventas que ha transformado la vida de innumerables individuos a lo largo de los años. En este artículo, exploraremos los principios fundamentales que han impulsado el éxito de Alex Dey y han ayudado a tantas personas a alcanzar sus metas y sueños.Mentalidad positiva y visualizaciónUn aspecto central del éxito, según Alex Dey, es la importancia de mantener una mentalidad positiva y cultivar la práctica de la visualización. Dey enfatiza la necesidad de creer en uno mismo y en la capacidad de lograr cualquier objetivo. A través de la visualización creativa, podemos imaginar claramente nuestros deseos y trabajar para convertirlos en realidad.Pasión y perseveranciaPara alcanzar el éxito en cualquier área de la vida, Dey subraya la necesidad de tener pasión por lo que se hace. La pasión es el combustible que impulsa la motivación y el compromiso necesarios para superar los obstáculos en el camino hacia el éxito. Junto con la pasión, la perseverancia es vital. Dey enseña que el éxito rara vez llega de la noche a la mañana, si no a través de un esfuerzo constante y una actitud resiliente ante los desafíos.Desarrollo personal y aprendizaje constanteAlex Dey es un firme defensor del desarrollo personal y el aprendizaje constante. Para él, el éxito no solo se trata de lograr resultados externos, sino también de crecer y mejorar como individuos. Dey recomienda invertir tiempo en la adquisición de nuevos conocimientos, el desarrollo de habilidades relevantes y la superación de las limitaciones personales. El aprendizaje continuo es esencial para mantenerse actualizado y adaptarse a un entorno empresarial en constante cambio.Enfoque en el cliente y las relaciones humanasEn su enfoque hacia las ventas y el éxito empresarial, Alex Dey pone un énfasis especial en el cliente y las relaciones humanas. Según él, el éxito duradero proviene de construir conexiones sólidas con los clientes, basadas en la confianza, el respeto y el servicio excepcional. Dey enfatiza la importancia de escuchar activamente a los clientes, comprender sus necesidades y superar sus expectativas. Para él, cada cliente es una oportunidad única de brindar un valor excepcional y dejar una impresión duradera.Conclusión:En resumen, los principios fundamentales del éxito, según Alex Dey, se basan en una mentalidad positiva, la pasión, la perseverancia, el desarrollo personal, el aprendizaje constante y el enfoque en el cliente y las relaciones humanas. A través de su vasta experiencia y conocimiento en motivación y ventas, Dey ha dejado un legado de sabiduría y estrategias que pueden ser aplicadas por cualquier persona que desee alcanzar el éxito en su vida personal y profesional. Siguiendo estos principios, podrás desbloquear tu potencial máximo y encaminarte hacia una vida llena de logros y satisfacción.Recuerda que el éxito no ocurre de la noche a la mañana, requiere tiempo, esfuerzo y dedicación. Sigue los principios de Alex Dey y no te rindas ante los desafíos que puedas encontrar en el camino. ¡Con una mentalidad positiva, pasión y perseverancia, podrás alcanzar cualquier meta que te propongas!'"
            ]
          },
          "execution_count": 7,
          "metadata": {},
          "output_type": "execute_result"
        }
      ],
      "source": [
        "coincidencia"
      ]
    },
    {
      "cell_type": "markdown",
      "metadata": {
        "id": "B6d4OyDe_nha"
      },
      "source": [
        "# 2- Preprocesamiento"
      ]
    },
    {
      "cell_type": "markdown",
      "metadata": {
        "id": "_bTVPJMYG5zp"
      },
      "source": [
        "### Muestra las stop words que tenga tu texto."
      ]
    },
    {
      "cell_type": "code",
      "execution_count": null,
      "metadata": {
        "id": "hrr0UFED4I-r"
      },
      "outputs": [],
      "source": []
    },
    {
      "cell_type": "markdown",
      "metadata": {
        "id": "-COpzC4wG8xS"
      },
      "source": []
    }
  ],
  "metadata": {
    "colab": {
      "provenance": []
    },
    "kernelspec": {
      "display_name": "base",
      "language": "python",
      "name": "python3"
    },
    "language_info": {
      "codemirror_mode": {
        "name": "ipython",
        "version": 3
      },
      "file_extension": ".py",
      "mimetype": "text/x-python",
      "name": "python",
      "nbconvert_exporter": "python",
      "pygments_lexer": "ipython3",
      "version": "3.12.4"
    }
  },
  "nbformat": 4,
  "nbformat_minor": 0
}
